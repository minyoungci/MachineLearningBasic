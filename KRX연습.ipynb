{
 "cells": [
  {
   "cell_type": "code",
   "execution_count": 24,
   "id": "8cb1e457",
   "metadata": {},
   "outputs": [],
   "source": [
    "import pandas as pd\n",
    "import matplotlib\n",
    "import FinanceDataReader as fdr \n",
    "import numpy as np\n",
    "import seaborn as sns"
   ]
  },
  {
   "cell_type": "code",
   "execution_count": 4,
   "id": "7468d100",
   "metadata": {},
   "outputs": [
    {
     "name": "stderr",
     "output_type": "stream",
     "text": [
      "100%|██████████| 4450/4450 [00:13<00:00, 317.89it/s]\n"
     ]
    }
   ],
   "source": [
    "ND = fdr.StockListing(\"NASDAQ\")"
   ]
  },
  {
   "cell_type": "code",
   "execution_count": 7,
   "id": "b06fde9e",
   "metadata": {},
   "outputs": [
    {
     "data": {
      "text/html": [
       "<div>\n",
       "<style scoped>\n",
       "    .dataframe tbody tr th:only-of-type {\n",
       "        vertical-align: middle;\n",
       "    }\n",
       "\n",
       "    .dataframe tbody tr th {\n",
       "        vertical-align: top;\n",
       "    }\n",
       "\n",
       "    .dataframe thead th {\n",
       "        text-align: right;\n",
       "    }\n",
       "</style>\n",
       "<table border=\"1\" class=\"dataframe\">\n",
       "  <thead>\n",
       "    <tr style=\"text-align: right;\">\n",
       "      <th></th>\n",
       "      <th>Symbol</th>\n",
       "      <th>Name</th>\n",
       "      <th>Industry</th>\n",
       "      <th>IndustryCode</th>\n",
       "    </tr>\n",
       "  </thead>\n",
       "  <tbody>\n",
       "    <tr>\n",
       "      <th>0</th>\n",
       "      <td>AAPL</td>\n",
       "      <td>Apple Inc</td>\n",
       "      <td>컴퓨터, 전화 및 가전제품</td>\n",
       "      <td>571060</td>\n",
       "    </tr>\n",
       "    <tr>\n",
       "      <th>1</th>\n",
       "      <td>MSFT</td>\n",
       "      <td>Microsoft Corp</td>\n",
       "      <td>소프트웨어 및 IT서비스</td>\n",
       "      <td>572010</td>\n",
       "    </tr>\n",
       "    <tr>\n",
       "      <th>2</th>\n",
       "      <td>AMZN</td>\n",
       "      <td>Amazon.com Inc</td>\n",
       "      <td>다양한 소매업</td>\n",
       "      <td>534020</td>\n",
       "    </tr>\n",
       "    <tr>\n",
       "      <th>3</th>\n",
       "      <td>TSLA</td>\n",
       "      <td>Tesla Inc</td>\n",
       "      <td>자동차 및 자동차 부품</td>\n",
       "      <td>531010</td>\n",
       "    </tr>\n",
       "    <tr>\n",
       "      <th>4</th>\n",
       "      <td>GOOGL</td>\n",
       "      <td>Alphabet Inc Class A</td>\n",
       "      <td>소프트웨어 및 IT서비스</td>\n",
       "      <td>572010</td>\n",
       "    </tr>\n",
       "  </tbody>\n",
       "</table>\n",
       "</div>"
      ],
      "text/plain": [
       "  Symbol                  Name        Industry IndustryCode\n",
       "0   AAPL             Apple Inc  컴퓨터, 전화 및 가전제품       571060\n",
       "1   MSFT        Microsoft Corp   소프트웨어 및 IT서비스       572010\n",
       "2   AMZN        Amazon.com Inc         다양한 소매업       534020\n",
       "3   TSLA             Tesla Inc    자동차 및 자동차 부품       531010\n",
       "4  GOOGL  Alphabet Inc Class A   소프트웨어 및 IT서비스       572010"
      ]
     },
     "execution_count": 7,
     "metadata": {},
     "output_type": "execute_result"
    }
   ],
   "source": [
    "ND.head()"
   ]
  },
  {
   "cell_type": "code",
   "execution_count": 9,
   "id": "bdf327fd",
   "metadata": {},
   "outputs": [
    {
     "data": {
      "text/plain": [
       "(4450, 4)"
      ]
     },
     "execution_count": 9,
     "metadata": {},
     "output_type": "execute_result"
    }
   ],
   "source": [
    "ND.shape"
   ]
  },
  {
   "cell_type": "code",
   "execution_count": 10,
   "id": "d9d73077",
   "metadata": {},
   "outputs": [
    {
     "data": {
      "text/html": [
       "<div>\n",
       "<style scoped>\n",
       "    .dataframe tbody tr th:only-of-type {\n",
       "        vertical-align: middle;\n",
       "    }\n",
       "\n",
       "    .dataframe tbody tr th {\n",
       "        vertical-align: top;\n",
       "    }\n",
       "\n",
       "    .dataframe thead th {\n",
       "        text-align: right;\n",
       "    }\n",
       "</style>\n",
       "<table border=\"1\" class=\"dataframe\">\n",
       "  <thead>\n",
       "    <tr style=\"text-align: right;\">\n",
       "      <th></th>\n",
       "      <th>Symbol</th>\n",
       "      <th>Name</th>\n",
       "      <th>Industry</th>\n",
       "      <th>IndustryCode</th>\n",
       "    </tr>\n",
       "  </thead>\n",
       "  <tbody>\n",
       "    <tr>\n",
       "      <th>count</th>\n",
       "      <td>4450</td>\n",
       "      <td>4450</td>\n",
       "      <td>4447</td>\n",
       "      <td>4447</td>\n",
       "    </tr>\n",
       "    <tr>\n",
       "      <th>unique</th>\n",
       "      <td>4450</td>\n",
       "      <td>4399</td>\n",
       "      <td>57</td>\n",
       "      <td>57</td>\n",
       "    </tr>\n",
       "    <tr>\n",
       "      <th>top</th>\n",
       "      <td>GTYH</td>\n",
       "      <td>New York Mortgage Trust Inc PRF</td>\n",
       "      <td>기타 금융업</td>\n",
       "      <td>556010</td>\n",
       "    </tr>\n",
       "    <tr>\n",
       "      <th>freq</th>\n",
       "      <td>1</td>\n",
       "      <td>6</td>\n",
       "      <td>965</td>\n",
       "      <td>965</td>\n",
       "    </tr>\n",
       "  </tbody>\n",
       "</table>\n",
       "</div>"
      ],
      "text/plain": [
       "       Symbol                             Name Industry IndustryCode\n",
       "count    4450                             4450     4447         4447\n",
       "unique   4450                             4399       57           57\n",
       "top      GTYH  New York Mortgage Trust Inc PRF   기타 금융업       556010\n",
       "freq        1                                6      965          965"
      ]
     },
     "execution_count": 10,
     "metadata": {},
     "output_type": "execute_result"
    }
   ],
   "source": [
    "ND.describe()"
   ]
  },
  {
   "cell_type": "code",
   "execution_count": 101,
   "id": "b5612993",
   "metadata": {},
   "outputs": [],
   "source": [
    "krx = fdr.StockListing(\"KRX\")"
   ]
  },
  {
   "cell_type": "code",
   "execution_count": 20,
   "id": "38548bf9",
   "metadata": {},
   "outputs": [
    {
     "data": {
      "text/plain": [
       "(7295, 10)"
      ]
     },
     "execution_count": 20,
     "metadata": {},
     "output_type": "execute_result"
    }
   ],
   "source": [
    "krx.shape"
   ]
  },
  {
   "cell_type": "code",
   "execution_count": 29,
   "id": "80b4188b",
   "metadata": {},
   "outputs": [
    {
     "data": {
      "text/html": [
       "<div>\n",
       "<style scoped>\n",
       "    .dataframe tbody tr th:only-of-type {\n",
       "        vertical-align: middle;\n",
       "    }\n",
       "\n",
       "    .dataframe tbody tr th {\n",
       "        vertical-align: top;\n",
       "    }\n",
       "\n",
       "    .dataframe thead th {\n",
       "        text-align: right;\n",
       "    }\n",
       "</style>\n",
       "<table border=\"1\" class=\"dataframe\">\n",
       "  <thead>\n",
       "    <tr style=\"text-align: right;\">\n",
       "      <th></th>\n",
       "      <th>Symbol</th>\n",
       "      <th>Market</th>\n",
       "      <th>Name</th>\n",
       "      <th>Sector</th>\n",
       "      <th>Industry</th>\n",
       "      <th>ListingDate</th>\n",
       "      <th>SettleMonth</th>\n",
       "      <th>Representative</th>\n",
       "      <th>HomePage</th>\n",
       "      <th>Region</th>\n",
       "    </tr>\n",
       "  </thead>\n",
       "  <tbody>\n",
       "    <tr>\n",
       "      <th>0</th>\n",
       "      <td>False</td>\n",
       "      <td>False</td>\n",
       "      <td>False</td>\n",
       "      <td>False</td>\n",
       "      <td>False</td>\n",
       "      <td>False</td>\n",
       "      <td>False</td>\n",
       "      <td>False</td>\n",
       "      <td>False</td>\n",
       "      <td>False</td>\n",
       "    </tr>\n",
       "    <tr>\n",
       "      <th>1</th>\n",
       "      <td>False</td>\n",
       "      <td>False</td>\n",
       "      <td>False</td>\n",
       "      <td>False</td>\n",
       "      <td>False</td>\n",
       "      <td>False</td>\n",
       "      <td>False</td>\n",
       "      <td>False</td>\n",
       "      <td>False</td>\n",
       "      <td>False</td>\n",
       "    </tr>\n",
       "    <tr>\n",
       "      <th>2</th>\n",
       "      <td>False</td>\n",
       "      <td>False</td>\n",
       "      <td>False</td>\n",
       "      <td>False</td>\n",
       "      <td>False</td>\n",
       "      <td>False</td>\n",
       "      <td>False</td>\n",
       "      <td>False</td>\n",
       "      <td>False</td>\n",
       "      <td>False</td>\n",
       "    </tr>\n",
       "    <tr>\n",
       "      <th>3</th>\n",
       "      <td>False</td>\n",
       "      <td>False</td>\n",
       "      <td>False</td>\n",
       "      <td>False</td>\n",
       "      <td>False</td>\n",
       "      <td>False</td>\n",
       "      <td>False</td>\n",
       "      <td>False</td>\n",
       "      <td>False</td>\n",
       "      <td>False</td>\n",
       "    </tr>\n",
       "    <tr>\n",
       "      <th>4</th>\n",
       "      <td>False</td>\n",
       "      <td>False</td>\n",
       "      <td>False</td>\n",
       "      <td>False</td>\n",
       "      <td>False</td>\n",
       "      <td>False</td>\n",
       "      <td>False</td>\n",
       "      <td>False</td>\n",
       "      <td>False</td>\n",
       "      <td>False</td>\n",
       "    </tr>\n",
       "    <tr>\n",
       "      <th>...</th>\n",
       "      <td>...</td>\n",
       "      <td>...</td>\n",
       "      <td>...</td>\n",
       "      <td>...</td>\n",
       "      <td>...</td>\n",
       "      <td>...</td>\n",
       "      <td>...</td>\n",
       "      <td>...</td>\n",
       "      <td>...</td>\n",
       "      <td>...</td>\n",
       "    </tr>\n",
       "    <tr>\n",
       "      <th>7290</th>\n",
       "      <td>False</td>\n",
       "      <td>False</td>\n",
       "      <td>False</td>\n",
       "      <td>False</td>\n",
       "      <td>False</td>\n",
       "      <td>False</td>\n",
       "      <td>False</td>\n",
       "      <td>False</td>\n",
       "      <td>False</td>\n",
       "      <td>False</td>\n",
       "    </tr>\n",
       "    <tr>\n",
       "      <th>7291</th>\n",
       "      <td>False</td>\n",
       "      <td>False</td>\n",
       "      <td>False</td>\n",
       "      <td>False</td>\n",
       "      <td>False</td>\n",
       "      <td>False</td>\n",
       "      <td>False</td>\n",
       "      <td>False</td>\n",
       "      <td>False</td>\n",
       "      <td>False</td>\n",
       "    </tr>\n",
       "    <tr>\n",
       "      <th>7292</th>\n",
       "      <td>False</td>\n",
       "      <td>False</td>\n",
       "      <td>False</td>\n",
       "      <td>False</td>\n",
       "      <td>False</td>\n",
       "      <td>False</td>\n",
       "      <td>False</td>\n",
       "      <td>False</td>\n",
       "      <td>False</td>\n",
       "      <td>False</td>\n",
       "    </tr>\n",
       "    <tr>\n",
       "      <th>7293</th>\n",
       "      <td>False</td>\n",
       "      <td>False</td>\n",
       "      <td>False</td>\n",
       "      <td>False</td>\n",
       "      <td>False</td>\n",
       "      <td>False</td>\n",
       "      <td>False</td>\n",
       "      <td>False</td>\n",
       "      <td>False</td>\n",
       "      <td>False</td>\n",
       "    </tr>\n",
       "    <tr>\n",
       "      <th>7294</th>\n",
       "      <td>False</td>\n",
       "      <td>False</td>\n",
       "      <td>False</td>\n",
       "      <td>False</td>\n",
       "      <td>False</td>\n",
       "      <td>False</td>\n",
       "      <td>False</td>\n",
       "      <td>False</td>\n",
       "      <td>False</td>\n",
       "      <td>False</td>\n",
       "    </tr>\n",
       "  </tbody>\n",
       "</table>\n",
       "<p>7295 rows × 10 columns</p>\n",
       "</div>"
      ],
      "text/plain": [
       "      Symbol  Market   Name  Sector  Industry  ListingDate  SettleMonth  \\\n",
       "0      False   False  False   False     False        False        False   \n",
       "1      False   False  False   False     False        False        False   \n",
       "2      False   False  False   False     False        False        False   \n",
       "3      False   False  False   False     False        False        False   \n",
       "4      False   False  False   False     False        False        False   \n",
       "...      ...     ...    ...     ...       ...          ...          ...   \n",
       "7290   False   False  False   False     False        False        False   \n",
       "7291   False   False  False   False     False        False        False   \n",
       "7292   False   False  False   False     False        False        False   \n",
       "7293   False   False  False   False     False        False        False   \n",
       "7294   False   False  False   False     False        False        False   \n",
       "\n",
       "      Representative  HomePage  Region  \n",
       "0              False     False   False  \n",
       "1              False     False   False  \n",
       "2              False     False   False  \n",
       "3              False     False   False  \n",
       "4              False     False   False  \n",
       "...              ...       ...     ...  \n",
       "7290           False     False   False  \n",
       "7291           False     False   False  \n",
       "7292           False     False   False  \n",
       "7293           False     False   False  \n",
       "7294           False     False   False  \n",
       "\n",
       "[7295 rows x 10 columns]"
      ]
     },
     "execution_count": 29,
     "metadata": {},
     "output_type": "execute_result"
    }
   ],
   "source": [
    "krx == krx.nunique()"
   ]
  },
  {
   "cell_type": "code",
   "execution_count": 30,
   "id": "bf4ab459",
   "metadata": {},
   "outputs": [
    {
     "name": "stderr",
     "output_type": "stream",
     "text": [
      "<ipython-input-30-9b8850ed5d22>:1: FutureWarning: Treating datetime data as categorical rather than numeric in `.describe` is deprecated and will be removed in a future version of pandas. Specify `datetime_is_numeric=True` to silence this warning and adopt the future behavior now.\n",
      "  krx.describe()\n"
     ]
    },
    {
     "data": {
      "text/html": [
       "<div>\n",
       "<style scoped>\n",
       "    .dataframe tbody tr th:only-of-type {\n",
       "        vertical-align: middle;\n",
       "    }\n",
       "\n",
       "    .dataframe tbody tr th {\n",
       "        vertical-align: top;\n",
       "    }\n",
       "\n",
       "    .dataframe thead th {\n",
       "        text-align: right;\n",
       "    }\n",
       "</style>\n",
       "<table border=\"1\" class=\"dataframe\">\n",
       "  <thead>\n",
       "    <tr style=\"text-align: right;\">\n",
       "      <th></th>\n",
       "      <th>Symbol</th>\n",
       "      <th>Market</th>\n",
       "      <th>Name</th>\n",
       "      <th>Sector</th>\n",
       "      <th>Industry</th>\n",
       "      <th>ListingDate</th>\n",
       "      <th>SettleMonth</th>\n",
       "      <th>Representative</th>\n",
       "      <th>HomePage</th>\n",
       "      <th>Region</th>\n",
       "    </tr>\n",
       "  </thead>\n",
       "  <tbody>\n",
       "    <tr>\n",
       "      <th>count</th>\n",
       "      <td>7295</td>\n",
       "      <td>7295</td>\n",
       "      <td>7295</td>\n",
       "      <td>2485</td>\n",
       "      <td>2467</td>\n",
       "      <td>2485</td>\n",
       "      <td>2485</td>\n",
       "      <td>2485</td>\n",
       "      <td>2336</td>\n",
       "      <td>2485</td>\n",
       "    </tr>\n",
       "    <tr>\n",
       "      <th>unique</th>\n",
       "      <td>7295</td>\n",
       "      <td>3</td>\n",
       "      <td>7279</td>\n",
       "      <td>161</td>\n",
       "      <td>2313</td>\n",
       "      <td>1840</td>\n",
       "      <td>9</td>\n",
       "      <td>2360</td>\n",
       "      <td>2314</td>\n",
       "      <td>22</td>\n",
       "    </tr>\n",
       "    <tr>\n",
       "      <th>top</th>\n",
       "      <td>58GN57</td>\n",
       "      <td>KOSPI</td>\n",
       "      <td>DIC</td>\n",
       "      <td>소프트웨어 개발 및 공급업</td>\n",
       "      <td>기업인수합병</td>\n",
       "      <td>1996-07-03 00:00:00</td>\n",
       "      <td>12월</td>\n",
       "      <td>-</td>\n",
       "      <td>http://www.se-won.co.kr</td>\n",
       "      <td>서울특별시</td>\n",
       "    </tr>\n",
       "    <tr>\n",
       "      <th>freq</th>\n",
       "      <td>1</td>\n",
       "      <td>5612</td>\n",
       "      <td>3</td>\n",
       "      <td>152</td>\n",
       "      <td>26</td>\n",
       "      <td>8</td>\n",
       "      <td>2423</td>\n",
       "      <td>5</td>\n",
       "      <td>2</td>\n",
       "      <td>1011</td>\n",
       "    </tr>\n",
       "    <tr>\n",
       "      <th>first</th>\n",
       "      <td>NaN</td>\n",
       "      <td>NaN</td>\n",
       "      <td>NaN</td>\n",
       "      <td>NaN</td>\n",
       "      <td>NaN</td>\n",
       "      <td>1956-03-03 00:00:00</td>\n",
       "      <td>NaN</td>\n",
       "      <td>NaN</td>\n",
       "      <td>NaN</td>\n",
       "      <td>NaN</td>\n",
       "    </tr>\n",
       "    <tr>\n",
       "      <th>last</th>\n",
       "      <td>NaN</td>\n",
       "      <td>NaN</td>\n",
       "      <td>NaN</td>\n",
       "      <td>NaN</td>\n",
       "      <td>NaN</td>\n",
       "      <td>2021-12-30 00:00:00</td>\n",
       "      <td>NaN</td>\n",
       "      <td>NaN</td>\n",
       "      <td>NaN</td>\n",
       "      <td>NaN</td>\n",
       "    </tr>\n",
       "  </tbody>\n",
       "</table>\n",
       "</div>"
      ],
      "text/plain": [
       "        Symbol Market  Name          Sector Industry          ListingDate  \\\n",
       "count     7295   7295  7295            2485     2467                 2485   \n",
       "unique    7295      3  7279             161     2313                 1840   \n",
       "top     58GN57  KOSPI   DIC  소프트웨어 개발 및 공급업   기업인수합병  1996-07-03 00:00:00   \n",
       "freq         1   5612     3             152       26                    8   \n",
       "first      NaN    NaN   NaN             NaN      NaN  1956-03-03 00:00:00   \n",
       "last       NaN    NaN   NaN             NaN      NaN  2021-12-30 00:00:00   \n",
       "\n",
       "       SettleMonth Representative                 HomePage Region  \n",
       "count         2485           2485                     2336   2485  \n",
       "unique           9           2360                     2314     22  \n",
       "top            12월              -  http://www.se-won.co.kr  서울특별시  \n",
       "freq          2423              5                        2   1011  \n",
       "first          NaN            NaN                      NaN    NaN  \n",
       "last           NaN            NaN                      NaN    NaN  "
      ]
     },
     "execution_count": 30,
     "metadata": {},
     "output_type": "execute_result"
    }
   ],
   "source": [
    "krx.describe()"
   ]
  },
  {
   "cell_type": "code",
   "execution_count": 31,
   "id": "ca74a3e3",
   "metadata": {},
   "outputs": [
    {
     "name": "stdout",
     "output_type": "stream",
     "text": [
      "<class 'pandas.core.frame.DataFrame'>\n",
      "Int64Index: 7295 entries, 0 to 7294\n",
      "Data columns (total 10 columns):\n",
      " #   Column          Non-Null Count  Dtype         \n",
      "---  ------          --------------  -----         \n",
      " 0   Symbol          7295 non-null   object        \n",
      " 1   Market          7295 non-null   object        \n",
      " 2   Name            7295 non-null   object        \n",
      " 3   Sector          2485 non-null   object        \n",
      " 4   Industry        2467 non-null   object        \n",
      " 5   ListingDate     2485 non-null   datetime64[ns]\n",
      " 6   SettleMonth     2485 non-null   object        \n",
      " 7   Representative  2485 non-null   object        \n",
      " 8   HomePage        2336 non-null   object        \n",
      " 9   Region          2485 non-null   object        \n",
      "dtypes: datetime64[ns](1), object(9)\n",
      "memory usage: 626.9+ KB\n"
     ]
    }
   ],
   "source": [
    "krx.info()"
   ]
  },
  {
   "cell_type": "code",
   "execution_count": 34,
   "id": "5259e1cc",
   "metadata": {},
   "outputs": [
    {
     "data": {
      "text/plain": [
       "Index(['Symbol', 'Market', 'Name', 'Sector', 'Industry', 'ListingDate',\n",
       "       'SettleMonth', 'Representative', 'HomePage', 'Region'],\n",
       "      dtype='object')"
      ]
     },
     "execution_count": 34,
     "metadata": {},
     "output_type": "execute_result"
    }
   ],
   "source": [
    "krx.columns"
   ]
  },
  {
   "cell_type": "code",
   "execution_count": 36,
   "id": "57e9caed",
   "metadata": {},
   "outputs": [
    {
     "data": {
      "text/plain": [
       "array([['159580', 'KOSDAQ', '0TO7', ..., '김정민, 이충하 (각자 대표이사)',\n",
       "        'http://www.0to7.com', '서울특별시'],\n",
       "       ['270020', 'KONEX', '21store', ..., '강두원',\n",
       "        'http://www.21stone.co.kr', '강원도'],\n",
       "       ['060310', 'KOSDAQ', '3S KOREA', ..., '박종익, 김세완 (각자 대표이사)',\n",
       "        'http://www.3sref.com', '서울특별시'],\n",
       "       ...,\n",
       "       ['069410', 'KOSDAQ', 'nTels', ..., '최영래', 'http://www.ntels.com',\n",
       "        '서울특별시'],\n",
       "       ['027970', 'KOSPI', 'seha', ..., '이제선, 안재호',\n",
       "        'http://www.seha.co.kr', '대구광역시'],\n",
       "       ['365270', 'KOSDAQ', 'the curacle', ..., '유재현',\n",
       "        'http://www.curacle.com', '경기도']], dtype=object)"
      ]
     },
     "execution_count": 36,
     "metadata": {},
     "output_type": "execute_result"
    }
   ],
   "source": [
    "krx.values"
   ]
  },
  {
   "cell_type": "code",
   "execution_count": 39,
   "id": "859104ac",
   "metadata": {},
   "outputs": [
    {
     "data": {
      "text/plain": [
       "0               0TO7\n",
       "1            21store\n",
       "2           3S KOREA\n",
       "3       A ONE ALFORM\n",
       "4       A Plus Asset\n",
       "            ...     \n",
       "7290    megastudyEdu\n",
       "7291           mplus\n",
       "7292           nTels\n",
       "7293            seha\n",
       "7294     the curacle\n",
       "Name: Name, Length: 7295, dtype: object"
      ]
     },
     "execution_count": 39,
     "metadata": {},
     "output_type": "execute_result"
    }
   ],
   "source": [
    "krx.Name"
   ]
  },
  {
   "cell_type": "code",
   "execution_count": 41,
   "id": "677c215e",
   "metadata": {},
   "outputs": [
    {
     "data": {
      "text/plain": [
       "pandas.core.frame.DataFrame"
      ]
     },
     "execution_count": 41,
     "metadata": {},
     "output_type": "execute_result"
    }
   ],
   "source": [
    "type(krx)"
   ]
  },
  {
   "cell_type": "code",
   "execution_count": 46,
   "id": "e0ded3f1",
   "metadata": {},
   "outputs": [
    {
     "data": {
      "text/html": [
       "<div>\n",
       "<style scoped>\n",
       "    .dataframe tbody tr th:only-of-type {\n",
       "        vertical-align: middle;\n",
       "    }\n",
       "\n",
       "    .dataframe tbody tr th {\n",
       "        vertical-align: top;\n",
       "    }\n",
       "\n",
       "    .dataframe thead th {\n",
       "        text-align: right;\n",
       "    }\n",
       "</style>\n",
       "<table border=\"1\" class=\"dataframe\">\n",
       "  <thead>\n",
       "    <tr style=\"text-align: right;\">\n",
       "      <th></th>\n",
       "      <th>Name</th>\n",
       "    </tr>\n",
       "  </thead>\n",
       "  <tbody>\n",
       "    <tr>\n",
       "      <th>0</th>\n",
       "      <td>0TO7</td>\n",
       "    </tr>\n",
       "    <tr>\n",
       "      <th>1</th>\n",
       "      <td>21store</td>\n",
       "    </tr>\n",
       "    <tr>\n",
       "      <th>2</th>\n",
       "      <td>3S KOREA</td>\n",
       "    </tr>\n",
       "    <tr>\n",
       "      <th>3</th>\n",
       "      <td>A ONE ALFORM</td>\n",
       "    </tr>\n",
       "    <tr>\n",
       "      <th>4</th>\n",
       "      <td>A Plus Asset</td>\n",
       "    </tr>\n",
       "    <tr>\n",
       "      <th>...</th>\n",
       "      <td>...</td>\n",
       "    </tr>\n",
       "    <tr>\n",
       "      <th>7290</th>\n",
       "      <td>megastudyEdu</td>\n",
       "    </tr>\n",
       "    <tr>\n",
       "      <th>7291</th>\n",
       "      <td>mplus</td>\n",
       "    </tr>\n",
       "    <tr>\n",
       "      <th>7292</th>\n",
       "      <td>nTels</td>\n",
       "    </tr>\n",
       "    <tr>\n",
       "      <th>7293</th>\n",
       "      <td>seha</td>\n",
       "    </tr>\n",
       "    <tr>\n",
       "      <th>7294</th>\n",
       "      <td>the curacle</td>\n",
       "    </tr>\n",
       "  </tbody>\n",
       "</table>\n",
       "<p>7295 rows × 1 columns</p>\n",
       "</div>"
      ],
      "text/plain": [
       "              Name\n",
       "0             0TO7\n",
       "1          21store\n",
       "2         3S KOREA\n",
       "3     A ONE ALFORM\n",
       "4     A Plus Asset\n",
       "...            ...\n",
       "7290  megastudyEdu\n",
       "7291         mplus\n",
       "7292         nTels\n",
       "7293          seha\n",
       "7294   the curacle\n",
       "\n",
       "[7295 rows x 1 columns]"
      ]
     },
     "execution_count": 46,
     "metadata": {},
     "output_type": "execute_result"
    }
   ],
   "source": [
    "krx[[\"Name\"]]"
   ]
  },
  {
   "cell_type": "code",
   "execution_count": 47,
   "id": "b5f5f630",
   "metadata": {},
   "outputs": [
    {
     "data": {
      "text/html": [
       "<div>\n",
       "<style scoped>\n",
       "    .dataframe tbody tr th:only-of-type {\n",
       "        vertical-align: middle;\n",
       "    }\n",
       "\n",
       "    .dataframe tbody tr th {\n",
       "        vertical-align: top;\n",
       "    }\n",
       "\n",
       "    .dataframe thead th {\n",
       "        text-align: right;\n",
       "    }\n",
       "</style>\n",
       "<table border=\"1\" class=\"dataframe\">\n",
       "  <thead>\n",
       "    <tr style=\"text-align: right;\">\n",
       "      <th></th>\n",
       "      <th>Market</th>\n",
       "    </tr>\n",
       "  </thead>\n",
       "  <tbody>\n",
       "    <tr>\n",
       "      <th>0</th>\n",
       "      <td>KOSDAQ</td>\n",
       "    </tr>\n",
       "    <tr>\n",
       "      <th>1</th>\n",
       "      <td>KONEX</td>\n",
       "    </tr>\n",
       "    <tr>\n",
       "      <th>2</th>\n",
       "      <td>KOSDAQ</td>\n",
       "    </tr>\n",
       "    <tr>\n",
       "      <th>3</th>\n",
       "      <td>KONEX</td>\n",
       "    </tr>\n",
       "    <tr>\n",
       "      <th>4</th>\n",
       "      <td>KOSPI</td>\n",
       "    </tr>\n",
       "    <tr>\n",
       "      <th>...</th>\n",
       "      <td>...</td>\n",
       "    </tr>\n",
       "    <tr>\n",
       "      <th>7290</th>\n",
       "      <td>KOSDAQ</td>\n",
       "    </tr>\n",
       "    <tr>\n",
       "      <th>7291</th>\n",
       "      <td>KOSDAQ</td>\n",
       "    </tr>\n",
       "    <tr>\n",
       "      <th>7292</th>\n",
       "      <td>KOSDAQ</td>\n",
       "    </tr>\n",
       "    <tr>\n",
       "      <th>7293</th>\n",
       "      <td>KOSPI</td>\n",
       "    </tr>\n",
       "    <tr>\n",
       "      <th>7294</th>\n",
       "      <td>KOSDAQ</td>\n",
       "    </tr>\n",
       "  </tbody>\n",
       "</table>\n",
       "<p>7295 rows × 1 columns</p>\n",
       "</div>"
      ],
      "text/plain": [
       "      Market\n",
       "0     KOSDAQ\n",
       "1      KONEX\n",
       "2     KOSDAQ\n",
       "3      KONEX\n",
       "4      KOSPI\n",
       "...      ...\n",
       "7290  KOSDAQ\n",
       "7291  KOSDAQ\n",
       "7292  KOSDAQ\n",
       "7293   KOSPI\n",
       "7294  KOSDAQ\n",
       "\n",
       "[7295 rows x 1 columns]"
      ]
     },
     "execution_count": 47,
     "metadata": {},
     "output_type": "execute_result"
    }
   ],
   "source": [
    "krx[[\"Market\"]]"
   ]
  },
  {
   "cell_type": "code",
   "execution_count": 50,
   "id": "937a0d4d",
   "metadata": {},
   "outputs": [
    {
     "data": {
      "text/plain": [
       "'21store'"
      ]
     },
     "execution_count": 50,
     "metadata": {},
     "output_type": "execute_result"
    }
   ],
   "source": [
    "krx.loc[1,\"Name\"]"
   ]
  },
  {
   "cell_type": "code",
   "execution_count": 52,
   "id": "d35764ad",
   "metadata": {},
   "outputs": [
    {
     "data": {
      "text/plain": [
       "1     21store\n",
       "2    3S KOREA\n",
       "Name: Name, dtype: object"
      ]
     },
     "execution_count": 52,
     "metadata": {},
     "output_type": "execute_result"
    }
   ],
   "source": [
    "krx.loc[[1,2],\"Name\"]"
   ]
  },
  {
   "cell_type": "code",
   "execution_count": 54,
   "id": "00706f8d",
   "metadata": {},
   "outputs": [
    {
     "data": {
      "text/html": [
       "<div>\n",
       "<style scoped>\n",
       "    .dataframe tbody tr th:only-of-type {\n",
       "        vertical-align: middle;\n",
       "    }\n",
       "\n",
       "    .dataframe tbody tr th {\n",
       "        vertical-align: top;\n",
       "    }\n",
       "\n",
       "    .dataframe thead th {\n",
       "        text-align: right;\n",
       "    }\n",
       "</style>\n",
       "<table border=\"1\" class=\"dataframe\">\n",
       "  <thead>\n",
       "    <tr style=\"text-align: right;\">\n",
       "      <th></th>\n",
       "      <th>Symbol</th>\n",
       "      <th>Market</th>\n",
       "      <th>Name</th>\n",
       "      <th>Sector</th>\n",
       "      <th>Industry</th>\n",
       "      <th>ListingDate</th>\n",
       "      <th>SettleMonth</th>\n",
       "      <th>Representative</th>\n",
       "      <th>HomePage</th>\n",
       "      <th>Region</th>\n",
       "    </tr>\n",
       "  </thead>\n",
       "  <tbody>\n",
       "    <tr>\n",
       "      <th>5719</th>\n",
       "      <td>035420</td>\n",
       "      <td>KOSPI</td>\n",
       "      <td>NAVER</td>\n",
       "      <td>자료처리, 호스팅, 포털 및 기타 인터넷 정보매개 서비스업</td>\n",
       "      <td>포털 서비스 및 온라인 광고</td>\n",
       "      <td>2008-11-28</td>\n",
       "      <td>12월</td>\n",
       "      <td>한성숙</td>\n",
       "      <td>http://www.navercorp.com</td>\n",
       "      <td>경기도</td>\n",
       "    </tr>\n",
       "  </tbody>\n",
       "</table>\n",
       "</div>"
      ],
      "text/plain": [
       "      Symbol Market   Name                            Sector         Industry  \\\n",
       "5719  035420  KOSPI  NAVER  자료처리, 호스팅, 포털 및 기타 인터넷 정보매개 서비스업  포털 서비스 및 온라인 광고   \n",
       "\n",
       "     ListingDate SettleMonth Representative                  HomePage Region  \n",
       "5719  2008-11-28         12월            한성숙  http://www.navercorp.com    경기도  "
      ]
     },
     "execution_count": 54,
     "metadata": {},
     "output_type": "execute_result"
    }
   ],
   "source": [
    "krx[krx[\"Name\"]==\"NAVER\"]"
   ]
  },
  {
   "cell_type": "code",
   "execution_count": 61,
   "id": "95df9c8b",
   "metadata": {},
   "outputs": [
    {
     "data": {
      "text/html": [
       "<div>\n",
       "<style scoped>\n",
       "    .dataframe tbody tr th:only-of-type {\n",
       "        vertical-align: middle;\n",
       "    }\n",
       "\n",
       "    .dataframe tbody tr th {\n",
       "        vertical-align: top;\n",
       "    }\n",
       "\n",
       "    .dataframe thead th {\n",
       "        text-align: right;\n",
       "    }\n",
       "</style>\n",
       "<table border=\"1\" class=\"dataframe\">\n",
       "  <thead>\n",
       "    <tr style=\"text-align: right;\">\n",
       "      <th></th>\n",
       "      <th>Name</th>\n",
       "      <th>Symbol</th>\n",
       "    </tr>\n",
       "  </thead>\n",
       "  <tbody>\n",
       "  </tbody>\n",
       "</table>\n",
       "</div>"
      ],
      "text/plain": [
       "Empty DataFrame\n",
       "Columns: [Name, Symbol]\n",
       "Index: []"
      ]
     },
     "execution_count": 61,
     "metadata": {},
     "output_type": "execute_result"
    }
   ],
   "source": [
    "KDO = krx[\"Region\"] == \"경기도\"\n",
    "SEU = krx[\"Region\"] == \"서울특별시\"\n",
    "\n",
    "krx.loc[SEU & KDO , [\"Name\",\"Symbol\"]]"
   ]
  },
  {
   "cell_type": "code",
   "execution_count": 135,
   "id": "19640d10",
   "metadata": {},
   "outputs": [],
   "source": [
    "def get_font_family():\n",
    "    \"\"\"\n",
    "    시스템 환경에 따른 기본 폰트명을 반환하는 함수\n",
    "    \"\"\"\n",
    "    import platform\n",
    "    system_name = platform.system()\n",
    "    # colab 사용자는 system_name이 'Linux'로 확인\n",
    "\n",
    "    if system_name == \"Darwin\" :\n",
    "        font_family = \"AppleGothic\"\n",
    "    elif system_name == \"Windows\":\n",
    "        font_family = \"Malgun Gothic\"\n",
    "    else:\n",
    "        !apt-get install fonts-nanum -qq  > /dev/null\n",
    "        !fc-cache -fv\n",
    "\n",
    "        import matplotlib as mpl\n",
    "        mpl.font_manager._rebuild()\n",
    "        findfont = mpl.font_manager.fontManager.findfont\n",
    "        mpl.font_manager.findfont = findfont\n",
    "        mpl.backends.backend_agg.findfont = findfont\n",
    "        \n",
    "        font_family = \"NanumBarunGothic\"\n",
    "    return font_family"
   ]
  },
  {
   "cell_type": "code",
   "execution_count": 136,
   "id": "7b8a41bb",
   "metadata": {},
   "outputs": [
    {
     "data": {
      "text/plain": [
       "'AppleGothic'"
      ]
     },
     "execution_count": 136,
     "metadata": {},
     "output_type": "execute_result"
    }
   ],
   "source": [
    "get_font_family()"
   ]
  },
  {
   "cell_type": "code",
   "execution_count": 66,
   "id": "afe46a13",
   "metadata": {},
   "outputs": [
    {
     "data": {
      "text/plain": [
       "array(['KOSDAQ', 'KONEX', 'KOSPI'], dtype=object)"
      ]
     },
     "execution_count": 66,
     "metadata": {},
     "output_type": "execute_result"
    }
   ],
   "source": [
    "krx[\"Market\"].unique()"
   ]
  },
  {
   "cell_type": "code",
   "execution_count": 68,
   "id": "378ccbba",
   "metadata": {},
   "outputs": [
    {
     "data": {
      "text/plain": [
       "KOSPI     5612\n",
       "KOSDAQ    1552\n",
       "KONEX      131\n",
       "Name: Market, dtype: int64"
      ]
     },
     "execution_count": 68,
     "metadata": {},
     "output_type": "execute_result"
    }
   ],
   "source": [
    "krx[\"Market\"].value_counts()"
   ]
  },
  {
   "cell_type": "code",
   "execution_count": 76,
   "id": "f848b01b",
   "metadata": {},
   "outputs": [
    {
     "data": {
      "text/plain": [
       "<AxesSubplot:>"
      ]
     },
     "execution_count": 76,
     "metadata": {},
     "output_type": "execute_result"
    },
    {
     "data": {
      "image/png": "[encoded data removed]",
      "text/plain": [
       "<Figure size 432x288 with 1 Axes>"
      ]
     },
     "metadata": {
      "needs_background": "light"
     },
     "output_type": "display_data"
    }
   ],
   "source": [
    "krx[\"Market\"].value_counts().plot.barh()"
   ]
  },
  {
   "cell_type": "code",
   "execution_count": 78,
   "id": "0604c857",
   "metadata": {},
   "outputs": [
    {
     "data": {
      "text/plain": [
       "Symbol            7295\n",
       "Market               3\n",
       "Name              7279\n",
       "Sector             161\n",
       "Industry          2313\n",
       "ListingDate       1840\n",
       "SettleMonth          9\n",
       "Representative    2360\n",
       "HomePage          2314\n",
       "Region              22\n",
       "dtype: int64"
      ]
     },
     "execution_count": 78,
     "metadata": {},
     "output_type": "execute_result"
    }
   ],
   "source": [
    "krx.nunique()"
   ]
  },
  {
   "cell_type": "code",
   "execution_count": 81,
   "id": "65982a2a",
   "metadata": {},
   "outputs": [
    {
     "data": {
      "text/plain": [
       "Symbol  Market  Name                  Sector                            Industry                                                     ListingDate  SettleMonth  Representative     HomePage                      Region\n",
       "000020  KOSPI   DongwhaPharm          의약품 제조업                           의약품 제조,판매,수출입                                                1976-03-24   12월          유준하                http://www.dong-wha.co.kr     서울특별시     1\n",
       "120030  KOSPI   CHOSUN WELDING        기타 금속 가공제품 제조업                    용접재료                                                         2010-02-19   12월          임규섭                http://www.chosunwelding.com  경상북도      1\n",
       "123410  KOSDAQ  KFTC                  자동차 신품 부품 제조업                     캐니스터,플라스틱필러넥,의장부품                                            2010-08-27   12월          오원석, 김재산(각자 대표이사)  http://www.kftec.com          경기도       1\n",
       "123420  KOSDAQ  SundayToz             소프트웨어 개발 및 공급업                    모바일게임                                                        2010-11-10   12월          김정섭                http://corp.sundaytoz.com     경기도       1\n",
       "123570  KOSDAQ  EMNET                 광고업                               온라인 검색광고 대행                                                  2011-11-25   12월          김영원                http://www.emnet.co.kr        서울특별시     1\n",
       "                                                                                                                                                                                                                         ..\n",
       "037230  KOSDAQ  HKPAK                 골판지, 종이 상자 및 종이용기 제조업             카톤팩                                                          1999-12-21   12월          이명신, 이우진           http://www.hkpak.co.kr        경기도       1\n",
       "037270  KOSPI   YGP                   자료처리, 호스팅, 포털 및 기타 인터넷 정보매개 서비스업  광고대행,광고물 제작                                                  2003-08-01   12월          최성준                http://www.ygplus.com         서울특별시     1\n",
       "037330  KOSDAQ  INZI DISPLAY          전자부품 제조업                          TFT-LCDCHASSIS,TFT-LCDLAMPREFLECTOR,ICLEADFRAME,TRLEADFRAME  1999-12-14   12월          정구용,김용구,정혜승        http://www.inzidisplay.co.kr  경기도       1\n",
       "037350  KOSDAQ  SUNGDO ENG            건축기술, 엔지니어링 및 관련 기술 서비스업          반도체크린룸 시공, 반도체장비제조                                           2000-01-11   12월          서인수, 강창열(각자대표이사)   http://www.sungdokorea.com    서울특별시     1\n",
       "950220  KOSDAQ  NeoImmuneTech(Reg.S)  자연과학 및 공학 연구개발업                   면역항암제                                                        2021-03-16   12월          양세환                http://neoimmunetech.co.kr    미국        1\n",
       "Length: 2324, dtype: int64"
      ]
     },
     "execution_count": 81,
     "metadata": {},
     "output_type": "execute_result"
    }
   ],
   "source": [
    "krx.value_counts()"
   ]
  },
  {
   "cell_type": "code",
   "execution_count": 83,
   "id": "e01573b5",
   "metadata": {},
   "outputs": [
    {
     "data": {
      "text/plain": [
       "0               0TO7\n",
       "1            21store\n",
       "2           3S KOREA\n",
       "3       A ONE ALFORM\n",
       "4       A Plus Asset\n",
       "            ...     \n",
       "7290    megastudyEdu\n",
       "7291           mplus\n",
       "7292           nTels\n",
       "7293            seha\n",
       "7294     the curacle\n",
       "Name: Name, Length: 7295, dtype: object"
      ]
     },
     "execution_count": 83,
     "metadata": {},
     "output_type": "execute_result"
    }
   ],
   "source": [
    "krx.Name"
   ]
  },
  {
   "cell_type": "code",
   "execution_count": 87,
   "id": "651cbbb2",
   "metadata": {},
   "outputs": [
    {
     "data": {
      "text/plain": [
       "Symbol                          060310\n",
       "Market                          KOSDAQ\n",
       "Name                          3S KOREA\n",
       "Sector                        전자부품 제조업\n",
       "Industry                   반도체 웨이퍼 캐리어\n",
       "ListingDate        2002-04-23 00:00:00\n",
       "SettleMonth                        03월\n",
       "Representative      박종익, 김세완 (각자 대표이사)\n",
       "HomePage          http://www.3sref.com\n",
       "Region                           서울특별시\n",
       "Name: 2, dtype: object"
      ]
     },
     "execution_count": 87,
     "metadata": {},
     "output_type": "execute_result"
    }
   ],
   "source": [
    "krx.loc[2]"
   ]
  },
  {
   "cell_type": "code",
   "execution_count": 88,
   "id": "888c9ba9",
   "metadata": {},
   "outputs": [
    {
     "data": {
      "text/plain": [
       "pandas.core.frame.DataFrame"
      ]
     },
     "execution_count": 88,
     "metadata": {},
     "output_type": "execute_result"
    }
   ],
   "source": [
    "type(krx)"
   ]
  },
  {
   "cell_type": "code",
   "execution_count": 94,
   "id": "22e5597c",
   "metadata": {},
   "outputs": [
    {
     "data": {
      "text/html": [
       "<div>\n",
       "<style scoped>\n",
       "    .dataframe tbody tr th:only-of-type {\n",
       "        vertical-align: middle;\n",
       "    }\n",
       "\n",
       "    .dataframe tbody tr th {\n",
       "        vertical-align: top;\n",
       "    }\n",
       "\n",
       "    .dataframe thead th {\n",
       "        text-align: right;\n",
       "    }\n",
       "</style>\n",
       "<table border=\"1\" class=\"dataframe\">\n",
       "  <thead>\n",
       "    <tr style=\"text-align: right;\">\n",
       "      <th></th>\n",
       "      <th>Name</th>\n",
       "      <th>Symbol</th>\n",
       "    </tr>\n",
       "  </thead>\n",
       "  <tbody>\n",
       "    <tr>\n",
       "      <th>0</th>\n",
       "      <td>0TO7</td>\n",
       "      <td>159580</td>\n",
       "    </tr>\n",
       "    <tr>\n",
       "      <th>1</th>\n",
       "      <td>21store</td>\n",
       "      <td>270020</td>\n",
       "    </tr>\n",
       "    <tr>\n",
       "      <th>2</th>\n",
       "      <td>3S KOREA</td>\n",
       "      <td>060310</td>\n",
       "    </tr>\n",
       "    <tr>\n",
       "      <th>3</th>\n",
       "      <td>A ONE ALFORM</td>\n",
       "      <td>234070</td>\n",
       "    </tr>\n",
       "    <tr>\n",
       "      <th>4</th>\n",
       "      <td>A Plus Asset</td>\n",
       "      <td>244920</td>\n",
       "    </tr>\n",
       "    <tr>\n",
       "      <th>...</th>\n",
       "      <td>...</td>\n",
       "      <td>...</td>\n",
       "    </tr>\n",
       "    <tr>\n",
       "      <th>7290</th>\n",
       "      <td>megastudyEdu</td>\n",
       "      <td>215200</td>\n",
       "    </tr>\n",
       "    <tr>\n",
       "      <th>7291</th>\n",
       "      <td>mplus</td>\n",
       "      <td>259630</td>\n",
       "    </tr>\n",
       "    <tr>\n",
       "      <th>7292</th>\n",
       "      <td>nTels</td>\n",
       "      <td>069410</td>\n",
       "    </tr>\n",
       "    <tr>\n",
       "      <th>7293</th>\n",
       "      <td>seha</td>\n",
       "      <td>027970</td>\n",
       "    </tr>\n",
       "    <tr>\n",
       "      <th>7294</th>\n",
       "      <td>the curacle</td>\n",
       "      <td>365270</td>\n",
       "    </tr>\n",
       "  </tbody>\n",
       "</table>\n",
       "<p>7295 rows × 2 columns</p>\n",
       "</div>"
      ],
      "text/plain": [
       "              Name  Symbol\n",
       "0             0TO7  159580\n",
       "1          21store  270020\n",
       "2         3S KOREA  060310\n",
       "3     A ONE ALFORM  234070\n",
       "4     A Plus Asset  244920\n",
       "...            ...     ...\n",
       "7290  megastudyEdu  215200\n",
       "7291         mplus  259630\n",
       "7292         nTels  069410\n",
       "7293          seha  027970\n",
       "7294   the curacle  365270\n",
       "\n",
       "[7295 rows x 2 columns]"
      ]
     },
     "execution_count": 94,
     "metadata": {},
     "output_type": "execute_result"
    }
   ],
   "source": [
    "krx[[\"Name\", \"Symbol\"]]"
   ]
  },
  {
   "cell_type": "code",
   "execution_count": 96,
   "id": "ad86e568",
   "metadata": {},
   "outputs": [
    {
     "data": {
      "text/html": [
       "<div>\n",
       "<style scoped>\n",
       "    .dataframe tbody tr th:only-of-type {\n",
       "        vertical-align: middle;\n",
       "    }\n",
       "\n",
       "    .dataframe tbody tr th {\n",
       "        vertical-align: top;\n",
       "    }\n",
       "\n",
       "    .dataframe thead th {\n",
       "        text-align: right;\n",
       "    }\n",
       "</style>\n",
       "<table border=\"1\" class=\"dataframe\">\n",
       "  <thead>\n",
       "    <tr style=\"text-align: right;\">\n",
       "      <th></th>\n",
       "      <th>Name</th>\n",
       "    </tr>\n",
       "  </thead>\n",
       "  <tbody>\n",
       "    <tr>\n",
       "      <th>0</th>\n",
       "      <td>0TO7</td>\n",
       "    </tr>\n",
       "    <tr>\n",
       "      <th>1</th>\n",
       "      <td>21store</td>\n",
       "    </tr>\n",
       "    <tr>\n",
       "      <th>2</th>\n",
       "      <td>3S KOREA</td>\n",
       "    </tr>\n",
       "    <tr>\n",
       "      <th>3</th>\n",
       "      <td>A ONE ALFORM</td>\n",
       "    </tr>\n",
       "    <tr>\n",
       "      <th>4</th>\n",
       "      <td>A Plus Asset</td>\n",
       "    </tr>\n",
       "    <tr>\n",
       "      <th>...</th>\n",
       "      <td>...</td>\n",
       "    </tr>\n",
       "    <tr>\n",
       "      <th>7290</th>\n",
       "      <td>megastudyEdu</td>\n",
       "    </tr>\n",
       "    <tr>\n",
       "      <th>7291</th>\n",
       "      <td>mplus</td>\n",
       "    </tr>\n",
       "    <tr>\n",
       "      <th>7292</th>\n",
       "      <td>nTels</td>\n",
       "    </tr>\n",
       "    <tr>\n",
       "      <th>7293</th>\n",
       "      <td>seha</td>\n",
       "    </tr>\n",
       "    <tr>\n",
       "      <th>7294</th>\n",
       "      <td>the curacle</td>\n",
       "    </tr>\n",
       "  </tbody>\n",
       "</table>\n",
       "<p>7295 rows × 1 columns</p>\n",
       "</div>"
      ],
      "text/plain": [
       "              Name\n",
       "0             0TO7\n",
       "1          21store\n",
       "2         3S KOREA\n",
       "3     A ONE ALFORM\n",
       "4     A Plus Asset\n",
       "...            ...\n",
       "7290  megastudyEdu\n",
       "7291         mplus\n",
       "7292         nTels\n",
       "7293          seha\n",
       "7294   the curacle\n",
       "\n",
       "[7295 rows x 1 columns]"
      ]
     },
     "execution_count": 96,
     "metadata": {},
     "output_type": "execute_result"
    }
   ],
   "source": [
    "krx[[\"Name\"]]"
   ]
  },
  {
   "cell_type": "code",
   "execution_count": 98,
   "id": "9e97991e",
   "metadata": {},
   "outputs": [
    {
     "data": {
      "text/plain": [
       "'21store'"
      ]
     },
     "execution_count": 98,
     "metadata": {},
     "output_type": "execute_result"
    }
   ],
   "source": [
    "krx.loc[1,\"Name\"]"
   ]
  },
  {
   "cell_type": "code",
   "execution_count": 103,
   "id": "8f97c328",
   "metadata": {},
   "outputs": [
    {
     "data": {
      "text/html": [
       "<div>\n",
       "<style scoped>\n",
       "    .dataframe tbody tr th:only-of-type {\n",
       "        vertical-align: middle;\n",
       "    }\n",
       "\n",
       "    .dataframe tbody tr th {\n",
       "        vertical-align: top;\n",
       "    }\n",
       "\n",
       "    .dataframe thead th {\n",
       "        text-align: right;\n",
       "    }\n",
       "</style>\n",
       "<table border=\"1\" class=\"dataframe\">\n",
       "  <thead>\n",
       "    <tr style=\"text-align: right;\">\n",
       "      <th></th>\n",
       "      <th>Symbol</th>\n",
       "      <th>Market</th>\n",
       "      <th>Name</th>\n",
       "      <th>Sector</th>\n",
       "      <th>Industry</th>\n",
       "      <th>ListingDate</th>\n",
       "      <th>SettleMonth</th>\n",
       "      <th>Representative</th>\n",
       "      <th>HomePage</th>\n",
       "      <th>Region</th>\n",
       "    </tr>\n",
       "  </thead>\n",
       "  <tbody>\n",
       "    <tr>\n",
       "      <th>4840</th>\n",
       "      <td>035720</td>\n",
       "      <td>KOSPI</td>\n",
       "      <td>카카오</td>\n",
       "      <td>자료처리, 호스팅, 포털 및 기타 인터넷 정보매개 서비스업</td>\n",
       "      <td>인터넷 서비스(인터넷 광고)</td>\n",
       "      <td>2017-07-10</td>\n",
       "      <td>12월</td>\n",
       "      <td>여민수, 조수용</td>\n",
       "      <td>http://www.kakaocorp.com</td>\n",
       "      <td>제주특별자치도</td>\n",
       "    </tr>\n",
       "  </tbody>\n",
       "</table>\n",
       "</div>"
      ],
      "text/plain": [
       "      Symbol Market Name                            Sector         Industry  \\\n",
       "4840  035720  KOSPI  카카오  자료처리, 호스팅, 포털 및 기타 인터넷 정보매개 서비스업  인터넷 서비스(인터넷 광고)   \n",
       "\n",
       "     ListingDate SettleMonth Representative                  HomePage   Region  \n",
       "4840  2017-07-10         12월       여민수, 조수용  http://www.kakaocorp.com  제주특별자치도  "
      ]
     },
     "execution_count": 103,
     "metadata": {},
     "output_type": "execute_result"
    }
   ],
   "source": [
    "krx[krx[\"Name\"]==\"카카오\"]"
   ]
  },
  {
   "cell_type": "code",
   "execution_count": 114,
   "id": "000753a9",
   "metadata": {},
   "outputs": [
    {
     "data": {
      "text/html": [
       "<div>\n",
       "<style scoped>\n",
       "    .dataframe tbody tr th:only-of-type {\n",
       "        vertical-align: middle;\n",
       "    }\n",
       "\n",
       "    .dataframe tbody tr th {\n",
       "        vertical-align: top;\n",
       "    }\n",
       "\n",
       "    .dataframe thead th {\n",
       "        text-align: right;\n",
       "    }\n",
       "</style>\n",
       "<table border=\"1\" class=\"dataframe\">\n",
       "  <thead>\n",
       "    <tr style=\"text-align: right;\">\n",
       "      <th></th>\n",
       "      <th>Name</th>\n",
       "      <th>Symbol</th>\n",
       "    </tr>\n",
       "  </thead>\n",
       "  <tbody>\n",
       "    <tr>\n",
       "      <th>1</th>\n",
       "      <td>AJ네트웍스</td>\n",
       "      <td>095570</td>\n",
       "    </tr>\n",
       "    <tr>\n",
       "      <th>2</th>\n",
       "      <td>AK홀딩스</td>\n",
       "      <td>006840</td>\n",
       "    </tr>\n",
       "    <tr>\n",
       "      <th>48</th>\n",
       "      <td>BGF</td>\n",
       "      <td>027410</td>\n",
       "    </tr>\n",
       "    <tr>\n",
       "      <th>49</th>\n",
       "      <td>BGF리테일</td>\n",
       "      <td>282330</td>\n",
       "    </tr>\n",
       "    <tr>\n",
       "      <th>52</th>\n",
       "      <td>BYC</td>\n",
       "      <td>001460</td>\n",
       "    </tr>\n",
       "    <tr>\n",
       "      <th>...</th>\n",
       "      <td>...</td>\n",
       "      <td>...</td>\n",
       "    </tr>\n",
       "    <tr>\n",
       "      <th>6603</th>\n",
       "      <td>휴비스</td>\n",
       "      <td>079980</td>\n",
       "    </tr>\n",
       "    <tr>\n",
       "      <th>6606</th>\n",
       "      <td>휴스틸</td>\n",
       "      <td>005010</td>\n",
       "    </tr>\n",
       "    <tr>\n",
       "      <th>6611</th>\n",
       "      <td>휴켐스</td>\n",
       "      <td>069260</td>\n",
       "    </tr>\n",
       "    <tr>\n",
       "      <th>6615</th>\n",
       "      <td>흥국화재</td>\n",
       "      <td>000540</td>\n",
       "    </tr>\n",
       "    <tr>\n",
       "      <th>6618</th>\n",
       "      <td>흥아해운</td>\n",
       "      <td>003280</td>\n",
       "    </tr>\n",
       "  </tbody>\n",
       "</table>\n",
       "<p>421 rows × 2 columns</p>\n",
       "</div>"
      ],
      "text/plain": [
       "        Name  Symbol\n",
       "1     AJ네트웍스  095570\n",
       "2      AK홀딩스  006840\n",
       "48       BGF  027410\n",
       "49    BGF리테일  282330\n",
       "52       BYC  001460\n",
       "...      ...     ...\n",
       "6603     휴비스  079980\n",
       "6606     휴스틸  005010\n",
       "6611     휴켐스  069260\n",
       "6615    흥국화재  000540\n",
       "6618    흥아해운  003280\n",
       "\n",
       "[421 rows x 2 columns]"
      ]
     },
     "execution_count": 114,
     "metadata": {},
     "output_type": "execute_result"
    }
   ],
   "source": [
    "seoul = krx['Region']==\"서울특별시\"\n",
    "kospi = krx[\"Market\"] == \"KOSPI\"\n",
    "\n",
    "krx.loc[seoul & kospi, [\"Name\", \"Symbol\"]]"
   ]
  },
  {
   "cell_type": "code",
   "execution_count": 118,
   "id": "b1ef0cb1",
   "metadata": {},
   "outputs": [
    {
     "data": {
      "text/plain": [
       "array(['KOSDAQ', 'KOSPI', 'KONEX'], dtype=object)"
      ]
     },
     "execution_count": 118,
     "metadata": {},
     "output_type": "execute_result"
    }
   ],
   "source": [
    "krx[\"Market\"].unique()"
   ]
  },
  {
   "cell_type": "code",
   "execution_count": 120,
   "id": "b68dfdff",
   "metadata": {},
   "outputs": [
    {
     "data": {
      "text/plain": [
       "KOSPI     4938\n",
       "KOSDAQ    1552\n",
       "KONEX      131\n",
       "Name: Market, dtype: int64"
      ]
     },
     "execution_count": 120,
     "metadata": {},
     "output_type": "execute_result"
    }
   ],
   "source": [
    "krx[\"Market\"].value_counts()"
   ]
  },
  {
   "cell_type": "code",
   "execution_count": 123,
   "id": "cc046788",
   "metadata": {},
   "outputs": [
    {
     "data": {
      "text/plain": [
       "<AxesSubplot:>"
      ]
     },
     "execution_count": 123,
     "metadata": {},
     "output_type": "execute_result"
    },
    {
     "data": {
      "image/png": "[encoded data removed]",
      "text/plain": [
       "<Figure size 432x288 with 1 Axes>"
      ]
     },
     "metadata": {
      "needs_background": "light"
     },
     "output_type": "display_data"
    }
   ],
   "source": [
    "krx[\"Market\"].value_counts().plot.barh()"
   ]
  },
  {
   "cell_type": "code",
   "execution_count": 125,
   "id": "999f12a4",
   "metadata": {},
   "outputs": [
    {
     "data": {
      "text/plain": [
       "<AxesSubplot:xlabel='count', ylabel='Market'>"
      ]
     },
     "execution_count": 125,
     "metadata": {},
     "output_type": "execute_result"
    },
    {
     "data": {
      "image/png": "[encoded data removed]",
      "text/plain": [
       "<Figure size 432x288 with 1 Axes>"
      ]
     },
     "metadata": {
      "needs_background": "light"
     },
     "output_type": "display_data"
    }
   ],
   "source": [
    "sns.countplot(data=krx, y=\"Market\")"
   ]
  },
  {
   "cell_type": "code",
   "execution_count": 128,
   "id": "18efe02f",
   "metadata": {},
   "outputs": [
    {
     "data": {
      "text/plain": [
       "소프트웨어 개발 및 공급업                           152\n",
       "특수 목적용 기계 제조업                            143\n",
       "전자부품 제조업                                 128\n",
       "자동차 신품 부품 제조업                             96\n",
       "의약품 제조업                                   95\n",
       "기타 화학제품 제조업                               93\n",
       "기타 금융업                                    92\n",
       "금융 지원 서비스업                                75\n",
       "통신 및 방송 장비 제조업                            72\n",
       "자연과학 및 공학 연구개발업                           59\n",
       "반도체 제조업                                   58\n",
       "1차 철강 제조업                                 57\n",
       "의료용 기기 제조업                                56\n",
       "일반 목적용 기계 제조업                             45\n",
       "플라스틱제품 제조업                                44\n",
       "기초 화학물질 제조업                               42\n",
       "기초 의약물질 및 생물학적 제제 제조업                     39\n",
       "기타 전문 도매업                                 38\n",
       "컴퓨터 프로그래밍, 시스템 통합 및 관리업                   37\n",
       "기타 식품 제조업                                 34\n",
       "전동기, 발전기 및 전기 변환 · 공급 · 제어 장치 제조업         34\n",
       "영화, 비디오물, 방송프로그램 제작 및 배급업                 32\n",
       "의료용품 및 기타 의약 관련제품 제조업                     30\n",
       "봉제의복 제조업                                  28\n",
       "기계장비 및 관련 물품 도매업                          25\n",
       "기타 금속 가공제품 제조업                            24\n",
       "건물 건설업                                    23\n",
       "측정, 시험, 항해, 제어 및 기타 정밀기기 제조업; 광학기기 제외     22\n",
       "부동산 임대 및 공급업                              21\n",
       "구조용 금속제품, 탱크 및 증기발생기 제조업                  20\n",
       "Name: Sector, dtype: int64"
      ]
     },
     "execution_count": 128,
     "metadata": {},
     "output_type": "execute_result"
    }
   ],
   "source": [
    "sector_count_top = krx[\"Sector\"].value_counts().head(30)\n",
    "sector_count_top"
   ]
  },
  {
   "cell_type": "code",
   "execution_count": 129,
   "id": "b436a8d6",
   "metadata": {},
   "outputs": [],
   "source": [
    "krx_sector_30 = krx[krx[\"Sector\"].isin(sector_count_top.index)]"
   ]
  },
  {
   "cell_type": "code",
   "execution_count": 132,
   "id": "4c986cfe",
   "metadata": {},
   "outputs": [],
   "source": [
    "import matplotlib.pyplot as plt"
   ]
  },
  {
   "cell_type": "code",
   "execution_count": 141,
   "id": "8b15f52a",
   "metadata": {},
   "outputs": [],
   "source": [
    "def get_font_family():\n",
    "    \"\"\"\n",
    "    시스템 환경에 따른 기본 폰트명을 반환하는 함수\n",
    "    \"\"\"\n",
    "    import platform\n",
    "    system_name = platform.system()\n",
    "    # colab 사용자는 system_name이 'Linux'로 확인\n",
    "\n",
    "    if system_name == \"Darwin\" :\n",
    "        font_family = \"AppleGothic\"\n",
    "    elif system_name == \"Windows\":\n",
    "        font_family = \"Malgun Gothic\"\n",
    "    else:\n",
    "        !apt-get install fonts-nanum -qq  > /dev/null\n",
    "        !fc-cache -fv\n",
    "\n",
    "        import matplotlib as mpl\n",
    "        mpl.font_manager._rebuild()\n",
    "        findfont = mpl.font_manager.fontManager.findfont\n",
    "        mpl.font_manager.findfont = findfont\n",
    "        mpl.backends.backend_agg.findfont = findfont\n",
    "        \n",
    "        font_family = \"NanumBarunGothic\"\n",
    "    return font_family"
   ]
  },
  {
   "cell_type": "code",
   "execution_count": 142,
   "id": "b11dc94b",
   "metadata": {},
   "outputs": [
    {
     "data": {
      "text/plain": [
       "'AppleGothic'"
      ]
     },
     "execution_count": 142,
     "metadata": {},
     "output_type": "execute_result"
    }
   ],
   "source": [
    "# 운영체제에 맞는 font_family 찾기 \n",
    "font_family = get_font_family()\n",
    "font_family"
   ]
  },
  {
   "cell_type": "code",
   "execution_count": 144,
   "id": "ee13a3a1",
   "metadata": {},
   "outputs": [],
   "source": [
    "# 시각화를 위한 폰트설정\n",
    "# 위에서 만든 함수를 통해 시스템 폰트를 불러와서 font_family 라는 변수에 할당합니다.\n",
    "import matplotlib.pyplot as plt\n",
    "\n",
    "font_family = get_font_family()\n",
    "\n",
    "# 폰트설정\n",
    "plt.rc(\"font\", family=font_family)\n",
    "\n",
    "# 마이너스폰트 설정\n",
    "plt.rc(\"axes\", unicode_minus=False)\n",
    "# ggplot으로 그래프 스타일 설정\n",
    "plt.style.use(\"ggplot\")\n",
    "# 그래프에 retina display적용\n",
    "from IPython.display import set_matplotlib_formats\n",
    "set_matplotlib_formats(\"retina\")"
   ]
  },
  {
   "cell_type": "code",
   "execution_count": 145,
   "id": "f9d177ca",
   "metadata": {},
   "outputs": [
    {
     "data": {
      "text/plain": [
       "Text(0.5, 1.0, '섹터별 빈도수')"
      ]
     },
     "execution_count": 145,
     "metadata": {},
     "output_type": "execute_result"
    },
    {
     "data": {
      "image/png": "[encoded data removed]",
      "text/plain": [
       "<Figure size 720x576 with 1 Axes>"
      ]
     },
     "metadata": {
      "image/png": {
       "height": 498,
       "width": 877
      }
     },
     "output_type": "display_data"
    }
   ],
   "source": [
    "plt.figure(figsize=(10,8))\n",
    "\n",
    "sns.countplot(data=krx_sector_30, y=\"Sector\", palette=\"Blues_r\",\n",
    "             order=sector_count_top.index).set_title(\"섹터별 빈도수\")"
   ]
  },
  {
   "cell_type": "code",
   "execution_count": 148,
   "id": "ae27f760",
   "metadata": {},
   "outputs": [
    {
     "data": {
      "text/plain": [
       "기업인수합병              26\n",
       "지주회사                21\n",
       "지주사업                 9\n",
       "화장품                  7\n",
       "모바일게임                7\n",
       "기업인수 및 합병            6\n",
       "기업 인수 및 합병           5\n",
       "합병                   4\n",
       "부동산투자                4\n",
       "금융 지원 서비스            4\n",
       "-                    4\n",
       "의약품                  3\n",
       "금융지원서비스              3\n",
       "금융지원 서비스             3\n",
       "도급공사                 3\n",
       "건강기능식품               3\n",
       "벤처캐피탈                3\n",
       "금융지주회사               3\n",
       "셋톱박스                 3\n",
       "증권업                  3\n",
       "금융 지원 서비스업           3\n",
       "자동차부품                3\n",
       "유가증권 매매,중개,대리,인수     2\n",
       "투자조합 결성 및 투자         2\n",
       "도시가스                 2\n",
       "손해보험                 2\n",
       "광고대행                 2\n",
       "기업 인수 합병             2\n",
       "줄기세포치료제              2\n",
       "미용의료기기               2\n",
       "Name: Industry, dtype: int64"
      ]
     },
     "execution_count": 148,
     "metadata": {},
     "output_type": "execute_result"
    }
   ],
   "source": [
    "industry_top30 = krx[\"Industry\"].value_counts().head(30)\n",
    "industry_top30"
   ]
  },
  {
   "cell_type": "code",
   "execution_count": 151,
   "id": "c56f6761",
   "metadata": {},
   "outputs": [
    {
     "data": {
      "text/plain": [
       "<AxesSubplot:>"
      ]
     },
     "execution_count": 151,
     "metadata": {},
     "output_type": "execute_result"
    },
    {
     "data": {
      "image/png": "[encoded data removed]",
      "text/plain": [
       "<Figure size 720x576 with 1 Axes>"
      ]
     },
     "metadata": {
      "image/png": {
       "height": 465,
       "width": 711
      }
     },
     "output_type": "display_data"
    }
   ],
   "source": [
    "plt.figure(figsize=(10,8))\n",
    "industry_top30.sort_values().plot.barh()"
   ]
  },
  {
   "cell_type": "code",
   "execution_count": 156,
   "id": "91d39e9d",
   "metadata": {},
   "outputs": [],
   "source": [
    "df = krx"
   ]
  },
  {
   "cell_type": "code",
   "execution_count": 158,
   "id": "a1c7b9f3",
   "metadata": {},
   "outputs": [],
   "source": [
    "import plotly.express as px "
   ]
  },
  {
   "cell_type": "code",
   "execution_count": 159,
   "id": "6d5a2aa1",
   "metadata": {},
   "outputs": [
    {
     "data": {
      "text/html": [
       "<div>\n",
       "<style scoped>\n",
       "    .dataframe tbody tr th:only-of-type {\n",
       "        vertical-align: middle;\n",
       "    }\n",
       "\n",
       "    .dataframe tbody tr th {\n",
       "        vertical-align: top;\n",
       "    }\n",
       "\n",
       "    .dataframe thead th {\n",
       "        text-align: right;\n",
       "    }\n",
       "</style>\n",
       "<table border=\"1\" class=\"dataframe\">\n",
       "  <thead>\n",
       "    <tr style=\"text-align: right;\">\n",
       "      <th></th>\n",
       "      <th>date</th>\n",
       "      <th>GOOG</th>\n",
       "      <th>AAPL</th>\n",
       "      <th>AMZN</th>\n",
       "      <th>FB</th>\n",
       "      <th>NFLX</th>\n",
       "      <th>MSFT</th>\n",
       "    </tr>\n",
       "  </thead>\n",
       "  <tbody>\n",
       "    <tr>\n",
       "      <th>0</th>\n",
       "      <td>2018-01-01</td>\n",
       "      <td>1.000000</td>\n",
       "      <td>1.000000</td>\n",
       "      <td>1.000000</td>\n",
       "      <td>1.000000</td>\n",
       "      <td>1.000000</td>\n",
       "      <td>1.000000</td>\n",
       "    </tr>\n",
       "    <tr>\n",
       "      <th>1</th>\n",
       "      <td>2018-01-08</td>\n",
       "      <td>1.018172</td>\n",
       "      <td>1.011943</td>\n",
       "      <td>1.061881</td>\n",
       "      <td>0.959968</td>\n",
       "      <td>1.053526</td>\n",
       "      <td>1.015988</td>\n",
       "    </tr>\n",
       "    <tr>\n",
       "      <th>2</th>\n",
       "      <td>2018-01-15</td>\n",
       "      <td>1.032008</td>\n",
       "      <td>1.019771</td>\n",
       "      <td>1.053240</td>\n",
       "      <td>0.970243</td>\n",
       "      <td>1.049860</td>\n",
       "      <td>1.020524</td>\n",
       "    </tr>\n",
       "    <tr>\n",
       "      <th>3</th>\n",
       "      <td>2018-01-22</td>\n",
       "      <td>1.066783</td>\n",
       "      <td>0.980057</td>\n",
       "      <td>1.140676</td>\n",
       "      <td>1.016858</td>\n",
       "      <td>1.307681</td>\n",
       "      <td>1.066561</td>\n",
       "    </tr>\n",
       "    <tr>\n",
       "      <th>4</th>\n",
       "      <td>2018-01-29</td>\n",
       "      <td>1.008773</td>\n",
       "      <td>0.917143</td>\n",
       "      <td>1.163374</td>\n",
       "      <td>1.018357</td>\n",
       "      <td>1.273537</td>\n",
       "      <td>1.040708</td>\n",
       "    </tr>\n",
       "    <tr>\n",
       "      <th>...</th>\n",
       "      <td>...</td>\n",
       "      <td>...</td>\n",
       "      <td>...</td>\n",
       "      <td>...</td>\n",
       "      <td>...</td>\n",
       "      <td>...</td>\n",
       "      <td>...</td>\n",
       "    </tr>\n",
       "    <tr>\n",
       "      <th>100</th>\n",
       "      <td>2019-12-02</td>\n",
       "      <td>1.216280</td>\n",
       "      <td>1.546914</td>\n",
       "      <td>1.425061</td>\n",
       "      <td>1.075997</td>\n",
       "      <td>1.463641</td>\n",
       "      <td>1.720717</td>\n",
       "    </tr>\n",
       "    <tr>\n",
       "      <th>101</th>\n",
       "      <td>2019-12-09</td>\n",
       "      <td>1.222821</td>\n",
       "      <td>1.572286</td>\n",
       "      <td>1.432660</td>\n",
       "      <td>1.038855</td>\n",
       "      <td>1.421496</td>\n",
       "      <td>1.752239</td>\n",
       "    </tr>\n",
       "    <tr>\n",
       "      <th>102</th>\n",
       "      <td>2019-12-16</td>\n",
       "      <td>1.224418</td>\n",
       "      <td>1.596800</td>\n",
       "      <td>1.453455</td>\n",
       "      <td>1.104094</td>\n",
       "      <td>1.604362</td>\n",
       "      <td>1.784896</td>\n",
       "    </tr>\n",
       "    <tr>\n",
       "      <th>103</th>\n",
       "      <td>2019-12-23</td>\n",
       "      <td>1.226504</td>\n",
       "      <td>1.656000</td>\n",
       "      <td>1.521226</td>\n",
       "      <td>1.113728</td>\n",
       "      <td>1.567170</td>\n",
       "      <td>1.802472</td>\n",
       "    </tr>\n",
       "    <tr>\n",
       "      <th>104</th>\n",
       "      <td>2019-12-30</td>\n",
       "      <td>1.213014</td>\n",
       "      <td>1.678000</td>\n",
       "      <td>1.503360</td>\n",
       "      <td>1.098475</td>\n",
       "      <td>1.540883</td>\n",
       "      <td>1.788185</td>\n",
       "    </tr>\n",
       "  </tbody>\n",
       "</table>\n",
       "<p>105 rows × 7 columns</p>\n",
       "</div>"
      ],
      "text/plain": [
       "           date      GOOG      AAPL      AMZN        FB      NFLX      MSFT\n",
       "0    2018-01-01  1.000000  1.000000  1.000000  1.000000  1.000000  1.000000\n",
       "1    2018-01-08  1.018172  1.011943  1.061881  0.959968  1.053526  1.015988\n",
       "2    2018-01-15  1.032008  1.019771  1.053240  0.970243  1.049860  1.020524\n",
       "3    2018-01-22  1.066783  0.980057  1.140676  1.016858  1.307681  1.066561\n",
       "4    2018-01-29  1.008773  0.917143  1.163374  1.018357  1.273537  1.040708\n",
       "..          ...       ...       ...       ...       ...       ...       ...\n",
       "100  2019-12-02  1.216280  1.546914  1.425061  1.075997  1.463641  1.720717\n",
       "101  2019-12-09  1.222821  1.572286  1.432660  1.038855  1.421496  1.752239\n",
       "102  2019-12-16  1.224418  1.596800  1.453455  1.104094  1.604362  1.784896\n",
       "103  2019-12-23  1.226504  1.656000  1.521226  1.113728  1.567170  1.802472\n",
       "104  2019-12-30  1.213014  1.678000  1.503360  1.098475  1.540883  1.788185\n",
       "\n",
       "[105 rows x 7 columns]"
      ]
     },
     "execution_count": 159,
     "metadata": {},
     "output_type": "execute_result"
    }
   ],
   "source": [
    "df = px.data.stocks()\n",
    "df"
   ]
  },
  {
   "cell_type": "code",
   "execution_count": 161,
   "id": "d5efa016",
   "metadata": {},
   "outputs": [
    {
     "data": {
      "application/vnd.plotly.v1+json": {
       "config": {
        "plotlyServerURL": "https://plot.ly"
       },
       "data": [
        {
         "hovertemplate": "date=%{x}<br>AAPL=%{y}<extra></extra>",
         "legendgroup": "",
         "line": {
          "color": "#636efa",
          "dash": "solid"
         },
         "marker": {
          "symbol": "circle"
         },
         "mode": "lines",
         "name": "",
         "orientation": "v",
         "showlegend": false,
         "type": "scatter",
         "x": [
          "2018-01-01",
          "2018-01-08",
          "2018-01-15",
          "2018-01-22",
          "2018-01-29",
          "2018-02-05",
          "2018-02-12",
          "2018-02-19",
          "2018-02-26",
          "2018-03-05",
          "2018-03-12",
          "2018-03-19",
          "2018-03-26",
          "2018-04-02",
          "2018-04-09",
          "2018-04-16",
          "2018-04-23",
          "2018-04-30",
          "2018-05-07",
          "2018-05-14",
          "2018-05-21",
          "2018-05-28",
          "2018-06-04",
          "2018-06-11",
          "2018-06-18",
          "2018-06-25",
          "2018-07-02",
          "2018-07-09",
          "2018-07-16",
          "2018-07-23",
          "2018-07-30",
          "2018-08-06",
          "2018-08-13",
          "2018-08-20",
          "2018-08-27",
          "2018-09-03",
          "2018-09-10",
          "2018-09-17",
          "2018-09-24",
          "2018-10-01",
          "2018-10-08",
          "2018-10-15",
          "2018-10-22",
          "2018-10-29",
          "2018-11-05",
          "2018-11-12",
          "2018-11-19",
          "2018-11-26",
          "2018-12-03",
          "2018-12-10",
          "2018-12-17",
          "2018-12-24",
          "2018-12-31",
          "2019-01-07",
          "2019-01-14",
          "2019-01-21",
          "2019-01-28",
          "2019-02-04",
          "2019-02-11",
          "2019-02-18",
          "2019-02-25",
          "2019-03-04",
          "2019-03-11",
          "2019-03-18",
          "2019-03-25",
          "2019-04-01",
          "2019-04-08",
          "2019-04-15",
          "2019-04-22",
          "2019-04-29",
          "2019-05-06",
          "2019-05-13",
          "2019-05-20",
          "2019-05-27",
          "2019-06-03",
          "2019-06-10",
          "2019-06-17",
          "2019-06-24",
          "2019-07-01",
          "2019-07-08",
          "2019-07-15",
          "2019-07-22",
          "2019-07-29",
          "2019-08-05",
          "2019-08-12",
          "2019-08-19",
          "2019-08-26",
          "2019-09-02",
          "2019-09-09",
          "2019-09-16",
          "2019-09-23",
          "2019-09-30",
          "2019-10-07",
          "2019-10-14",
          "2019-10-21",
          "2019-10-28",
          "2019-11-04",
          "2019-11-11",
          "2019-11-18",
          "2019-11-25",
          "2019-12-02",
          "2019-12-09",
          "2019-12-16",
          "2019-12-23",
          "2019-12-30"
         ],
         "xaxis": "x",
         "y": [
          1,
          1.0119428342857142,
          1.0197714685714288,
          0.9800571142857144,
          0.9171428571428571,
          0.8937714514285715,
          0.9853142457142856,
          1.002857142857143,
          1.006914325714286,
          1.02845712,
          1.0172571657142857,
          0.9425142971428572,
          0.9587428514285714,
          0.9621714571428572,
          0.99845712,
          0.9469714342857144,
          0.9275428971428572,
          1.0504571542857144,
          1.07765712,
          1.06462856,
          1.0776000114285715,
          1.0870857428571428,
          1.0954285542857145,
          1.0790856914285714,
          1.0566857028571428,
          1.0577714342857143,
          1.0741142914285715,
          1.093314297142857,
          1.0939428685714283,
          1.0913142628571428,
          1.1885143142857142,
          1.1858857085714285,
          1.2433142971428572,
          1.235200022857143,
          1.3007428857142855,
          1.2645714457142856,
          1.279085691428571,
          1.2437714514285716,
          1.2899428857142856,
          1.2816571028571428,
          1.2692000057142856,
          1.253199988571429,
          1.236000017142857,
          1.1855999771428571,
          1.1684000057142856,
          1.1058857085714286,
          0.9845142457142856,
          1.0204571542857144,
          0.9628000285714284,
          0.9455999771428572,
          0.8613142628571429,
          0.8927428342857143,
          0.8471999714285714,
          0.8702285314285714,
          0.8961143257142857,
          0.9014856857142858,
          0.95154288,
          0.9737714514285716,
          0.97382856,
          0.9884000057142855,
          0.9998285771428572,
          0.9880571657142858,
          1.0635428285714286,
          1.0917143028571428,
          1.0854285542857145,
          1.1257142857142857,
          1.1363999714285713,
          1.1649142914285715,
          1.1674285885714286,
          1.21,
          1.126742817142857,
          1.08,
          1.02268572,
          1.00040004,
          1.0865713942857145,
          1.1013714571428572,
          1.135885708571429,
          1.130971417142857,
          1.167028548571429,
          1.1617143028571428,
          1.15765712,
          1.1870857428571429,
          1.1658285942857145,
          1.1485143142857142,
          1.18,
          1.1579428514285717,
          1.1928000285714286,
          1.218628542857143,
          1.25,
          1.2441714057142856,
          1.25040004,
          1.2971999714285716,
          1.3497714685714286,
          1.3509143085714286,
          1.409028582857143,
          1.4618286114285712,
          1.4865143714285716,
          1.5186286285714288,
          1.4958857085714288,
          1.5271428571428571,
          1.5469142342857145,
          1.57228568,
          1.5968000114285714,
          1.6559999314285714,
          1.6779999657142857
         ],
         "yaxis": "y"
        }
       ],
       "layout": {
        "legend": {
         "tracegroupgap": 0
        },
        "margin": {
         "t": 60
        },
        "template": {
         "data": {
          "bar": [
           {
            "error_x": {
             "color": "#2a3f5f"
            },
            "error_y": {
             "color": "#2a3f5f"
            },
            "marker": {
             "line": {
              "color": "#E5ECF6",
              "width": 0.5
             },
             "pattern": {
              "fillmode": "overlay",
              "size": 10,
              "solidity": 0.2
             }
            },
            "type": "bar"
           }
          ],
          "barpolar": [
           {
            "marker": {
             "line": {
              "color": "#E5ECF6",
              "width": 0.5
             },
             "pattern": {
              "fillmode": "overlay",
              "size": 10,
              "solidity": 0.2
             }
            },
            "type": "barpolar"
           }
          ],
          "carpet": [
           {
            "aaxis": {
             "endlinecolor": "#2a3f5f",
             "gridcolor": "white",
             "linecolor": "white",
             "minorgridcolor": "white",
             "startlinecolor": "#2a3f5f"
            },
            "baxis": {
             "endlinecolor": "#2a3f5f",
             "gridcolor": "white",
             "linecolor": "white",
             "minorgridcolor": "white",
             "startlinecolor": "#2a3f5f"
            },
            "type": "carpet"
           }
          ],
          "choropleth": [
           {
            "colorbar": {
             "outlinewidth": 0,
             "ticks": ""
            },
            "type": "choropleth"
           }
          ],
          "contour": [
           {
            "colorbar": {
             "outlinewidth": 0,
             "ticks": ""
            },
            "colorscale": [
             [
              0,
              "#0d0887"
             ],
             [
              0.1111111111111111,
              "#46039f"
             ],
             [
              0.2222222222222222,
              "#7201a8"
             ],
             [
              0.3333333333333333,
              "#9c179e"
             ],
             [
              0.4444444444444444,
              "#bd3786"
             ],
             [
              0.5555555555555556,
              "#d8576b"
             ],
             [
              0.6666666666666666,
              "#ed7953"
             ],
             [
              0.7777777777777778,
              "#fb9f3a"
             ],
             [
              0.8888888888888888,
              "#fdca26"
             ],
             [
              1,
              "#f0f921"
             ]
            ],
            "type": "contour"
           }
          ],
          "contourcarpet": [
           {
            "colorbar": {
             "outlinewidth": 0,
             "ticks": ""
            },
            "type": "contourcarpet"
           }
          ],
          "heatmap": [
           {
            "colorbar": {
             "outlinewidth": 0,
             "ticks": ""
            },
            "colorscale": [
             [
              0,
              "#0d0887"
             ],
             [
              0.1111111111111111,
              "#46039f"
             ],
             [
              0.2222222222222222,
              "#7201a8"
             ],
             [
              0.3333333333333333,
              "#9c179e"
             ],
             [
              0.4444444444444444,
              "#bd3786"
             ],
             [
              0.5555555555555556,
              "#d8576b"
             ],
             [
              0.6666666666666666,
              "#ed7953"
             ],
             [
              0.7777777777777778,
              "#fb9f3a"
             ],
             [
              0.8888888888888888,
              "#fdca26"
             ],
             [
              1,
              "#f0f921"
             ]
            ],
            "type": "heatmap"
           }
          ],
          "heatmapgl": [
           {
            "colorbar": {
             "outlinewidth": 0,
             "ticks": ""
            },
            "colorscale": [
             [
              0,
              "#0d0887"
             ],
             [
              0.1111111111111111,
              "#46039f"
             ],
             [
              0.2222222222222222,
              "#7201a8"
             ],
             [
              0.3333333333333333,
              "#9c179e"
             ],
             [
              0.4444444444444444,
              "#bd3786"
             ],
             [
              0.5555555555555556,
              "#d8576b"
             ],
             [
              0.6666666666666666,
              "#ed7953"
             ],
             [
              0.7777777777777778,
              "#fb9f3a"
             ],
             [
              0.8888888888888888,
              "#fdca26"
             ],
             [
              1,
              "#f0f921"
             ]
            ],
            "type": "heatmapgl"
           }
          ],
          "histogram": [
           {
            "marker": {
             "pattern": {
              "fillmode": "overlay",
              "size": 10,
              "solidity": 0.2
             }
            },
            "type": "histogram"
           }
          ],
          "histogram2d": [
           {
            "colorbar": {
             "outlinewidth": 0,
             "ticks": ""
            },
            "colorscale": [
             [
              0,
              "#0d0887"
             ],
             [
              0.1111111111111111,
              "#46039f"
             ],
             [
              0.2222222222222222,
              "#7201a8"
             ],
             [
              0.3333333333333333,
              "#9c179e"
             ],
             [
              0.4444444444444444,
              "#bd3786"
             ],
             [
              0.5555555555555556,
              "#d8576b"
             ],
             [
              0.6666666666666666,
              "#ed7953"
             ],
             [
              0.7777777777777778,
              "#fb9f3a"
             ],
             [
              0.8888888888888888,
              "#fdca26"
             ],
             [
              1,
              "#f0f921"
             ]
            ],
            "type": "histogram2d"
           }
          ],
          "histogram2dcontour": [
           {
            "colorbar": {
             "outlinewidth": 0,
             "ticks": ""
            },
            "colorscale": [
             [
              0,
              "#0d0887"
             ],
             [
              0.1111111111111111,
              "#46039f"
             ],
             [
              0.2222222222222222,
              "#7201a8"
             ],
             [
              0.3333333333333333,
              "#9c179e"
             ],
             [
              0.4444444444444444,
              "#bd3786"
             ],
             [
              0.5555555555555556,
              "#d8576b"
             ],
             [
              0.6666666666666666,
              "#ed7953"
             ],
             [
              0.7777777777777778,
              "#fb9f3a"
             ],
             [
              0.8888888888888888,
              "#fdca26"
             ],
             [
              1,
              "#f0f921"
             ]
            ],
            "type": "histogram2dcontour"
           }
          ],
          "mesh3d": [
           {
            "colorbar": {
             "outlinewidth": 0,
             "ticks": ""
            },
            "type": "mesh3d"
           }
          ],
          "parcoords": [
           {
            "line": {
             "colorbar": {
              "outlinewidth": 0,
              "ticks": ""
             }
            },
            "type": "parcoords"
           }
          ],
          "pie": [
           {
            "automargin": true,
            "type": "pie"
           }
          ],
          "scatter": [
           {
            "marker": {
             "colorbar": {
              "outlinewidth": 0,
              "ticks": ""
             }
            },
            "type": "scatter"
           }
          ],
          "scatter3d": [
           {
            "line": {
             "colorbar": {
              "outlinewidth": 0,
              "ticks": ""
             }
            },
            "marker": {
             "colorbar": {
              "outlinewidth": 0,
              "ticks": ""
             }
            },
            "type": "scatter3d"
           }
          ],
          "scattercarpet": [
           {
            "marker": {
             "colorbar": {
              "outlinewidth": 0,
              "ticks": ""
             }
            },
            "type": "scattercarpet"
           }
          ],
          "scattergeo": [
           {
            "marker": {
             "colorbar": {
              "outlinewidth": 0,
              "ticks": ""
             }
            },
            "type": "scattergeo"
           }
          ],
          "scattergl": [
           {
            "marker": {
             "colorbar": {
              "outlinewidth": 0,
              "ticks": ""
             }
            },
            "type": "scattergl"
           }
          ],
          "scattermapbox": [
           {
            "marker": {
             "colorbar": {
              "outlinewidth": 0,
              "ticks": ""
             }
            },
            "type": "scattermapbox"
           }
          ],
          "scatterpolar": [
           {
            "marker": {
             "colorbar": {
              "outlinewidth": 0,
              "ticks": ""
             }
            },
            "type": "scatterpolar"
           }
          ],
          "scatterpolargl": [
           {
            "marker": {
             "colorbar": {
              "outlinewidth": 0,
              "ticks": ""
             }
            },
            "type": "scatterpolargl"
           }
          ],
          "scatterternary": [
           {
            "marker": {
             "colorbar": {
              "outlinewidth": 0,
              "ticks": ""
             }
            },
            "type": "scatterternary"
           }
          ],
          "surface": [
           {
            "colorbar": {
             "outlinewidth": 0,
             "ticks": ""
            },
            "colorscale": [
             [
              0,
              "#0d0887"
             ],
             [
              0.1111111111111111,
              "#46039f"
             ],
             [
              0.2222222222222222,
              "#7201a8"
             ],
             [
              0.3333333333333333,
              "#9c179e"
             ],
             [
              0.4444444444444444,
              "#bd3786"
             ],
             [
              0.5555555555555556,
              "#d8576b"
             ],
             [
              0.6666666666666666,
              "#ed7953"
             ],
             [
              0.7777777777777778,
              "#fb9f3a"
             ],
             [
              0.8888888888888888,
              "#fdca26"
             ],
             [
              1,
              "#f0f921"
             ]
            ],
            "type": "surface"
           }
          ],
          "table": [
           {
            "cells": {
             "fill": {
              "color": "#EBF0F8"
             },
             "line": {
              "color": "white"
             }
            },
            "header": {
             "fill": {
              "color": "#C8D4E3"
             },
             "line": {
              "color": "white"
             }
            },
            "type": "table"
           }
          ]
         },
         "layout": {
          "annotationdefaults": {
           "arrowcolor": "#2a3f5f",
           "arrowhead": 0,
           "arrowwidth": 1
          },
          "autotypenumbers": "strict",
          "coloraxis": {
           "colorbar": {
            "outlinewidth": 0,
            "ticks": ""
           }
          },
          "colorscale": {
           "diverging": [
            [
             0,
             "#8e0152"
            ],
            [
             0.1,
             "#c51b7d"
            ],
            [
             0.2,
             "#de77ae"
            ],
            [
             0.3,
             "#f1b6da"
            ],
            [
             0.4,
             "#fde0ef"
            ],
            [
             0.5,
             "#f7f7f7"
            ],
            [
             0.6,
             "#e6f5d0"
            ],
            [
             0.7,
             "#b8e186"
            ],
            [
             0.8,
             "#7fbc41"
            ],
            [
             0.9,
             "#4d9221"
            ],
            [
             1,
             "#276419"
            ]
           ],
           "sequential": [
            [
             0,
             "#0d0887"
            ],
            [
             0.1111111111111111,
             "#46039f"
            ],
            [
             0.2222222222222222,
             "#7201a8"
            ],
            [
             0.3333333333333333,
             "#9c179e"
            ],
            [
             0.4444444444444444,
             "#bd3786"
            ],
            [
             0.5555555555555556,
             "#d8576b"
            ],
            [
             0.6666666666666666,
             "#ed7953"
            ],
            [
             0.7777777777777778,
             "#fb9f3a"
            ],
            [
             0.8888888888888888,
             "#fdca26"
            ],
            [
             1,
             "#f0f921"
            ]
           ],
           "sequentialminus": [
            [
             0,
             "#0d0887"
            ],
            [
             0.1111111111111111,
             "#46039f"
            ],
            [
             0.2222222222222222,
             "#7201a8"
            ],
            [
             0.3333333333333333,
             "#9c179e"
            ],
            [
             0.4444444444444444,
             "#bd3786"
            ],
            [
             0.5555555555555556,
             "#d8576b"
            ],
            [
             0.6666666666666666,
             "#ed7953"
            ],
            [
             0.7777777777777778,
             "#fb9f3a"
            ],
            [
             0.8888888888888888,
             "#fdca26"
            ],
            [
             1,
             "#f0f921"
            ]
           ]
          },
          "colorway": [
           "#636efa",
           "#EF553B",
           "#00cc96",
           "#ab63fa",
           "#FFA15A",
           "#19d3f3",
           "#FF6692",
           "#B6E880",
           "#FF97FF",
           "#FECB52"
          ],
          "font": {
           "color": "#2a3f5f"
          },
          "geo": {
           "bgcolor": "white",
           "lakecolor": "white",
           "landcolor": "#E5ECF6",
           "showlakes": true,
           "showland": true,
           "subunitcolor": "white"
          },
          "hoverlabel": {
           "align": "left"
          },
          "hovermode": "closest",
          "mapbox": {
           "style": "light"
          },
          "paper_bgcolor": "white",
          "plot_bgcolor": "#E5ECF6",
          "polar": {
           "angularaxis": {
            "gridcolor": "white",
            "linecolor": "white",
            "ticks": ""
           },
           "bgcolor": "#E5ECF6",
           "radialaxis": {
            "gridcolor": "white",
            "linecolor": "white",
            "ticks": ""
           }
          },
          "scene": {
           "xaxis": {
            "backgroundcolor": "#E5ECF6",
            "gridcolor": "white",
            "gridwidth": 2,
            "linecolor": "white",
            "showbackground": true,
            "ticks": "",
            "zerolinecolor": "white"
           },
           "yaxis": {
            "backgroundcolor": "#E5ECF6",
            "gridcolor": "white",
            "gridwidth": 2,
            "linecolor": "white",
            "showbackground": true,
            "ticks": "",
            "zerolinecolor": "white"
           },
           "zaxis": {
            "backgroundcolor": "#E5ECF6",
            "gridcolor": "white",
            "gridwidth": 2,
            "linecolor": "white",
            "showbackground": true,
            "ticks": "",
            "zerolinecolor": "white"
           }
          },
          "shapedefaults": {
           "line": {
            "color": "#2a3f5f"
           }
          },
          "ternary": {
           "aaxis": {
            "gridcolor": "white",
            "linecolor": "white",
            "ticks": ""
           },
           "baxis": {
            "gridcolor": "white",
            "linecolor": "white",
            "ticks": ""
           },
           "bgcolor": "#E5ECF6",
           "caxis": {
            "gridcolor": "white",
            "linecolor": "white",
            "ticks": ""
           }
          },
          "title": {
           "x": 0.05
          },
          "xaxis": {
           "automargin": true,
           "gridcolor": "white",
           "linecolor": "white",
           "ticks": "",
           "title": {
            "standoff": 15
           },
           "zerolinecolor": "white",
           "zerolinewidth": 2
          },
          "yaxis": {
           "automargin": true,
           "gridcolor": "white",
           "linecolor": "white",
           "ticks": "",
           "title": {
            "standoff": 15
           },
           "zerolinecolor": "white",
           "zerolinewidth": 2
          }
         }
        },
        "xaxis": {
         "anchor": "y",
         "domain": [
          0,
          1
         ],
         "title": {
          "text": "date"
         }
        },
        "yaxis": {
         "anchor": "x",
         "domain": [
          0,
          1
         ],
         "title": {
          "text": "AAPL"
         }
        }
       }
      },
      "text/html": [
       "<div>                            <div id=\"d20c7f3e-a2d5-49e5-8bf7-d77f0da3a52a\" class=\"plotly-graph-div\" style=\"height:525px; width:100%;\"></div>            <script type=\"text/javascript\">                require([\"plotly\"], function(Plotly) {                    window.PLOTLYENV=window.PLOTLYENV || {};                                    if (document.getElementById(\"d20c7f3e-a2d5-49e5-8bf7-d77f0da3a52a\")) {                    Plotly.newPlot(                        \"d20c7f3e-a2d5-49e5-8bf7-d77f0da3a52a\",                        [{\"hovertemplate\":\"date=%{x}<br>AAPL=%{y}<extra></extra>\",\"legendgroup\":\"\",\"line\":{\"color\":\"#636efa\",\"dash\":\"solid\"},\"marker\":{\"symbol\":\"circle\"},\"mode\":\"lines\",\"name\":\"\",\"orientation\":\"v\",\"showlegend\":false,\"x\":[\"2018-01-01\",\"2018-01-08\",\"2018-01-15\",\"2018-01-22\",\"2018-01-29\",\"2018-02-05\",\"2018-02-12\",\"2018-02-19\",\"2018-02-26\",\"2018-03-05\",\"2018-03-12\",\"2018-03-19\",\"2018-03-26\",\"2018-04-02\",\"2018-04-09\",\"2018-04-16\",\"2018-04-23\",\"2018-04-30\",\"2018-05-07\",\"2018-05-14\",\"2018-05-21\",\"2018-05-28\",\"2018-06-04\",\"2018-06-11\",\"2018-06-18\",\"2018-06-25\",\"2018-07-02\",\"2018-07-09\",\"2018-07-16\",\"2018-07-23\",\"2018-07-30\",\"2018-08-06\",\"2018-08-13\",\"2018-08-20\",\"2018-08-27\",\"2018-09-03\",\"2018-09-10\",\"2018-09-17\",\"2018-09-24\",\"2018-10-01\",\"2018-10-08\",\"2018-10-15\",\"2018-10-22\",\"2018-10-29\",\"2018-11-05\",\"2018-11-12\",\"2018-11-19\",\"2018-11-26\",\"2018-12-03\",\"2018-12-10\",\"2018-12-17\",\"2018-12-24\",\"2018-12-31\",\"2019-01-07\",\"2019-01-14\",\"2019-01-21\",\"2019-01-28\",\"2019-02-04\",\"2019-02-11\",\"2019-02-18\",\"2019-02-25\",\"2019-03-04\",\"2019-03-11\",\"2019-03-18\",\"2019-03-25\",\"2019-04-01\",\"2019-04-08\",\"2019-04-15\",\"2019-04-22\",\"2019-04-29\",\"2019-05-06\",\"2019-05-13\",\"2019-05-20\",\"2019-05-27\",\"2019-06-03\",\"2019-06-10\",\"2019-06-17\",\"2019-06-24\",\"2019-07-01\",\"2019-07-08\",\"2019-07-15\",\"2019-07-22\",\"2019-07-29\",\"2019-08-05\",\"2019-08-12\",\"2019-08-19\",\"2019-08-26\",\"2019-09-02\",\"2019-09-09\",\"2019-09-16\",\"2019-09-23\",\"2019-09-30\",\"2019-10-07\",\"2019-10-14\",\"2019-10-21\",\"2019-10-28\",\"2019-11-04\",\"2019-11-11\",\"2019-11-18\",\"2019-11-25\",\"2019-12-02\",\"2019-12-09\",\"2019-12-16\",\"2019-12-23\",\"2019-12-30\"],\"xaxis\":\"x\",\"y\":[1.0,1.0119428342857142,1.0197714685714288,0.9800571142857144,0.9171428571428571,0.8937714514285715,0.9853142457142856,1.002857142857143,1.006914325714286,1.02845712,1.0172571657142857,0.9425142971428572,0.9587428514285714,0.9621714571428572,0.99845712,0.9469714342857144,0.9275428971428572,1.0504571542857144,1.07765712,1.06462856,1.0776000114285715,1.0870857428571428,1.0954285542857145,1.0790856914285714,1.0566857028571428,1.0577714342857143,1.0741142914285715,1.093314297142857,1.0939428685714283,1.0913142628571428,1.1885143142857142,1.1858857085714285,1.2433142971428572,1.235200022857143,1.3007428857142855,1.2645714457142856,1.279085691428571,1.2437714514285716,1.2899428857142856,1.2816571028571428,1.2692000057142856,1.253199988571429,1.236000017142857,1.1855999771428571,1.1684000057142856,1.1058857085714286,0.9845142457142856,1.0204571542857144,0.9628000285714284,0.9455999771428572,0.8613142628571429,0.8927428342857143,0.8471999714285714,0.8702285314285714,0.8961143257142857,0.9014856857142858,0.95154288,0.9737714514285716,0.97382856,0.9884000057142855,0.9998285771428572,0.9880571657142858,1.0635428285714286,1.0917143028571428,1.0854285542857145,1.1257142857142857,1.1363999714285713,1.1649142914285715,1.1674285885714286,1.21,1.126742817142857,1.08,1.02268572,1.00040004,1.0865713942857145,1.1013714571428572,1.135885708571429,1.130971417142857,1.167028548571429,1.1617143028571428,1.15765712,1.1870857428571429,1.1658285942857145,1.1485143142857142,1.18,1.1579428514285717,1.1928000285714286,1.218628542857143,1.25,1.2441714057142856,1.25040004,1.2971999714285716,1.3497714685714286,1.3509143085714286,1.409028582857143,1.4618286114285712,1.4865143714285716,1.5186286285714288,1.4958857085714288,1.5271428571428571,1.5469142342857145,1.57228568,1.5968000114285714,1.6559999314285714,1.6779999657142857],\"yaxis\":\"y\",\"type\":\"scatter\"}],                        {\"template\":{\"data\":{\"bar\":[{\"error_x\":{\"color\":\"#2a3f5f\"},\"error_y\":{\"color\":\"#2a3f5f\"},\"marker\":{\"line\":{\"color\":\"#E5ECF6\",\"width\":0.5},\"pattern\":{\"fillmode\":\"overlay\",\"size\":10,\"solidity\":0.2}},\"type\":\"bar\"}],\"barpolar\":[{\"marker\":{\"line\":{\"color\":\"#E5ECF6\",\"width\":0.5},\"pattern\":{\"fillmode\":\"overlay\",\"size\":10,\"solidity\":0.2}},\"type\":\"barpolar\"}],\"carpet\":[{\"aaxis\":{\"endlinecolor\":\"#2a3f5f\",\"gridcolor\":\"white\",\"linecolor\":\"white\",\"minorgridcolor\":\"white\",\"startlinecolor\":\"#2a3f5f\"},\"baxis\":{\"endlinecolor\":\"#2a3f5f\",\"gridcolor\":\"white\",\"linecolor\":\"white\",\"minorgridcolor\":\"white\",\"startlinecolor\":\"#2a3f5f\"},\"type\":\"carpet\"}],\"choropleth\":[{\"colorbar\":{\"outlinewidth\":0,\"ticks\":\"\"},\"type\":\"choropleth\"}],\"contour\":[{\"colorbar\":{\"outlinewidth\":0,\"ticks\":\"\"},\"colorscale\":[[0.0,\"#0d0887\"],[0.1111111111111111,\"#46039f\"],[0.2222222222222222,\"#7201a8\"],[0.3333333333333333,\"#9c179e\"],[0.4444444444444444,\"#bd3786\"],[0.5555555555555556,\"#d8576b\"],[0.6666666666666666,\"#ed7953\"],[0.7777777777777778,\"#fb9f3a\"],[0.8888888888888888,\"#fdca26\"],[1.0,\"#f0f921\"]],\"type\":\"contour\"}],\"contourcarpet\":[{\"colorbar\":{\"outlinewidth\":0,\"ticks\":\"\"},\"type\":\"contourcarpet\"}],\"heatmap\":[{\"colorbar\":{\"outlinewidth\":0,\"ticks\":\"\"},\"colorscale\":[[0.0,\"#0d0887\"],[0.1111111111111111,\"#46039f\"],[0.2222222222222222,\"#7201a8\"],[0.3333333333333333,\"#9c179e\"],[0.4444444444444444,\"#bd3786\"],[0.5555555555555556,\"#d8576b\"],[0.6666666666666666,\"#ed7953\"],[0.7777777777777778,\"#fb9f3a\"],[0.8888888888888888,\"#fdca26\"],[1.0,\"#f0f921\"]],\"type\":\"heatmap\"}],\"heatmapgl\":[{\"colorbar\":{\"outlinewidth\":0,\"ticks\":\"\"},\"colorscale\":[[0.0,\"#0d0887\"],[0.1111111111111111,\"#46039f\"],[0.2222222222222222,\"#7201a8\"],[0.3333333333333333,\"#9c179e\"],[0.4444444444444444,\"#bd3786\"],[0.5555555555555556,\"#d8576b\"],[0.6666666666666666,\"#ed7953\"],[0.7777777777777778,\"#fb9f3a\"],[0.8888888888888888,\"#fdca26\"],[1.0,\"#f0f921\"]],\"type\":\"heatmapgl\"}],\"histogram\":[{\"marker\":{\"pattern\":{\"fillmode\":\"overlay\",\"size\":10,\"solidity\":0.2}},\"type\":\"histogram\"}],\"histogram2d\":[{\"colorbar\":{\"outlinewidth\":0,\"ticks\":\"\"},\"colorscale\":[[0.0,\"#0d0887\"],[0.1111111111111111,\"#46039f\"],[0.2222222222222222,\"#7201a8\"],[0.3333333333333333,\"#9c179e\"],[0.4444444444444444,\"#bd3786\"],[0.5555555555555556,\"#d8576b\"],[0.6666666666666666,\"#ed7953\"],[0.7777777777777778,\"#fb9f3a\"],[0.8888888888888888,\"#fdca26\"],[1.0,\"#f0f921\"]],\"type\":\"histogram2d\"}],\"histogram2dcontour\":[{\"colorbar\":{\"outlinewidth\":0,\"ticks\":\"\"},\"colorscale\":[[0.0,\"#0d0887\"],[0.1111111111111111,\"#46039f\"],[0.2222222222222222,\"#7201a8\"],[0.3333333333333333,\"#9c179e\"],[0.4444444444444444,\"#bd3786\"],[0.5555555555555556,\"#d8576b\"],[0.6666666666666666,\"#ed7953\"],[0.7777777777777778,\"#fb9f3a\"],[0.8888888888888888,\"#fdca26\"],[1.0,\"#f0f921\"]],\"type\":\"histogram2dcontour\"}],\"mesh3d\":[{\"colorbar\":{\"outlinewidth\":0,\"ticks\":\"\"},\"type\":\"mesh3d\"}],\"parcoords\":[{\"line\":{\"colorbar\":{\"outlinewidth\":0,\"ticks\":\"\"}},\"type\":\"parcoords\"}],\"pie\":[{\"automargin\":true,\"type\":\"pie\"}],\"scatter\":[{\"marker\":{\"colorbar\":{\"outlinewidth\":0,\"ticks\":\"\"}},\"type\":\"scatter\"}],\"scatter3d\":[{\"line\":{\"colorbar\":{\"outlinewidth\":0,\"ticks\":\"\"}},\"marker\":{\"colorbar\":{\"outlinewidth\":0,\"ticks\":\"\"}},\"type\":\"scatter3d\"}],\"scattercarpet\":[{\"marker\":{\"colorbar\":{\"outlinewidth\":0,\"ticks\":\"\"}},\"type\":\"scattercarpet\"}],\"scattergeo\":[{\"marker\":{\"colorbar\":{\"outlinewidth\":0,\"ticks\":\"\"}},\"type\":\"scattergeo\"}],\"scattergl\":[{\"marker\":{\"colorbar\":{\"outlinewidth\":0,\"ticks\":\"\"}},\"type\":\"scattergl\"}],\"scattermapbox\":[{\"marker\":{\"colorbar\":{\"outlinewidth\":0,\"ticks\":\"\"}},\"type\":\"scattermapbox\"}],\"scatterpolar\":[{\"marker\":{\"colorbar\":{\"outlinewidth\":0,\"ticks\":\"\"}},\"type\":\"scatterpolar\"}],\"scatterpolargl\":[{\"marker\":{\"colorbar\":{\"outlinewidth\":0,\"ticks\":\"\"}},\"type\":\"scatterpolargl\"}],\"scatterternary\":[{\"marker\":{\"colorbar\":{\"outlinewidth\":0,\"ticks\":\"\"}},\"type\":\"scatterternary\"}],\"surface\":[{\"colorbar\":{\"outlinewidth\":0,\"ticks\":\"\"},\"colorscale\":[[0.0,\"#0d0887\"],[0.1111111111111111,\"#46039f\"],[0.2222222222222222,\"#7201a8\"],[0.3333333333333333,\"#9c179e\"],[0.4444444444444444,\"#bd3786\"],[0.5555555555555556,\"#d8576b\"],[0.6666666666666666,\"#ed7953\"],[0.7777777777777778,\"#fb9f3a\"],[0.8888888888888888,\"#fdca26\"],[1.0,\"#f0f921\"]],\"type\":\"surface\"}],\"table\":[{\"cells\":{\"fill\":{\"color\":\"#EBF0F8\"},\"line\":{\"color\":\"white\"}},\"header\":{\"fill\":{\"color\":\"#C8D4E3\"},\"line\":{\"color\":\"white\"}},\"type\":\"table\"}]},\"layout\":{\"annotationdefaults\":{\"arrowcolor\":\"#2a3f5f\",\"arrowhead\":0,\"arrowwidth\":1},\"autotypenumbers\":\"strict\",\"coloraxis\":{\"colorbar\":{\"outlinewidth\":0,\"ticks\":\"\"}},\"colorscale\":{\"diverging\":[[0,\"#8e0152\"],[0.1,\"#c51b7d\"],[0.2,\"#de77ae\"],[0.3,\"#f1b6da\"],[0.4,\"#fde0ef\"],[0.5,\"#f7f7f7\"],[0.6,\"#e6f5d0\"],[0.7,\"#b8e186\"],[0.8,\"#7fbc41\"],[0.9,\"#4d9221\"],[1,\"#276419\"]],\"sequential\":[[0.0,\"#0d0887\"],[0.1111111111111111,\"#46039f\"],[0.2222222222222222,\"#7201a8\"],[0.3333333333333333,\"#9c179e\"],[0.4444444444444444,\"#bd3786\"],[0.5555555555555556,\"#d8576b\"],[0.6666666666666666,\"#ed7953\"],[0.7777777777777778,\"#fb9f3a\"],[0.8888888888888888,\"#fdca26\"],[1.0,\"#f0f921\"]],\"sequentialminus\":[[0.0,\"#0d0887\"],[0.1111111111111111,\"#46039f\"],[0.2222222222222222,\"#7201a8\"],[0.3333333333333333,\"#9c179e\"],[0.4444444444444444,\"#bd3786\"],[0.5555555555555556,\"#d8576b\"],[0.6666666666666666,\"#ed7953\"],[0.7777777777777778,\"#fb9f3a\"],[0.8888888888888888,\"#fdca26\"],[1.0,\"#f0f921\"]]},\"colorway\":[\"#636efa\",\"#EF553B\",\"#00cc96\",\"#ab63fa\",\"#FFA15A\",\"#19d3f3\",\"#FF6692\",\"#B6E880\",\"#FF97FF\",\"#FECB52\"],\"font\":{\"color\":\"#2a3f5f\"},\"geo\":{\"bgcolor\":\"white\",\"lakecolor\":\"white\",\"landcolor\":\"#E5ECF6\",\"showlakes\":true,\"showland\":true,\"subunitcolor\":\"white\"},\"hoverlabel\":{\"align\":\"left\"},\"hovermode\":\"closest\",\"mapbox\":{\"style\":\"light\"},\"paper_bgcolor\":\"white\",\"plot_bgcolor\":\"#E5ECF6\",\"polar\":{\"angularaxis\":{\"gridcolor\":\"white\",\"linecolor\":\"white\",\"ticks\":\"\"},\"bgcolor\":\"#E5ECF6\",\"radialaxis\":{\"gridcolor\":\"white\",\"linecolor\":\"white\",\"ticks\":\"\"}},\"scene\":{\"xaxis\":{\"backgroundcolor\":\"#E5ECF6\",\"gridcolor\":\"white\",\"gridwidth\":2,\"linecolor\":\"white\",\"showbackground\":true,\"ticks\":\"\",\"zerolinecolor\":\"white\"},\"yaxis\":{\"backgroundcolor\":\"#E5ECF6\",\"gridcolor\":\"white\",\"gridwidth\":2,\"linecolor\":\"white\",\"showbackground\":true,\"ticks\":\"\",\"zerolinecolor\":\"white\"},\"zaxis\":{\"backgroundcolor\":\"#E5ECF6\",\"gridcolor\":\"white\",\"gridwidth\":2,\"linecolor\":\"white\",\"showbackground\":true,\"ticks\":\"\",\"zerolinecolor\":\"white\"}},\"shapedefaults\":{\"line\":{\"color\":\"#2a3f5f\"}},\"ternary\":{\"aaxis\":{\"gridcolor\":\"white\",\"linecolor\":\"white\",\"ticks\":\"\"},\"baxis\":{\"gridcolor\":\"white\",\"linecolor\":\"white\",\"ticks\":\"\"},\"bgcolor\":\"#E5ECF6\",\"caxis\":{\"gridcolor\":\"white\",\"linecolor\":\"white\",\"ticks\":\"\"}},\"title\":{\"x\":0.05},\"xaxis\":{\"automargin\":true,\"gridcolor\":\"white\",\"linecolor\":\"white\",\"ticks\":\"\",\"title\":{\"standoff\":15},\"zerolinecolor\":\"white\",\"zerolinewidth\":2},\"yaxis\":{\"automargin\":true,\"gridcolor\":\"white\",\"linecolor\":\"white\",\"ticks\":\"\",\"title\":{\"standoff\":15},\"zerolinecolor\":\"white\",\"zerolinewidth\":2}}},\"xaxis\":{\"anchor\":\"y\",\"domain\":[0.0,1.0],\"title\":{\"text\":\"date\"}},\"yaxis\":{\"anchor\":\"x\",\"domain\":[0.0,1.0],\"title\":{\"text\":\"AAPL\"}},\"legend\":{\"tracegroupgap\":0},\"margin\":{\"t\":60}},                        {\"responsive\": true}                    ).then(function(){\n",
       "                            \n",
       "var gd = document.getElementById('d20c7f3e-a2d5-49e5-8bf7-d77f0da3a52a');\n",
       "var x = new MutationObserver(function (mutations, observer) {{\n",
       "        var display = window.getComputedStyle(gd).display;\n",
       "        if (!display || display === 'none') {{\n",
       "            console.log([gd, 'removed!']);\n",
       "            Plotly.purge(gd);\n",
       "            observer.disconnect();\n",
       "        }}\n",
       "}});\n",
       "\n",
       "// Listen for the removal of the full notebook cells\n",
       "var notebookContainer = gd.closest('#notebook-container');\n",
       "if (notebookContainer) {{\n",
       "    x.observe(notebookContainer, {childList: true});\n",
       "}}\n",
       "\n",
       "// Listen for the clearing of the current output cell\n",
       "var outputEl = gd.closest('.output');\n",
       "if (outputEl) {{\n",
       "    x.observe(outputEl, {childList: true});\n",
       "}}\n",
       "\n",
       "                        })                };                });            </script>        </div>"
      ]
     },
     "metadata": {},
     "output_type": "display_data"
    }
   ],
   "source": [
    "px.line(df, x=\"date\", y=\"AAPL\")"
   ]
  },
  {
   "cell_type": "code",
   "execution_count": 162,
   "id": "1c71b552",
   "metadata": {},
   "outputs": [
    {
     "data": {
      "text/html": [
       "<div>\n",
       "<style scoped>\n",
       "    .dataframe tbody tr th:only-of-type {\n",
       "        vertical-align: middle;\n",
       "    }\n",
       "\n",
       "    .dataframe tbody tr th {\n",
       "        vertical-align: top;\n",
       "    }\n",
       "\n",
       "    .dataframe thead th {\n",
       "        text-align: right;\n",
       "    }\n",
       "</style>\n",
       "<table border=\"1\" class=\"dataframe\">\n",
       "  <thead>\n",
       "    <tr style=\"text-align: right;\">\n",
       "      <th></th>\n",
       "      <th>GOOG</th>\n",
       "      <th>AAPL</th>\n",
       "      <th>AMZN</th>\n",
       "      <th>FB</th>\n",
       "      <th>NFLX</th>\n",
       "      <th>MSFT</th>\n",
       "    </tr>\n",
       "    <tr>\n",
       "      <th>date</th>\n",
       "      <th></th>\n",
       "      <th></th>\n",
       "      <th></th>\n",
       "      <th></th>\n",
       "      <th></th>\n",
       "      <th></th>\n",
       "    </tr>\n",
       "  </thead>\n",
       "  <tbody>\n",
       "    <tr>\n",
       "      <th>2018-01-01</th>\n",
       "      <td>0.000000</td>\n",
       "      <td>0.000000</td>\n",
       "      <td>0.000000</td>\n",
       "      <td>0.000000</td>\n",
       "      <td>0.000000</td>\n",
       "      <td>0.000000</td>\n",
       "    </tr>\n",
       "    <tr>\n",
       "      <th>2018-01-08</th>\n",
       "      <td>0.018172</td>\n",
       "      <td>0.011943</td>\n",
       "      <td>0.061881</td>\n",
       "      <td>-0.040032</td>\n",
       "      <td>0.053526</td>\n",
       "      <td>0.015988</td>\n",
       "    </tr>\n",
       "    <tr>\n",
       "      <th>2018-01-15</th>\n",
       "      <td>0.032008</td>\n",
       "      <td>0.019771</td>\n",
       "      <td>0.053240</td>\n",
       "      <td>-0.029757</td>\n",
       "      <td>0.049860</td>\n",
       "      <td>0.020524</td>\n",
       "    </tr>\n",
       "    <tr>\n",
       "      <th>2018-01-22</th>\n",
       "      <td>0.066783</td>\n",
       "      <td>-0.019943</td>\n",
       "      <td>0.140676</td>\n",
       "      <td>0.016858</td>\n",
       "      <td>0.307681</td>\n",
       "      <td>0.066561</td>\n",
       "    </tr>\n",
       "    <tr>\n",
       "      <th>2018-01-29</th>\n",
       "      <td>0.008773</td>\n",
       "      <td>-0.082857</td>\n",
       "      <td>0.163374</td>\n",
       "      <td>0.018357</td>\n",
       "      <td>0.273537</td>\n",
       "      <td>0.040708</td>\n",
       "    </tr>\n",
       "    <tr>\n",
       "      <th>...</th>\n",
       "      <td>...</td>\n",
       "      <td>...</td>\n",
       "      <td>...</td>\n",
       "      <td>...</td>\n",
       "      <td>...</td>\n",
       "      <td>...</td>\n",
       "    </tr>\n",
       "    <tr>\n",
       "      <th>2019-12-02</th>\n",
       "      <td>0.216280</td>\n",
       "      <td>0.546914</td>\n",
       "      <td>0.425061</td>\n",
       "      <td>0.075997</td>\n",
       "      <td>0.463641</td>\n",
       "      <td>0.720717</td>\n",
       "    </tr>\n",
       "    <tr>\n",
       "      <th>2019-12-09</th>\n",
       "      <td>0.222821</td>\n",
       "      <td>0.572286</td>\n",
       "      <td>0.432660</td>\n",
       "      <td>0.038855</td>\n",
       "      <td>0.421496</td>\n",
       "      <td>0.752239</td>\n",
       "    </tr>\n",
       "    <tr>\n",
       "      <th>2019-12-16</th>\n",
       "      <td>0.224418</td>\n",
       "      <td>0.596800</td>\n",
       "      <td>0.453455</td>\n",
       "      <td>0.104094</td>\n",
       "      <td>0.604362</td>\n",
       "      <td>0.784896</td>\n",
       "    </tr>\n",
       "    <tr>\n",
       "      <th>2019-12-23</th>\n",
       "      <td>0.226504</td>\n",
       "      <td>0.656000</td>\n",
       "      <td>0.521226</td>\n",
       "      <td>0.113728</td>\n",
       "      <td>0.567170</td>\n",
       "      <td>0.802472</td>\n",
       "    </tr>\n",
       "    <tr>\n",
       "      <th>2019-12-30</th>\n",
       "      <td>0.213014</td>\n",
       "      <td>0.678000</td>\n",
       "      <td>0.503360</td>\n",
       "      <td>0.098475</td>\n",
       "      <td>0.540883</td>\n",
       "      <td>0.788185</td>\n",
       "    </tr>\n",
       "  </tbody>\n",
       "</table>\n",
       "<p>105 rows × 6 columns</p>\n",
       "</div>"
      ],
      "text/plain": [
       "                GOOG      AAPL      AMZN        FB      NFLX      MSFT\n",
       "date                                                                  \n",
       "2018-01-01  0.000000  0.000000  0.000000  0.000000  0.000000  0.000000\n",
       "2018-01-08  0.018172  0.011943  0.061881 -0.040032  0.053526  0.015988\n",
       "2018-01-15  0.032008  0.019771  0.053240 -0.029757  0.049860  0.020524\n",
       "2018-01-22  0.066783 -0.019943  0.140676  0.016858  0.307681  0.066561\n",
       "2018-01-29  0.008773 -0.082857  0.163374  0.018357  0.273537  0.040708\n",
       "...              ...       ...       ...       ...       ...       ...\n",
       "2019-12-02  0.216280  0.546914  0.425061  0.075997  0.463641  0.720717\n",
       "2019-12-09  0.222821  0.572286  0.432660  0.038855  0.421496  0.752239\n",
       "2019-12-16  0.224418  0.596800  0.453455  0.104094  0.604362  0.784896\n",
       "2019-12-23  0.226504  0.656000  0.521226  0.113728  0.567170  0.802472\n",
       "2019-12-30  0.213014  0.678000  0.503360  0.098475  0.540883  0.788185\n",
       "\n",
       "[105 rows x 6 columns]"
      ]
     },
     "execution_count": 162,
     "metadata": {},
     "output_type": "execute_result"
    }
   ],
   "source": [
    "df_1 = df.set_index(\"date\") - 1\n",
    "df_1"
   ]
  },
  {
   "cell_type": "code",
   "execution_count": 164,
   "id": "212781b1",
   "metadata": {},
   "outputs": [
    {
     "data": {
      "application/vnd.plotly.v1+json": {
       "config": {
        "plotlyServerURL": "https://plot.ly"
       },
       "data": [
        {
         "alignmentgroup": "True",
         "hovertemplate": "date=%{x}<br>GOOG=%{y}<extra></extra>",
         "legendgroup": "",
         "marker": {
          "color": "#636efa",
          "pattern": {
           "shape": ""
          }
         },
         "name": "",
         "offsetgroup": "",
         "orientation": "v",
         "showlegend": false,
         "textposition": "auto",
         "type": "bar",
         "x": [
          "2018-01-01",
          "2018-01-08",
          "2018-01-15",
          "2018-01-22",
          "2018-01-29",
          "2018-02-05",
          "2018-02-12",
          "2018-02-19",
          "2018-02-26",
          "2018-03-05",
          "2018-03-12",
          "2018-03-19",
          "2018-03-26",
          "2018-04-02",
          "2018-04-09",
          "2018-04-16",
          "2018-04-23",
          "2018-04-30",
          "2018-05-07",
          "2018-05-14",
          "2018-05-21",
          "2018-05-28",
          "2018-06-04",
          "2018-06-11",
          "2018-06-18",
          "2018-06-25",
          "2018-07-02",
          "2018-07-09",
          "2018-07-16",
          "2018-07-23",
          "2018-07-30",
          "2018-08-06",
          "2018-08-13",
          "2018-08-20",
          "2018-08-27",
          "2018-09-03",
          "2018-09-10",
          "2018-09-17",
          "2018-09-24",
          "2018-10-01",
          "2018-10-08",
          "2018-10-15",
          "2018-10-22",
          "2018-10-29",
          "2018-11-05",
          "2018-11-12",
          "2018-11-19",
          "2018-11-26",
          "2018-12-03",
          "2018-12-10",
          "2018-12-17",
          "2018-12-24",
          "2018-12-31",
          "2019-01-07",
          "2019-01-14",
          "2019-01-21",
          "2019-01-28",
          "2019-02-04",
          "2019-02-11",
          "2019-02-18",
          "2019-02-25",
          "2019-03-04",
          "2019-03-11",
          "2019-03-18",
          "2019-03-25",
          "2019-04-01",
          "2019-04-08",
          "2019-04-15",
          "2019-04-22",
          "2019-04-29",
          "2019-05-06",
          "2019-05-13",
          "2019-05-20",
          "2019-05-27",
          "2019-06-03",
          "2019-06-10",
          "2019-06-17",
          "2019-06-24",
          "2019-07-01",
          "2019-07-08",
          "2019-07-15",
          "2019-07-22",
          "2019-07-29",
          "2019-08-05",
          "2019-08-12",
          "2019-08-19",
          "2019-08-26",
          "2019-09-02",
          "2019-09-09",
          "2019-09-16",
          "2019-09-23",
          "2019-09-30",
          "2019-10-07",
          "2019-10-14",
          "2019-10-21",
          "2019-10-28",
          "2019-11-04",
          "2019-11-11",
          "2019-11-18",
          "2019-11-25",
          "2019-12-02",
          "2019-12-09",
          "2019-12-16",
          "2019-12-23",
          "2019-12-30"
         ],
         "xaxis": "x",
         "y": [
          0,
          0.01817227834793611,
          0.03200786645269793,
          0.0667827833897241,
          0.008773163655011684,
          -0.058472326256268414,
          -0.006740817374609964,
          0.02228215476410833,
          -0.021147978573400783,
          0.05244827309088418,
          0.03039293124652631,
          -0.073178895932408,
          -0.06390675474096619,
          -0.08636128913858798,
          -0.06619304620983002,
          -0.026555273882134744,
          -0.06548536358991075,
          -0.049009752937404394,
          -0.0036017619480828156,
          -0.03254311318949976,
          -0.024105628119460376,
          0.01566825464137711,
          0.01691118490534982,
          0.04538982871795949,
          0.048311151906791805,
          0.012175357451264412,
          0.03442118676539718,
          0.07855889203812083,
          0.07501161781137511,
          0.12363120444247033,
          0.11021291672723321,
          0.1228237368393843,
          0.08957294102996549,
          0.10743678374634658,
          0.10520486931411543,
          0.0567939333314087,
          0.06377983748908722,
          0.05793707951946647,
          0.08277763502676638,
          0.05000770891751638,
          0.0071219039061158895,
          -0.005234859425616412,
          -0.027907069811329177,
          -0.040318211086946,
          -0.03273360065927444,
          -0.03696142432997518,
          -0.07108314636841939,
          -0.007076495959582041,
          -0.05956109450044178,
          -0.054553047087324,
          -0.11131071031110962,
          -0.05910746866094141,
          -0.028596590159886803,
          -0.04086265100501085,
          -0.0036017619480828156,
          -0.010197499799451948,
          0.007729802450120227,
          -0.006504922865553153,
          0.010360854093262706,
          0.007385042275841691,
          0.035165084150587056,
          0.036371688964584425,
          0.07460328832645247,
          0.0936918990354445,
          0.0644875210162581,
          0.095188886079836,
          0.10491459776842582,
          0.12169875382994033,
          0.1541874899828073,
          0.07545616206156902,
          0.056285930455275635,
          0.054498670957942696,
          0.02834253428671918,
          0.0012701750318930838,
          -0.032833384735189375,
          -0.015314411970539954,
          0.017827518173657353,
          -0.01934255680470598,
          0.02663689659393942,
          0.03871246906203729,
          0.025285100664744986,
          0.13443660278592673,
          0.08324942313762862,
          0.07782407624223753,
          0.06837955541728191,
          0.04450982089962752,
          0.07790569804679048,
          0.09317481457000465,
          0.12459294475006,
          0.1158561065450241,
          0.11146492858051271,
          0.09686727991194721,
          0.10271900878617002,
          0.12997288460616896,
          0.14779132119051952,
          0.1556027445379411,
          0.1897426297549989,
          0.21106304421151711,
          0.1751993590303178,
          0.1839271156460469,
          0.216279741365772,
          0.2228209905885521,
          0.2244177626161099,
          0.2265044859331442,
          0.21301365800266092
         ],
         "yaxis": "y"
        }
       ],
       "layout": {
        "barmode": "relative",
        "legend": {
         "tracegroupgap": 0
        },
        "margin": {
         "t": 60
        },
        "template": {
         "data": {
          "bar": [
           {
            "error_x": {
             "color": "#2a3f5f"
            },
            "error_y": {
             "color": "#2a3f5f"
            },
            "marker": {
             "line": {
              "color": "#E5ECF6",
              "width": 0.5
             },
             "pattern": {
              "fillmode": "overlay",
              "size": 10,
              "solidity": 0.2
             }
            },
            "type": "bar"
           }
          ],
          "barpolar": [
           {
            "marker": {
             "line": {
              "color": "#E5ECF6",
              "width": 0.5
             },
             "pattern": {
              "fillmode": "overlay",
              "size": 10,
              "solidity": 0.2
             }
            },
            "type": "barpolar"
           }
          ],
          "carpet": [
           {
            "aaxis": {
             "endlinecolor": "#2a3f5f",
             "gridcolor": "white",
             "linecolor": "white",
             "minorgridcolor": "white",
             "startlinecolor": "#2a3f5f"
            },
            "baxis": {
             "endlinecolor": "#2a3f5f",
             "gridcolor": "white",
             "linecolor": "white",
             "minorgridcolor": "white",
             "startlinecolor": "#2a3f5f"
            },
            "type": "carpet"
           }
          ],
          "choropleth": [
           {
            "colorbar": {
             "outlinewidth": 0,
             "ticks": ""
            },
            "type": "choropleth"
           }
          ],
          "contour": [
           {
            "colorbar": {
             "outlinewidth": 0,
             "ticks": ""
            },
            "colorscale": [
             [
              0,
              "#0d0887"
             ],
             [
              0.1111111111111111,
              "#46039f"
             ],
             [
              0.2222222222222222,
              "#7201a8"
             ],
             [
              0.3333333333333333,
              "#9c179e"
             ],
             [
              0.4444444444444444,
              "#bd3786"
             ],
             [
              0.5555555555555556,
              "#d8576b"
             ],
             [
              0.6666666666666666,
              "#ed7953"
             ],
             [
              0.7777777777777778,
              "#fb9f3a"
             ],
             [
              0.8888888888888888,
              "#fdca26"
             ],
             [
              1,
              "#f0f921"
             ]
            ],
            "type": "contour"
           }
          ],
          "contourcarpet": [
           {
            "colorbar": {
             "outlinewidth": 0,
             "ticks": ""
            },
            "type": "contourcarpet"
           }
          ],
          "heatmap": [
           {
            "colorbar": {
             "outlinewidth": 0,
             "ticks": ""
            },
            "colorscale": [
             [
              0,
              "#0d0887"
             ],
             [
              0.1111111111111111,
              "#46039f"
             ],
             [
              0.2222222222222222,
              "#7201a8"
             ],
             [
              0.3333333333333333,
              "#9c179e"
             ],
             [
              0.4444444444444444,
              "#bd3786"
             ],
             [
              0.5555555555555556,
              "#d8576b"
             ],
             [
              0.6666666666666666,
              "#ed7953"
             ],
             [
              0.7777777777777778,
              "#fb9f3a"
             ],
             [
              0.8888888888888888,
              "#fdca26"
             ],
             [
              1,
              "#f0f921"
             ]
            ],
            "type": "heatmap"
           }
          ],
          "heatmapgl": [
           {
            "colorbar": {
             "outlinewidth": 0,
             "ticks": ""
            },
            "colorscale": [
             [
              0,
              "#0d0887"
             ],
             [
              0.1111111111111111,
              "#46039f"
             ],
             [
              0.2222222222222222,
              "#7201a8"
             ],
             [
              0.3333333333333333,
              "#9c179e"
             ],
             [
              0.4444444444444444,
              "#bd3786"
             ],
             [
              0.5555555555555556,
              "#d8576b"
             ],
             [
              0.6666666666666666,
              "#ed7953"
             ],
             [
              0.7777777777777778,
              "#fb9f3a"
             ],
             [
              0.8888888888888888,
              "#fdca26"
             ],
             [
              1,
              "#f0f921"
             ]
            ],
            "type": "heatmapgl"
           }
          ],
          "histogram": [
           {
            "marker": {
             "pattern": {
              "fillmode": "overlay",
              "size": 10,
              "solidity": 0.2
             }
            },
            "type": "histogram"
           }
          ],
          "histogram2d": [
           {
            "colorbar": {
             "outlinewidth": 0,
             "ticks": ""
            },
            "colorscale": [
             [
              0,
              "#0d0887"
             ],
             [
              0.1111111111111111,
              "#46039f"
             ],
             [
              0.2222222222222222,
              "#7201a8"
             ],
             [
              0.3333333333333333,
              "#9c179e"
             ],
             [
              0.4444444444444444,
              "#bd3786"
             ],
             [
              0.5555555555555556,
              "#d8576b"
             ],
             [
              0.6666666666666666,
              "#ed7953"
             ],
             [
              0.7777777777777778,
              "#fb9f3a"
             ],
             [
              0.8888888888888888,
              "#fdca26"
             ],
             [
              1,
              "#f0f921"
             ]
            ],
            "type": "histogram2d"
           }
          ],
          "histogram2dcontour": [
           {
            "colorbar": {
             "outlinewidth": 0,
             "ticks": ""
            },
            "colorscale": [
             [
              0,
              "#0d0887"
             ],
             [
              0.1111111111111111,
              "#46039f"
             ],
             [
              0.2222222222222222,
              "#7201a8"
             ],
             [
              0.3333333333333333,
              "#9c179e"
             ],
             [
              0.4444444444444444,
              "#bd3786"
             ],
             [
              0.5555555555555556,
              "#d8576b"
             ],
             [
              0.6666666666666666,
              "#ed7953"
             ],
             [
              0.7777777777777778,
              "#fb9f3a"
             ],
             [
              0.8888888888888888,
              "#fdca26"
             ],
             [
              1,
              "#f0f921"
             ]
            ],
            "type": "histogram2dcontour"
           }
          ],
          "mesh3d": [
           {
            "colorbar": {
             "outlinewidth": 0,
             "ticks": ""
            },
            "type": "mesh3d"
           }
          ],
          "parcoords": [
           {
            "line": {
             "colorbar": {
              "outlinewidth": 0,
              "ticks": ""
             }
            },
            "type": "parcoords"
           }
          ],
          "pie": [
           {
            "automargin": true,
            "type": "pie"
           }
          ],
          "scatter": [
           {
            "marker": {
             "colorbar": {
              "outlinewidth": 0,
              "ticks": ""
             }
            },
            "type": "scatter"
           }
          ],
          "scatter3d": [
           {
            "line": {
             "colorbar": {
              "outlinewidth": 0,
              "ticks": ""
             }
            },
            "marker": {
             "colorbar": {
              "outlinewidth": 0,
              "ticks": ""
             }
            },
            "type": "scatter3d"
           }
          ],
          "scattercarpet": [
           {
            "marker": {
             "colorbar": {
              "outlinewidth": 0,
              "ticks": ""
             }
            },
            "type": "scattercarpet"
           }
          ],
          "scattergeo": [
           {
            "marker": {
             "colorbar": {
              "outlinewidth": 0,
              "ticks": ""
             }
            },
            "type": "scattergeo"
           }
          ],
          "scattergl": [
           {
            "marker": {
             "colorbar": {
              "outlinewidth": 0,
              "ticks": ""
             }
            },
            "type": "scattergl"
           }
          ],
          "scattermapbox": [
           {
            "marker": {
             "colorbar": {
              "outlinewidth": 0,
              "ticks": ""
             }
            },
            "type": "scattermapbox"
           }
          ],
          "scatterpolar": [
           {
            "marker": {
             "colorbar": {
              "outlinewidth": 0,
              "ticks": ""
             }
            },
            "type": "scatterpolar"
           }
          ],
          "scatterpolargl": [
           {
            "marker": {
             "colorbar": {
              "outlinewidth": 0,
              "ticks": ""
             }
            },
            "type": "scatterpolargl"
           }
          ],
          "scatterternary": [
           {
            "marker": {
             "colorbar": {
              "outlinewidth": 0,
              "ticks": ""
             }
            },
            "type": "scatterternary"
           }
          ],
          "surface": [
           {
            "colorbar": {
             "outlinewidth": 0,
             "ticks": ""
            },
            "colorscale": [
             [
              0,
              "#0d0887"
             ],
             [
              0.1111111111111111,
              "#46039f"
             ],
             [
              0.2222222222222222,
              "#7201a8"
             ],
             [
              0.3333333333333333,
              "#9c179e"
             ],
             [
              0.4444444444444444,
              "#bd3786"
             ],
             [
              0.5555555555555556,
              "#d8576b"
             ],
             [
              0.6666666666666666,
              "#ed7953"
             ],
             [
              0.7777777777777778,
              "#fb9f3a"
             ],
             [
              0.8888888888888888,
              "#fdca26"
             ],
             [
              1,
              "#f0f921"
             ]
            ],
            "type": "surface"
           }
          ],
          "table": [
           {
            "cells": {
             "fill": {
              "color": "#EBF0F8"
             },
             "line": {
              "color": "white"
             }
            },
            "header": {
             "fill": {
              "color": "#C8D4E3"
             },
             "line": {
              "color": "white"
             }
            },
            "type": "table"
           }
          ]
         },
         "layout": {
          "annotationdefaults": {
           "arrowcolor": "#2a3f5f",
           "arrowhead": 0,
           "arrowwidth": 1
          },
          "autotypenumbers": "strict",
          "coloraxis": {
           "colorbar": {
            "outlinewidth": 0,
            "ticks": ""
           }
          },
          "colorscale": {
           "diverging": [
            [
             0,
             "#8e0152"
            ],
            [
             0.1,
             "#c51b7d"
            ],
            [
             0.2,
             "#de77ae"
            ],
            [
             0.3,
             "#f1b6da"
            ],
            [
             0.4,
             "#fde0ef"
            ],
            [
             0.5,
             "#f7f7f7"
            ],
            [
             0.6,
             "#e6f5d0"
            ],
            [
             0.7,
             "#b8e186"
            ],
            [
             0.8,
             "#7fbc41"
            ],
            [
             0.9,
             "#4d9221"
            ],
            [
             1,
             "#276419"
            ]
           ],
           "sequential": [
            [
             0,
             "#0d0887"
            ],
            [
             0.1111111111111111,
             "#46039f"
            ],
            [
             0.2222222222222222,
             "#7201a8"
            ],
            [
             0.3333333333333333,
             "#9c179e"
            ],
            [
             0.4444444444444444,
             "#bd3786"
            ],
            [
             0.5555555555555556,
             "#d8576b"
            ],
            [
             0.6666666666666666,
             "#ed7953"
            ],
            [
             0.7777777777777778,
             "#fb9f3a"
            ],
            [
             0.8888888888888888,
             "#fdca26"
            ],
            [
             1,
             "#f0f921"
            ]
           ],
           "sequentialminus": [
            [
             0,
             "#0d0887"
            ],
            [
             0.1111111111111111,
             "#46039f"
            ],
            [
             0.2222222222222222,
             "#7201a8"
            ],
            [
             0.3333333333333333,
             "#9c179e"
            ],
            [
             0.4444444444444444,
             "#bd3786"
            ],
            [
             0.5555555555555556,
             "#d8576b"
            ],
            [
             0.6666666666666666,
             "#ed7953"
            ],
            [
             0.7777777777777778,
             "#fb9f3a"
            ],
            [
             0.8888888888888888,
             "#fdca26"
            ],
            [
             1,
             "#f0f921"
            ]
           ]
          },
          "colorway": [
           "#636efa",
           "#EF553B",
           "#00cc96",
           "#ab63fa",
           "#FFA15A",
           "#19d3f3",
           "#FF6692",
           "#B6E880",
           "#FF97FF",
           "#FECB52"
          ],
          "font": {
           "color": "#2a3f5f"
          },
          "geo": {
           "bgcolor": "white",
           "lakecolor": "white",
           "landcolor": "#E5ECF6",
           "showlakes": true,
           "showland": true,
           "subunitcolor": "white"
          },
          "hoverlabel": {
           "align": "left"
          },
          "hovermode": "closest",
          "mapbox": {
           "style": "light"
          },
          "paper_bgcolor": "white",
          "plot_bgcolor": "#E5ECF6",
          "polar": {
           "angularaxis": {
            "gridcolor": "white",
            "linecolor": "white",
            "ticks": ""
           },
           "bgcolor": "#E5ECF6",
           "radialaxis": {
            "gridcolor": "white",
            "linecolor": "white",
            "ticks": ""
           }
          },
          "scene": {
           "xaxis": {
            "backgroundcolor": "#E5ECF6",
            "gridcolor": "white",
            "gridwidth": 2,
            "linecolor": "white",
            "showbackground": true,
            "ticks": "",
            "zerolinecolor": "white"
           },
           "yaxis": {
            "backgroundcolor": "#E5ECF6",
            "gridcolor": "white",
            "gridwidth": 2,
            "linecolor": "white",
            "showbackground": true,
            "ticks": "",
            "zerolinecolor": "white"
           },
           "zaxis": {
            "backgroundcolor": "#E5ECF6",
            "gridcolor": "white",
            "gridwidth": 2,
            "linecolor": "white",
            "showbackground": true,
            "ticks": "",
            "zerolinecolor": "white"
           }
          },
          "shapedefaults": {
           "line": {
            "color": "#2a3f5f"
           }
          },
          "ternary": {
           "aaxis": {
            "gridcolor": "white",
            "linecolor": "white",
            "ticks": ""
           },
           "baxis": {
            "gridcolor": "white",
            "linecolor": "white",
            "ticks": ""
           },
           "bgcolor": "#E5ECF6",
           "caxis": {
            "gridcolor": "white",
            "linecolor": "white",
            "ticks": ""
           }
          },
          "title": {
           "x": 0.05
          },
          "xaxis": {
           "automargin": true,
           "gridcolor": "white",
           "linecolor": "white",
           "ticks": "",
           "title": {
            "standoff": 15
           },
           "zerolinecolor": "white",
           "zerolinewidth": 2
          },
          "yaxis": {
           "automargin": true,
           "gridcolor": "white",
           "linecolor": "white",
           "ticks": "",
           "title": {
            "standoff": 15
           },
           "zerolinecolor": "white",
           "zerolinewidth": 2
          }
         }
        },
        "xaxis": {
         "anchor": "y",
         "domain": [
          0,
          1
         ],
         "title": {
          "text": "date"
         }
        },
        "yaxis": {
         "anchor": "x",
         "domain": [
          0,
          1
         ],
         "title": {
          "text": "GOOG"
         }
        }
       }
      },
      "text/html": [
       "<div>                            <div id=\"b52de2ce-e216-472a-9eaa-01a62b08cdb3\" class=\"plotly-graph-div\" style=\"height:525px; width:100%;\"></div>            <script type=\"text/javascript\">                require([\"plotly\"], function(Plotly) {                    window.PLOTLYENV=window.PLOTLYENV || {};                                    if (document.getElementById(\"b52de2ce-e216-472a-9eaa-01a62b08cdb3\")) {                    Plotly.newPlot(                        \"b52de2ce-e216-472a-9eaa-01a62b08cdb3\",                        [{\"alignmentgroup\":\"True\",\"hovertemplate\":\"date=%{x}<br>GOOG=%{y}<extra></extra>\",\"legendgroup\":\"\",\"marker\":{\"color\":\"#636efa\",\"pattern\":{\"shape\":\"\"}},\"name\":\"\",\"offsetgroup\":\"\",\"orientation\":\"v\",\"showlegend\":false,\"textposition\":\"auto\",\"x\":[\"2018-01-01\",\"2018-01-08\",\"2018-01-15\",\"2018-01-22\",\"2018-01-29\",\"2018-02-05\",\"2018-02-12\",\"2018-02-19\",\"2018-02-26\",\"2018-03-05\",\"2018-03-12\",\"2018-03-19\",\"2018-03-26\",\"2018-04-02\",\"2018-04-09\",\"2018-04-16\",\"2018-04-23\",\"2018-04-30\",\"2018-05-07\",\"2018-05-14\",\"2018-05-21\",\"2018-05-28\",\"2018-06-04\",\"2018-06-11\",\"2018-06-18\",\"2018-06-25\",\"2018-07-02\",\"2018-07-09\",\"2018-07-16\",\"2018-07-23\",\"2018-07-30\",\"2018-08-06\",\"2018-08-13\",\"2018-08-20\",\"2018-08-27\",\"2018-09-03\",\"2018-09-10\",\"2018-09-17\",\"2018-09-24\",\"2018-10-01\",\"2018-10-08\",\"2018-10-15\",\"2018-10-22\",\"2018-10-29\",\"2018-11-05\",\"2018-11-12\",\"2018-11-19\",\"2018-11-26\",\"2018-12-03\",\"2018-12-10\",\"2018-12-17\",\"2018-12-24\",\"2018-12-31\",\"2019-01-07\",\"2019-01-14\",\"2019-01-21\",\"2019-01-28\",\"2019-02-04\",\"2019-02-11\",\"2019-02-18\",\"2019-02-25\",\"2019-03-04\",\"2019-03-11\",\"2019-03-18\",\"2019-03-25\",\"2019-04-01\",\"2019-04-08\",\"2019-04-15\",\"2019-04-22\",\"2019-04-29\",\"2019-05-06\",\"2019-05-13\",\"2019-05-20\",\"2019-05-27\",\"2019-06-03\",\"2019-06-10\",\"2019-06-17\",\"2019-06-24\",\"2019-07-01\",\"2019-07-08\",\"2019-07-15\",\"2019-07-22\",\"2019-07-29\",\"2019-08-05\",\"2019-08-12\",\"2019-08-19\",\"2019-08-26\",\"2019-09-02\",\"2019-09-09\",\"2019-09-16\",\"2019-09-23\",\"2019-09-30\",\"2019-10-07\",\"2019-10-14\",\"2019-10-21\",\"2019-10-28\",\"2019-11-04\",\"2019-11-11\",\"2019-11-18\",\"2019-11-25\",\"2019-12-02\",\"2019-12-09\",\"2019-12-16\",\"2019-12-23\",\"2019-12-30\"],\"xaxis\":\"x\",\"y\":[0.0,0.01817227834793611,0.03200786645269793,0.0667827833897241,0.008773163655011684,-0.058472326256268414,-0.006740817374609964,0.02228215476410833,-0.021147978573400783,0.05244827309088418,0.03039293124652631,-0.073178895932408,-0.06390675474096619,-0.08636128913858798,-0.06619304620983002,-0.026555273882134744,-0.06548536358991075,-0.049009752937404394,-0.0036017619480828156,-0.03254311318949976,-0.024105628119460376,0.01566825464137711,0.01691118490534982,0.04538982871795949,0.048311151906791805,0.012175357451264412,0.03442118676539718,0.07855889203812083,0.07501161781137511,0.12363120444247033,0.11021291672723321,0.1228237368393843,0.08957294102996549,0.10743678374634658,0.10520486931411543,0.0567939333314087,0.06377983748908722,0.05793707951946647,0.08277763502676638,0.05000770891751638,0.0071219039061158895,-0.005234859425616412,-0.027907069811329177,-0.040318211086946,-0.03273360065927444,-0.03696142432997518,-0.07108314636841939,-0.007076495959582041,-0.05956109450044178,-0.054553047087324,-0.11131071031110962,-0.05910746866094141,-0.028596590159886803,-0.04086265100501085,-0.0036017619480828156,-0.010197499799451948,0.007729802450120227,-0.006504922865553153,0.010360854093262706,0.007385042275841691,0.035165084150587056,0.036371688964584425,0.07460328832645247,0.0936918990354445,0.0644875210162581,0.095188886079836,0.10491459776842582,0.12169875382994033,0.1541874899828073,0.07545616206156902,0.056285930455275635,0.054498670957942696,0.02834253428671918,0.0012701750318930838,-0.032833384735189375,-0.015314411970539954,0.017827518173657353,-0.01934255680470598,0.02663689659393942,0.03871246906203729,0.025285100664744986,0.13443660278592673,0.08324942313762862,0.07782407624223753,0.06837955541728191,0.04450982089962752,0.07790569804679048,0.09317481457000465,0.12459294475006,0.1158561065450241,0.11146492858051271,0.09686727991194721,0.10271900878617002,0.12997288460616896,0.14779132119051952,0.1556027445379411,0.1897426297549989,0.21106304421151711,0.1751993590303178,0.1839271156460469,0.216279741365772,0.2228209905885521,0.2244177626161099,0.2265044859331442,0.21301365800266092],\"yaxis\":\"y\",\"type\":\"bar\"}],                        {\"template\":{\"data\":{\"bar\":[{\"error_x\":{\"color\":\"#2a3f5f\"},\"error_y\":{\"color\":\"#2a3f5f\"},\"marker\":{\"line\":{\"color\":\"#E5ECF6\",\"width\":0.5},\"pattern\":{\"fillmode\":\"overlay\",\"size\":10,\"solidity\":0.2}},\"type\":\"bar\"}],\"barpolar\":[{\"marker\":{\"line\":{\"color\":\"#E5ECF6\",\"width\":0.5},\"pattern\":{\"fillmode\":\"overlay\",\"size\":10,\"solidity\":0.2}},\"type\":\"barpolar\"}],\"carpet\":[{\"aaxis\":{\"endlinecolor\":\"#2a3f5f\",\"gridcolor\":\"white\",\"linecolor\":\"white\",\"minorgridcolor\":\"white\",\"startlinecolor\":\"#2a3f5f\"},\"baxis\":{\"endlinecolor\":\"#2a3f5f\",\"gridcolor\":\"white\",\"linecolor\":\"white\",\"minorgridcolor\":\"white\",\"startlinecolor\":\"#2a3f5f\"},\"type\":\"carpet\"}],\"choropleth\":[{\"colorbar\":{\"outlinewidth\":0,\"ticks\":\"\"},\"type\":\"choropleth\"}],\"contour\":[{\"colorbar\":{\"outlinewidth\":0,\"ticks\":\"\"},\"colorscale\":[[0.0,\"#0d0887\"],[0.1111111111111111,\"#46039f\"],[0.2222222222222222,\"#7201a8\"],[0.3333333333333333,\"#9c179e\"],[0.4444444444444444,\"#bd3786\"],[0.5555555555555556,\"#d8576b\"],[0.6666666666666666,\"#ed7953\"],[0.7777777777777778,\"#fb9f3a\"],[0.8888888888888888,\"#fdca26\"],[1.0,\"#f0f921\"]],\"type\":\"contour\"}],\"contourcarpet\":[{\"colorbar\":{\"outlinewidth\":0,\"ticks\":\"\"},\"type\":\"contourcarpet\"}],\"heatmap\":[{\"colorbar\":{\"outlinewidth\":0,\"ticks\":\"\"},\"colorscale\":[[0.0,\"#0d0887\"],[0.1111111111111111,\"#46039f\"],[0.2222222222222222,\"#7201a8\"],[0.3333333333333333,\"#9c179e\"],[0.4444444444444444,\"#bd3786\"],[0.5555555555555556,\"#d8576b\"],[0.6666666666666666,\"#ed7953\"],[0.7777777777777778,\"#fb9f3a\"],[0.8888888888888888,\"#fdca26\"],[1.0,\"#f0f921\"]],\"type\":\"heatmap\"}],\"heatmapgl\":[{\"colorbar\":{\"outlinewidth\":0,\"ticks\":\"\"},\"colorscale\":[[0.0,\"#0d0887\"],[0.1111111111111111,\"#46039f\"],[0.2222222222222222,\"#7201a8\"],[0.3333333333333333,\"#9c179e\"],[0.4444444444444444,\"#bd3786\"],[0.5555555555555556,\"#d8576b\"],[0.6666666666666666,\"#ed7953\"],[0.7777777777777778,\"#fb9f3a\"],[0.8888888888888888,\"#fdca26\"],[1.0,\"#f0f921\"]],\"type\":\"heatmapgl\"}],\"histogram\":[{\"marker\":{\"pattern\":{\"fillmode\":\"overlay\",\"size\":10,\"solidity\":0.2}},\"type\":\"histogram\"}],\"histogram2d\":[{\"colorbar\":{\"outlinewidth\":0,\"ticks\":\"\"},\"colorscale\":[[0.0,\"#0d0887\"],[0.1111111111111111,\"#46039f\"],[0.2222222222222222,\"#7201a8\"],[0.3333333333333333,\"#9c179e\"],[0.4444444444444444,\"#bd3786\"],[0.5555555555555556,\"#d8576b\"],[0.6666666666666666,\"#ed7953\"],[0.7777777777777778,\"#fb9f3a\"],[0.8888888888888888,\"#fdca26\"],[1.0,\"#f0f921\"]],\"type\":\"histogram2d\"}],\"histogram2dcontour\":[{\"colorbar\":{\"outlinewidth\":0,\"ticks\":\"\"},\"colorscale\":[[0.0,\"#0d0887\"],[0.1111111111111111,\"#46039f\"],[0.2222222222222222,\"#7201a8\"],[0.3333333333333333,\"#9c179e\"],[0.4444444444444444,\"#bd3786\"],[0.5555555555555556,\"#d8576b\"],[0.6666666666666666,\"#ed7953\"],[0.7777777777777778,\"#fb9f3a\"],[0.8888888888888888,\"#fdca26\"],[1.0,\"#f0f921\"]],\"type\":\"histogram2dcontour\"}],\"mesh3d\":[{\"colorbar\":{\"outlinewidth\":0,\"ticks\":\"\"},\"type\":\"mesh3d\"}],\"parcoords\":[{\"line\":{\"colorbar\":{\"outlinewidth\":0,\"ticks\":\"\"}},\"type\":\"parcoords\"}],\"pie\":[{\"automargin\":true,\"type\":\"pie\"}],\"scatter\":[{\"marker\":{\"colorbar\":{\"outlinewidth\":0,\"ticks\":\"\"}},\"type\":\"scatter\"}],\"scatter3d\":[{\"line\":{\"colorbar\":{\"outlinewidth\":0,\"ticks\":\"\"}},\"marker\":{\"colorbar\":{\"outlinewidth\":0,\"ticks\":\"\"}},\"type\":\"scatter3d\"}],\"scattercarpet\":[{\"marker\":{\"colorbar\":{\"outlinewidth\":0,\"ticks\":\"\"}},\"type\":\"scattercarpet\"}],\"scattergeo\":[{\"marker\":{\"colorbar\":{\"outlinewidth\":0,\"ticks\":\"\"}},\"type\":\"scattergeo\"}],\"scattergl\":[{\"marker\":{\"colorbar\":{\"outlinewidth\":0,\"ticks\":\"\"}},\"type\":\"scattergl\"}],\"scattermapbox\":[{\"marker\":{\"colorbar\":{\"outlinewidth\":0,\"ticks\":\"\"}},\"type\":\"scattermapbox\"}],\"scatterpolar\":[{\"marker\":{\"colorbar\":{\"outlinewidth\":0,\"ticks\":\"\"}},\"type\":\"scatterpolar\"}],\"scatterpolargl\":[{\"marker\":{\"colorbar\":{\"outlinewidth\":0,\"ticks\":\"\"}},\"type\":\"scatterpolargl\"}],\"scatterternary\":[{\"marker\":{\"colorbar\":{\"outlinewidth\":0,\"ticks\":\"\"}},\"type\":\"scatterternary\"}],\"surface\":[{\"colorbar\":{\"outlinewidth\":0,\"ticks\":\"\"},\"colorscale\":[[0.0,\"#0d0887\"],[0.1111111111111111,\"#46039f\"],[0.2222222222222222,\"#7201a8\"],[0.3333333333333333,\"#9c179e\"],[0.4444444444444444,\"#bd3786\"],[0.5555555555555556,\"#d8576b\"],[0.6666666666666666,\"#ed7953\"],[0.7777777777777778,\"#fb9f3a\"],[0.8888888888888888,\"#fdca26\"],[1.0,\"#f0f921\"]],\"type\":\"surface\"}],\"table\":[{\"cells\":{\"fill\":{\"color\":\"#EBF0F8\"},\"line\":{\"color\":\"white\"}},\"header\":{\"fill\":{\"color\":\"#C8D4E3\"},\"line\":{\"color\":\"white\"}},\"type\":\"table\"}]},\"layout\":{\"annotationdefaults\":{\"arrowcolor\":\"#2a3f5f\",\"arrowhead\":0,\"arrowwidth\":1},\"autotypenumbers\":\"strict\",\"coloraxis\":{\"colorbar\":{\"outlinewidth\":0,\"ticks\":\"\"}},\"colorscale\":{\"diverging\":[[0,\"#8e0152\"],[0.1,\"#c51b7d\"],[0.2,\"#de77ae\"],[0.3,\"#f1b6da\"],[0.4,\"#fde0ef\"],[0.5,\"#f7f7f7\"],[0.6,\"#e6f5d0\"],[0.7,\"#b8e186\"],[0.8,\"#7fbc41\"],[0.9,\"#4d9221\"],[1,\"#276419\"]],\"sequential\":[[0.0,\"#0d0887\"],[0.1111111111111111,\"#46039f\"],[0.2222222222222222,\"#7201a8\"],[0.3333333333333333,\"#9c179e\"],[0.4444444444444444,\"#bd3786\"],[0.5555555555555556,\"#d8576b\"],[0.6666666666666666,\"#ed7953\"],[0.7777777777777778,\"#fb9f3a\"],[0.8888888888888888,\"#fdca26\"],[1.0,\"#f0f921\"]],\"sequentialminus\":[[0.0,\"#0d0887\"],[0.1111111111111111,\"#46039f\"],[0.2222222222222222,\"#7201a8\"],[0.3333333333333333,\"#9c179e\"],[0.4444444444444444,\"#bd3786\"],[0.5555555555555556,\"#d8576b\"],[0.6666666666666666,\"#ed7953\"],[0.7777777777777778,\"#fb9f3a\"],[0.8888888888888888,\"#fdca26\"],[1.0,\"#f0f921\"]]},\"colorway\":[\"#636efa\",\"#EF553B\",\"#00cc96\",\"#ab63fa\",\"#FFA15A\",\"#19d3f3\",\"#FF6692\",\"#B6E880\",\"#FF97FF\",\"#FECB52\"],\"font\":{\"color\":\"#2a3f5f\"},\"geo\":{\"bgcolor\":\"white\",\"lakecolor\":\"white\",\"landcolor\":\"#E5ECF6\",\"showlakes\":true,\"showland\":true,\"subunitcolor\":\"white\"},\"hoverlabel\":{\"align\":\"left\"},\"hovermode\":\"closest\",\"mapbox\":{\"style\":\"light\"},\"paper_bgcolor\":\"white\",\"plot_bgcolor\":\"#E5ECF6\",\"polar\":{\"angularaxis\":{\"gridcolor\":\"white\",\"linecolor\":\"white\",\"ticks\":\"\"},\"bgcolor\":\"#E5ECF6\",\"radialaxis\":{\"gridcolor\":\"white\",\"linecolor\":\"white\",\"ticks\":\"\"}},\"scene\":{\"xaxis\":{\"backgroundcolor\":\"#E5ECF6\",\"gridcolor\":\"white\",\"gridwidth\":2,\"linecolor\":\"white\",\"showbackground\":true,\"ticks\":\"\",\"zerolinecolor\":\"white\"},\"yaxis\":{\"backgroundcolor\":\"#E5ECF6\",\"gridcolor\":\"white\",\"gridwidth\":2,\"linecolor\":\"white\",\"showbackground\":true,\"ticks\":\"\",\"zerolinecolor\":\"white\"},\"zaxis\":{\"backgroundcolor\":\"#E5ECF6\",\"gridcolor\":\"white\",\"gridwidth\":2,\"linecolor\":\"white\",\"showbackground\":true,\"ticks\":\"\",\"zerolinecolor\":\"white\"}},\"shapedefaults\":{\"line\":{\"color\":\"#2a3f5f\"}},\"ternary\":{\"aaxis\":{\"gridcolor\":\"white\",\"linecolor\":\"white\",\"ticks\":\"\"},\"baxis\":{\"gridcolor\":\"white\",\"linecolor\":\"white\",\"ticks\":\"\"},\"bgcolor\":\"#E5ECF6\",\"caxis\":{\"gridcolor\":\"white\",\"linecolor\":\"white\",\"ticks\":\"\"}},\"title\":{\"x\":0.05},\"xaxis\":{\"automargin\":true,\"gridcolor\":\"white\",\"linecolor\":\"white\",\"ticks\":\"\",\"title\":{\"standoff\":15},\"zerolinecolor\":\"white\",\"zerolinewidth\":2},\"yaxis\":{\"automargin\":true,\"gridcolor\":\"white\",\"linecolor\":\"white\",\"ticks\":\"\",\"title\":{\"standoff\":15},\"zerolinecolor\":\"white\",\"zerolinewidth\":2}}},\"xaxis\":{\"anchor\":\"y\",\"domain\":[0.0,1.0],\"title\":{\"text\":\"date\"}},\"yaxis\":{\"anchor\":\"x\",\"domain\":[0.0,1.0],\"title\":{\"text\":\"GOOG\"}},\"legend\":{\"tracegroupgap\":0},\"margin\":{\"t\":60},\"barmode\":\"relative\"},                        {\"responsive\": true}                    ).then(function(){\n",
       "                            \n",
       "var gd = document.getElementById('b52de2ce-e216-472a-9eaa-01a62b08cdb3');\n",
       "var x = new MutationObserver(function (mutations, observer) {{\n",
       "        var display = window.getComputedStyle(gd).display;\n",
       "        if (!display || display === 'none') {{\n",
       "            console.log([gd, 'removed!']);\n",
       "            Plotly.purge(gd);\n",
       "            observer.disconnect();\n",
       "        }}\n",
       "}});\n",
       "\n",
       "// Listen for the removal of the full notebook cells\n",
       "var notebookContainer = gd.closest('#notebook-container');\n",
       "if (notebookContainer) {{\n",
       "    x.observe(notebookContainer, {childList: true});\n",
       "}}\n",
       "\n",
       "// Listen for the clearing of the current output cell\n",
       "var outputEl = gd.closest('.output');\n",
       "if (outputEl) {{\n",
       "    x.observe(outputEl, {childList: true});\n",
       "}}\n",
       "\n",
       "                        })                };                });            </script>        </div>"
      ]
     },
     "metadata": {},
     "output_type": "display_data"
    }
   ],
   "source": [
    "px.bar(df_1, x=df_1.index, y=\"GOOG\")"
   ]
  },
  {
   "cell_type": "code",
   "execution_count": 167,
   "id": "e6d35064",
   "metadata": {},
   "outputs": [
    {
     "data": {
      "application/vnd.plotly.v1+json": {
       "config": {
        "plotlyServerURL": "https://plot.ly"
       },
       "data": [
        {
         "close": [
          127.830002,
          128.720001,
          128.449997,
          129.5,
          133,
          132.169998,
          128.789993,
          130.419998,
          128.460007,
          129.089996,
          129.360001,
          128.539993,
          126.410004,
          126.599998,
          127.139999,
          124.510002,
          122.239998,
          124.449997,
          123.589996,
          124.949997,
          127.040001,
          128.470001,
          127.5,
          125.900002,
          127.209999,
          126.690002,
          123.379997,
          124.239998,
          123.25,
          126.370003,
          124.43,
          124.25,
          125.32,
          127.349998,
          126.010002,
          125.599998,
          126.559998,
          127.099998,
          126.849998,
          126.300003,
          126.779999,
          126.169998,
          124.75,
          127.599998,
          126.910004,
          128.619995,
          129.669998,
          130.279999,
          132.649994,
          130.559998,
          128.639999,
          125.150002,
          128.949997,
          128.699997,
          125.800003,
          125.010002,
          125.260002,
          127.620003,
          126.32,
          125.870003,
          126.010002,
          128.949997,
          128.770004,
          130.190002,
          130.070007,
          130.059998,
          131.389999,
          132.539993,
          129.619995,
          132.039993,
          131.779999,
          130.279999,
          130.539993,
          129.960007,
          130.119995,
          129.360001,
          128.649994,
          127.800003,
          127.419998,
          128.880005,
          128.589996,
          127.169998,
          126.919998,
          127.599998,
          127.300003,
          127.879997,
          126.599998,
          127.610001,
          127.029999,
          128.110001,
          127.5,
          126.75,
          124.529999,
          125.43,
          126.599998,
          126.440002,
          126,
          125.690002,
          122.57,
          120.07,
          123.279999,
          125.660004,
          125.610001,
          126.82,
          128.509995,
          129.619995,
          132.070007,
          130.75,
          125.220001,
          125.160004,
          124.5,
          122.769997,
          123.379997,
          122.989998,
          122.370003,
          121.300003,
          118.440002,
          114.639999,
          115.400002,
          115.129997,
          115.519997,
          119.720001,
          113.489998,
          115.239998,
          115.150002,
          115.959999,
          117.160004,
          116.5,
          115.010002,
          112.650002,
          105.760002,
          103.120003,
          103.739998,
          109.690002,
          112.919998,
          113.290001,
          112.760002,
          107.720001,
          112.339996,
          110.370003,
          109.269997,
          112.309998,
          110.150002,
          112.57,
          114.209999,
          115.309998,
          116.279999,
          116.410004,
          113.919998,
          113.449997,
          115.209999,
          113.400002,
          114.32,
          115,
          114.709999,
          112.440002,
          109.059998,
          110.300003,
          109.580002,
          110.379997,
          110.779999,
          111.309998,
          110.779999,
          109.5,
          112.120003,
          111.599998,
          111.790001,
          110.209999,
          111.860001,
          111.040001,
          111.730003,
          113.769997,
          113.760002,
          115.5,
          119.080002,
          115.279999,
          114.550003,
          119.269997,
          120.529999,
          119.5,
          121.18,
          122.57,
          122,
          120.919998,
          121.059998,
          120.57,
          116.769997,
          116.110001,
          115.720001,
          112.339996,
          114.18,
          113.690002,
          117.290001,
          118.779999,
          119.300003,
          117.75,
          118.879997,
          118.029999,
          117.809998,
          118.300003,
          117.339996,
          116.279999,
          115.199997,
          119.029999,
          118.279999,
          118.230003,
          115.620003,
          116.169998,
          113.18,
          112.480003,
          110.489998,
          111.339996,
          108.980003,
          106.029999,
          107.330002,
          107.230003,
          108.610001,
          108.029999,
          106.82,
          108.739998,
          107.32,
          105.260002,
          105.349998,
          102.709999,
          100.699997,
          96.449997,
          96.959999,
          98.529999,
          99.959999,
          97.389999,
          99.519997,
          97.129997,
          96.660004,
          96.790001,
          96.300003,
          101.419998,
          99.440002,
          99.989998,
          93.419998,
          94.089996,
          97.339996,
          96.43,
          94.480003,
          96.349998,
          96.599998,
          94.019997,
          95.010002,
          94.989998,
          94.269997,
          93.699997,
          93.989998,
          96.639999,
          98.120003,
          96.260002,
          96.040001,
          96.879997,
          94.690002,
          96.099998,
          96.760002,
          96.910004,
          96.690002,
          100.529999,
          100.75,
          101.5,
          103.010002,
          101.870003,
          101.029999,
          101.120003,
          101.169998,
          102.260002,
          102.519997,
          104.580002,
          105.970001,
          105.800003,
          105.919998,
          105.910004,
          106.720001,
          106.129997,
          105.669998,
          105.190002,
          107.68,
          109.559998,
          108.989998,
          109.989998,
          111.120003,
          109.809998,
          110.959999,
          108.540001,
          108.660004,
          109.019997,
          110.440002,
          112.040001,
          112.099998,
          109.849998,
          107.480003,
          106.910004,
          107.129997,
          105.970001,
          105.68,
          105.080002,
          104.349998,
          97.82,
          94.830002,
          93.739998,
          93.639999,
          95.18,
          94.190002,
          93.239998,
          92.720001,
          92.790001,
          93.419998,
          92.510002,
          90.339996,
          90.519997,
          93.879997,
          93.489998,
          94.559998,
          94.199997,
          95.220001,
          96.43,
          97.900002,
          99.620003,
          100.410004,
          100.349998,
          99.860001,
          98.459999,
          97.720001,
          97.919998,
          98.629997,
          99.029999,
          98.940002,
          99.650002,
          98.830002,
          97.339996,
          97.459999,
          97.139999,
          97.550003,
          95.330002,
          95.099998,
          95.910004,
          95.550003,
          96.099998,
          93.400002,
          92.040001,
          93.589996,
          94.400002,
          95.599998,
          95.889999,
          94.989998,
          95.529999,
          95.940002,
          96.68,
          96.980003,
          97.419998,
          96.870003,
          98.790001,
          98.779999,
          99.830002,
          99.870003,
          99.959999,
          99.43,
          98.660004,
          97.339996,
          96.669998,
          102.949997,
          104.339996,
          104.209999,
          106.050003,
          104.480003,
          105.790001,
          105.870003,
          107.480003,
          108.370003,
          108.809998,
          108,
          107.93,
          108.18,
          109.480003,
          109.379997,
          109.220001,
          109.080002,
          109.360001,
          108.510002,
          108.849998,
          108.029999,
          107.57,
          106.940002,
          106.82,
          106,
          106.099998,
          106.730003,
          107.730003,
          107.699997,
          108.360001,
          105.519997,
          103.129997,
          105.440002,
          107.949997,
          111.769997,
          115.57,
          114.919998,
          113.580002,
          113.57,
          113.550003,
          114.620003,
          112.709999,
          112.879997,
          113.089996,
          113.949997,
          112.18,
          113.050003,
          112.519997,
          113,
          113.050003,
          113.889999,
          114.059998,
          116.050003,
          116.300003,
          117.339996,
          116.980003,
          117.629997,
          117.550003,
          117.470001,
          117.120003,
          117.059998,
          116.599998,
          117.650002,
          118.25,
          115.589996,
          114.480003,
          113.720001,
          113.540001,
          111.489998,
          111.589996,
          109.830002,
          108.839996,
          110.410004,
          111.059998,
          110.879997,
          107.790001,
          108.43,
          105.709999,
          107.110001,
          109.989998,
          109.949997,
          110.059998,
          111.730003,
          111.800003,
          111.230003,
          111.790001,
          111.57,
          111.459999,
          110.519997,
          109.489998,
          109.900002,
          109.110001,
          109.949997,
          111.029999,
          112.120003,
          113.949997,
          113.300003,
          115.190002,
          115.190002,
          115.82,
          115.970001,
          116.639999,
          116.949997,
          117.059998,
          116.290001,
          116.519997,
          117.260002,
          116.760002,
          116.730003,
          115.82,
          116.150002,
          116.019997,
          116.610001,
          117.910004,
          118.989998,
          119.110001,
          119.75,
          119.25,
          119.040001,
          120,
          119.989998,
          119.779999,
          120,
          120.080002,
          119.970001,
          121.879997,
          121.940002,
          121.949997,
          121.629997,
          121.349998,
          128.75,
          128.529999,
          129.080002,
          130.289993,
          131.529999,
          132.039993,
          132.419998,
          132.119995,
          133.289993,
          135.020004,
          135.509995,
          135.350006
         ],
         "high": [
          128.880005,
          128.779999,
          129.029999,
          129.5,
          133,
          133.600006,
          131.600006,
          130.869995,
          130.570007,
          130.279999,
          129.520004,
          129.559998,
          128.75,
          129.369995,
          129.570007,
          127.220001,
          124.769997,
          124.900002,
          125.400002,
          124.949997,
          127.32,
          129.160004,
          129.25,
          128.399994,
          127.849998,
          128.039993,
          126.82,
          124.879997,
          124.699997,
          126.400002,
          126.489998,
          125.120003,
          125.559998,
          127.510002,
          128.119995,
          126.400002,
          126.580002,
          127.209999,
          128.570007,
          127.290001,
          127.129997,
          127.099998,
          126.139999,
          128.119995,
          128.199997,
          128.869995,
          130.419998,
          130.630005,
          133.130005,
          134.539993,
          131.589996,
          128.639999,
          130.130005,
          130.570007,
          128.449997,
          126.75,
          126.080002,
          127.620003,
          127.559998,
          126.879997,
          127.190002,
          128.949997,
          129.490005,
          130.720001,
          130.880005,
          130.979996,
          131.630005,
          132.970001,
          132.910004,
          132.259995,
          131.949997,
          131.449997,
          131.389999,
          130.660004,
          130.940002,
          130.580002,
          129.690002,
          129.210007,
          128.080002,
          129.339996,
          130.179993,
          128.330002,
          127.239998,
          127.849998,
          127.879997,
          128.309998,
          127.82,
          128.059998,
          127.610001,
          129.800003,
          129.199997,
          127.989998,
          126.470001,
          126.120003,
          126.940002,
          126.690002,
          126.230003,
          126.150002,
          124.639999,
          124.059998,
          123.849998,
          125.760002,
          126.370003,
          127.150002,
          128.570007,
          129.619995,
          132.970001,
          132.919998,
          125.5,
          127.089996,
          125.739998,
          123.610001,
          123.910004,
          123.5,
          122.57,
          122.639999,
          122.57,
          117.699997,
          117.440002,
          116.5,
          116.25,
          119.989998,
          118.18,
          115.419998,
          116.400002,
          116.309998,
          117.650002,
          117.440002,
          116.519997,
          114.349998,
          111.900002,
          108.800003,
          111.110001,
          109.889999,
          113.239998,
          113.309998,
          114.529999,
          111.879997,
          112.339996,
          112.779999,
          110.449997,
          112.559998,
          114.019997,
          113.279999,
          114.209999,
          116.889999,
          116.529999,
          116.540001,
          116.489998,
          114.300003,
          115.370003,
          114.18,
          114.720001,
          115.5,
          116.690002,
          114.57,
          113.510002,
          111.540001,
          109.620003,
          111.010002,
          111.370003,
          111.739998,
          111.769997,
          110.190002,
          112.279999,
          112.75,
          112.449997,
          111.519997,
          112.099998,
          112,
          111.75,
          114.169998,
          115.580002,
          115.5,
          119.230003,
          118.129997,
          116.540001,
          119.300003,
          120.690002,
          121.220001,
          121.360001,
          123.489998,
          123.82,
          122.690002,
          121.809998,
          121.809998,
          118.07,
          117.419998,
          116.82,
          115.57,
          114.239998,
          115.050003,
          117.489998,
          119.75,
          119.919998,
          119.730003,
          119.349998,
          119.230003,
          118.410004,
          119.410004,
          118.809998,
          118.110001,
          116.790001,
          119.25,
          119.860001,
          118.599998,
          117.690002,
          116.940002,
          115.389999,
          112.68,
          112.800003,
          111.989998,
          112.25,
          109.519997,
          107.370003,
          107.720001,
          108.849998,
          109,
          107.690002,
          109.43,
          108.699997,
          107.029999,
          105.370003,
          105.849998,
          102.370003,
          100.129997,
          99.110001,
          99.059998,
          100.690002,
          101.190002,
          100.480003,
          97.709999,
          98.650002,
          98.190002,
          97.879997,
          101.459999,
          101.529999,
          100.879997,
          96.629997,
          94.519997,
          97.339996,
          96.709999,
          96.040001,
          96.839996,
          97.330002,
          96.919998,
          95.699997,
          95.940002,
          96.349998,
          94.720001,
          94.5,
          96.849998,
          98.209999,
          98.889999,
          96.760002,
          96.900002,
          96.5,
          96.379997,
          96.760002,
          98.019997,
          98.230003,
          100.769997,
          100.889999,
          101.709999,
          103.75,
          102.830002,
          101.760002,
          101.580002,
          102.239998,
          102.279999,
          102.910004,
          105.18,
          106.309998,
          106.470001,
          106.5,
          107.650002,
          107.290001,
          107.07,
          106.25,
          106.190002,
          107.790001,
          110.419998,
          109.900002,
          110,
          112.190002,
          110.730003,
          110.980003,
          110.419998,
          109.769997,
          110.610001,
          110.5,
          112.339996,
          112.389999,
          112.300003,
          108.949997,
          108,
          108.089996,
          106.93,
          106.480003,
          105.650002,
          105.300003,
          98.709999,
          97.879997,
          94.720001,
          94.080002,
          95.739998,
          95.900002,
          94.07,
          93.449997,
          93.769997,
          93.57,
          93.57,
          92.779999,
          91.669998,
          94.389999,
          94.699997,
          95.209999,
          94.639999,
          95.43,
          97.190002,
          98.089996,
          99.739998,
          100.730003,
          100.470001,
          100.400002,
          99.540001,
          97.839996,
          98.269997,
          101.889999,
          99.870003,
          99.559998,
          99.989998,
          99.349998,
          99.120003,
          98.480003,
          98.410004,
          97.75,
          96.650002,
          96.57,
          96.349998,
          96.889999,
          96.290001,
          94.660004,
          93.050003,
          93.660004,
          94.550003,
          95.769997,
          96.470001,
          95.400002,
          95.660004,
          96.5,
          96.889999,
          97.650002,
          97.699997,
          97.669998,
          98.989998,
          99.300003,
          100.129997,
          100,
          100.459999,
          101,
          99.300003,
          98.839996,
          97.970001,
          104.349998,
          104.449997,
          104.550003,
          106.150002,
          106.07,
          105.839996,
          106,
          107.650002,
          108.370003,
          108.940002,
          108.900002,
          108.93,
          108.440002,
          109.540001,
          110.230003,
          109.370003,
          109.599998,
          109.690002,
          109.099998,
          109.32,
          108.75,
          107.879997,
          107.949997,
          107.440002,
          106.5,
          106.57,
          106.800003,
          108,
          108.300003,
          108.760002,
          107.269997,
          105.720001,
          105.720001,
          108.790001,
          113.029999,
          115.730003,
          116.129997,
          116.18,
          114.120003,
          113.989998,
          114.940002,
          114.790001,
          113.389999,
          113.18,
          114.639999,
          113.800003,
          113.370003,
          113.050003,
          114.309998,
          113.660004,
          114.339996,
          114.559998,
          116.75,
          118.690002,
          117.980003,
          117.440002,
          118.169998,
          117.839996,
          118.209999,
          117.760002,
          117.379997,
          116.910004,
          117.739998,
          118.360001,
          115.699997,
          115.860001,
          115.209999,
          114.230003,
          113.769997,
          112.349998,
          111.459999,
          110.25,
          110.510002,
          111.720001,
          111.32,
          111.089996,
          108.870003,
          107.809998,
          107.68,
          110.230003,
          110.349998,
          110.540001,
          111.989998,
          112.419998,
          111.510002,
          111.870003,
          112.470001,
          112.029999,
          112.199997,
          110.940002,
          110.089996,
          110.029999,
          110.360001,
          111.190002,
          112.43,
          114.699997,
          115,
          115.919998,
          116.199997,
          116.730003,
          116.5,
          117.379997,
          117.5,
          117.400002,
          116.510002,
          116.519997,
          117.800003,
          118.019997,
          117.110001,
          117.199997,
          116.330002,
          116.510002,
          116.860001,
          118.160004,
          119.43,
          119.379997,
          119.93,
          119.300003,
          119.620003,
          120.239998,
          120.5,
          120.089996,
          120.449997,
          120.809998,
          120.099998,
          122.099998,
          122.440002,
          122.349998,
          121.629997,
          121.389999,
          130.490005,
          129.389999,
          129.190002,
          130.5,
          132.089996,
          132.220001,
          132.449997,
          132.940002,
          133.820007,
          135.089996,
          136.270004,
          135.899994
         ],
         "low": [
          126.919998,
          127.449997,
          128.330002,
          128.050003,
          129.660004,
          131.169998,
          128.149994,
          126.610001,
          128.240005,
          128.300003,
          128.089996,
          128.320007,
          125.760002,
          126.260002,
          125.059998,
          123.800003,
          122.110001,
          121.629997,
          122.580002,
          122.870003,
          125.650002,
          126.370003,
          127.400002,
          125.160004,
          126.519997,
          126.559998,
          123.379997,
          122.599998,
          122.910004,
          124,
          124.360001,
          123.099998,
          124.190002,
          124.330002,
          125.980003,
          124.970001,
          124.660004,
          125.260002,
          126.610001,
          125.910004,
          126.010002,
          126.110001,
          124.459999,
          125.169998,
          126.669998,
          126.32,
          128.139999,
          129.229996,
          131.149994,
          129.570007,
          128.300003,
          124.580002,
          125.300003,
          128.259995,
          125.779999,
          123.360001,
          124.019997,
          126.110001,
          125.629997,
          124.82,
          125.870003,
          127.160004,
          128.210007,
          128.360001,
          129.639999,
          129.339996,
          129.830002,
          131.399994,
          129.119995,
          130.050003,
          131.100006,
          129.899994,
          130.050003,
          129.320007,
          129.899994,
          128.910004,
          128.360001,
          126.830002,
          125.620003,
          127.849998,
          128.479996,
          127.110001,
          125.709999,
          126.370003,
          126.739998,
          127.220001,
          126.400002,
          127.080002,
          126.879997,
          127.120003,
          127.5,
          126.510002,
          124.480003,
          124.860001,
          125.989998,
          125.769997,
          124.849998,
          123.769997,
          122.540001,
          119.220001,
          121.209999,
          124.32,
          125.040001,
          125.580002,
          127.349998,
          128.309998,
          130.699997,
          130.320007,
          121.989998,
          125.059998,
          123.900002,
          122.120003,
          122.550003,
          122.269997,
          121.709999,
          120.910004,
          117.519997,
          113.25,
          112.099998,
          114.120003,
          114.5,
          116.529999,
          113.330002,
          109.629997,
          114.540001,
          114.010002,
          115.5,
          116.010002,
          114.68,
          111.629997,
          105.650002,
          92,
          103.5,
          105.050003,
          110.019997,
          111.540001,
          112,
          107.360001,
          109.129997,
          110.040001,
          108.510002,
          110.32,
          109.769997,
          109.900002,
          111.760002,
          114.860001,
          114.419998,
          115.440002,
          113.720001,
          111.870003,
          113.660004,
          112.519997,
          113.300003,
          112.370003,
          114.019997,
          112.440002,
          107.860001,
          108.730003,
          107.309998,
          107.550003,
          109.07,
          109.769997,
          109.410004,
          108.209999,
          109.489998,
          111.440002,
          110.68,
          109.559998,
          110.489998,
          110.529999,
          110.110001,
          110.82,
          113.699997,
          114.099998,
          116.330002,
          114.919998,
          113.989998,
          116.059998,
          118.269997,
          119.449997,
          119.610001,
          120.699997,
          121.620003,
          120.18,
          120.620003,
          120.050003,
          116.059998,
          115.209999,
          115.650002,
          112.269997,
          111,
          113.32,
          115.5,
          116.760002,
          118.849998,
          117.339996,
          117.120003,
          117.919998,
          117.599998,
          117.75,
          116.860001,
          116.080002,
          114.220001,
          115.110001,
          117.809998,
          116.860001,
          115.080002,
          115.510002,
          112.849998,
          109.790001,
          110.349998,
          108.800003,
          108.980003,
          105.809998,
          105.57,
          106.449997,
          107.199997,
          107.949997,
          106.18,
          106.860001,
          107.18,
          104.82,
          102,
          102.410004,
          99.870003,
          96.43,
          96.760002,
          97.339996,
          98.839996,
          97.300003,
          95.739998,
          95.360001,
          95.5,
          93.419998,
          94.940002,
          98.370003,
          99.209999,
          98.07,
          93.339996,
          92.389999,
          94.349998,
          95.400002,
          94.279999,
          94.080002,
          95.190002,
          93.690002,
          93.040001,
          93.93,
          94.099998,
          92.589996,
          93.010002,
          94.610001,
          96.150002,
          96.089996,
          95.800003,
          95.919998,
          94.550003,
          93.32,
          95.25,
          96.580002,
          96.650002,
          97.419998,
          99.639999,
          100.449997,
          101.370003,
          100.959999,
          100.400002,
          100.269997,
          100.150002,
          101.5,
          101.779999,
          103.849998,
          104.589996,
          104.959999,
          105.190002,
          105.139999,
          105.209999,
          105.900002,
          104.889999,
          105.059998,
          104.879997,
          108.599998,
          108.879997,
          108.199997,
          110.269997,
          109.419998,
          109.199997,
          108.120003,
          108.169998,
          108.830002,
          108.660004,
          110.800003,
          111.330002,
          109.730003,
          106.940002,
          106.230003,
          106.059998,
          105.519997,
          104.620003,
          104.510002,
          103.910004,
          95.68,
          94.25,
          92.510002,
          92.400002,
          93.68,
          93.82,
          92.68,
          91.849998,
          92.589996,
          92.110001,
          92.459999,
          89.470001,
          90,
          91.650002,
          93.010002,
          93.889999,
          93.57,
          94.519997,
          95.669998,
          96.839996,
          98.110001,
          98.639999,
          99.25,
          98.82,
          98.330002,
          96.629997,
          97.449997,
          97.550003,
          98.959999,
          98.68,
          98.459999,
          98.480003,
          97.099998,
          96.75,
          97.029999,
          96.07,
          95.300003,
          95.029999,
          94.68,
          95.349998,
          95.25,
          92.650002,
          91.5,
          92.139999,
          93.629997,
          94.300003,
          95.330002,
          94.459999,
          94.370003,
          95.620003,
          96.050003,
          96.730003,
          97.120003,
          96.839996,
          97.32,
          98.5,
          98.599998,
          99.339996,
          99.739998,
          99.129997,
          98.309998,
          96.919998,
          96.419998,
          102.75,
          102.82,
          103.68,
          104.410004,
          104,
          104.769997,
          105.279999,
          106.18,
          107.160004,
          108.010002,
          107.760002,
          107.849998,
          107.779999,
          108.080002,
          109.209999,
          108.339996,
          109.019997,
          108.360001,
          107.849998,
          108.529999,
          107.68,
          106.68,
          106.309998,
          106.290001,
          105.5,
          105.639999,
          105.620003,
          106.82,
          107.510002,
          107.07,
          105.239998,
          103.129997,
          102.529999,
          107.239998,
          108.599998,
          113.489998,
          114.040001,
          113.25,
          112.510002,
          112.440002,
          114,
          111.550003,
          111.550003,
          112.339996,
          113.43,
          111.800003,
          111.800003,
          112.279999,
          112.629997,
          112.690002,
          113.129997,
          113.510002,
          114.720001,
          116.199997,
          116.75,
          115.720001,
          117.129997,
          116.779999,
          117.449997,
          113.800003,
          116.330002,
          116.279999,
          117,
          117.309998,
          113.309998,
          114.099998,
          113.449997,
          113.199997,
          110.529999,
          111.230003,
          109.550003,
          108.110001,
          109.459999,
          109.699997,
          108.050003,
          105.830002,
          106.550003,
          104.080002,
          106.160004,
          106.599998,
          108.830002,
          109.660004,
          110.010002,
          111.400002,
          110.330002,
          110.949997,
          111.389999,
          110.07,
          110.269997,
          109.029999,
          108.849998,
          108.25,
          109.190002,
          109.160004,
          110.599998,
          112.309998,
          112.489998,
          113.75,
          114.980003,
          115.230003,
          115.650002,
          115.75,
          116.68,
          116.779999,
          115.639999,
          115.589996,
          116.489998,
          116.199997,
          116.400002,
          115.43,
          114.760002,
          115.75,
          115.809998,
          116.470001,
          117.940002,
          118.300003,
          118.599998,
          118.209999,
          118.809998,
          118.220001,
          119.709999,
          119.370003,
          119.730003,
          119.769997,
          119.5,
          120.279999,
          121.599998,
          121.599998,
          120.660004,
          120.620003,
          127.010002,
          127.779999,
          128.160004,
          128.899994,
          130.449997,
          131.220001,
          131.119995,
          132.050003,
          132.75,
          133.25,
          134.619995,
          134.839996
         ],
         "open": [
          127.489998,
          127.629997,
          128.479996,
          128.619995,
          130.020004,
          132.940002,
          131.559998,
          128.789993,
          130,
          129.25,
          128.960007,
          129.100006,
          128.580002,
          128.399994,
          127.959999,
          126.410004,
          124.75,
          122.309998,
          124.400002,
          123.879997,
          125.900002,
          127,
          128.75,
          128.25,
          127.120003,
          127.230003,
          126.540001,
          122.760002,
          124.57,
          124.050003,
          126.089996,
          124.82,
          125.029999,
          124.470001,
          127.639999,
          125.849998,
          125.849998,
          125.949997,
          128.369995,
          127,
          126.410004,
          126.279999,
          125.550003,
          125.57,
          128.100006,
          126.989998,
          128.300003,
          130.490005,
          132.309998,
          134.460007,
          130.160004,
          128.639999,
          126.099998,
          129.5,
          128.149994,
          126.559998,
          124.769997,
          126.68,
          127.389999,
          125.599998,
          126.150002,
          127.410004,
          129.070007,
          128.380005,
          130.690002,
          130,
          130.070007,
          131.600006,
          132.600006,
          130.339996,
          131.860001,
          131.229996,
          130.279999,
          129.860001,
          130.660004,
          129.580002,
          129.5,
          128.899994,
          126.699997,
          127.919998,
          129.179993,
          128.190002,
          126.099998,
          127.029999,
          127.720001,
          127.230003,
          127.709999,
          127.489998,
          127.480003,
          127.209999,
          128.860001,
          127.669998,
          125.459999,
          125.57,
          126.900002,
          126.43,
          124.940002,
          125.889999,
          124.480003,
          123.849998,
          121.940002,
          125.029999,
          126.040001,
          125.720001,
          127.739998,
          129.080002,
          130.970001,
          132.850006,
          121.989998,
          126.199997,
          125.32,
          123.089996,
          123.379997,
          123.150002,
          122.32,
          122.599998,
          121.5,
          117.419998,
          112.949997,
          115.970001,
          114.580002,
          116.529999,
          117.809998,
          112.529999,
          116.040001,
          114.32,
          116.040001,
          116.43,
          116.099998,
          114.080002,
          110.43,
          94.870003,
          111.110001,
          107.089996,
          112.230003,
          112.169998,
          112.029999,
          110.150002,
          110.230003,
          112.489998,
          108.970001,
          111.75,
          113.760002,
          110.269997,
          111.790001,
          116.580002,
          115.93,
          116.25,
          115.660004,
          112.209999,
          113.669998,
          113.379997,
          113.629997,
          113.25,
          116.440002,
          113.849998,
          112.830002,
          110.169998,
          109.07,
          108.010002,
          109.879997,
          110.629997,
          111.739998,
          110.190002,
          110,
          112.730003,
          110.82,
          111.290001,
          110.93,
          111.779999,
          110.800003,
          111.339996,
          114,
          114.330002,
          116.699997,
          118.080002,
          115.400002,
          116.93,
          118.699997,
          120.989998,
          120.800003,
          120.790001,
          123.129997,
          121.849998,
          121.110001,
          120.959999,
          116.900002,
          116.370003,
          116.260002,
          115.199997,
          111.379997,
          114.919998,
          115.760002,
          117.639999,
          119.199997,
          119.269997,
          117.330002,
          119.209999,
          118.290001,
          117.989998,
          118.75,
          117.339996,
          116.550003,
          115.290001,
          118.980003,
          117.519997,
          117.639999,
          116.040001,
          115.190002,
          112.18,
          111.940002,
          111.07,
          112.019997,
          108.910004,
          107.279999,
          107.400002,
          107.269997,
          109,
          107.589996,
          106.959999,
          108.580002,
          107.010002,
          102.610001,
          105.75,
          100.559998,
          98.68,
          98.550003,
          98.970001,
          100.550003,
          100.32,
          97.959999,
          96.199997,
          98.410004,
          95.099998,
          97.059998,
          98.629997,
          101.519997,
          99.93,
          96.040001,
          93.790001,
          94.790001,
          96.470001,
          95.419998,
          95,
          95.860001,
          96.519997,
          93.129997,
          94.290001,
          95.919998,
          93.790001,
          94.190002,
          95.019997,
          96.669998,
          98.839996,
          96,
          96.309998,
          96.400002,
          93.980003,
          96.050003,
          97.199997,
          96.860001,
          97.650002,
          100.510002,
          100.580002,
          102.370003,
          102.389999,
          100.779999,
          101.309998,
          101.410004,
          102.239998,
          101.910004,
          103.959999,
          104.610001,
          105.519997,
          106.339996,
          105.93,
          105.25,
          106.480003,
          105.470001,
          106,
          104.889999,
          108.650002,
          109.720001,
          108.779999,
          110.419998,
          109.510002,
          110.230003,
          109.949997,
          108.910004,
          108.970001,
          109.339996,
          110.800003,
          111.620003,
          112.110001,
          108.889999,
          107.879997,
          106.639999,
          106.93,
          105.010002,
          105,
          103.910004,
          96,
          97.610001,
          93.989998,
          93.970001,
          94.199997,
          95.199997,
          94,
          93.370003,
          93,
          93.330002,
          93.480003,
          92.720001,
          90,
          92.389999,
          94.550003,
          94.160004,
          94.639999,
          94.639999,
          95.870003,
          97.220001,
          98.669998,
          99.68,
          99.440002,
          99.599998,
          99.019997,
          97.599998,
          97.790001,
          97.989998,
          99.25,
          99.019997,
          98.5,
          98.529999,
          98.690002,
          97.32,
          97.82,
          96.449997,
          96.620003,
          96,
          94.940002,
          96.25,
          95.940002,
          92.910004,
          93,
          92.900002,
          93.970001,
          94.440002,
          95.489998,
          95.389999,
          94.599998,
          95.699997,
          96.489998,
          96.75,
          97.169998,
          97.410004,
          97.389999,
          98.919998,
          98.699997,
          99.559998,
          100,
          99.830002,
          99.260002,
          98.25,
          96.82,
          104.269997,
          102.830002,
          104.190002,
          104.410004,
          106.050003,
          104.809998,
          105.580002,
          106.269997,
          107.519997,
          108.230003,
          108.709999,
          108.519997,
          107.779999,
          108.139999,
          109.629997,
          109.099998,
          109.230003,
          108.769997,
          108.860001,
          108.589996,
          108.57,
          107.389999,
          107.410004,
          106.620003,
          105.800003,
          105.660004,
          106.139999,
          107.699997,
          107.900002,
          107.830002,
          107.25,
          104.639999,
          102.650002,
          107.510002,
          108.730003,
          113.860001,
          115.120003,
          115.190002,
          113.050003,
          113.849998,
          114.349998,
          114.419998,
          111.639999,
          113,
          113.690002,
          113.160004,
          112.459999,
          112.709999,
          113.059998,
          113.400002,
          113.699997,
          114.309998,
          115.019997,
          117.699997,
          117.349998,
          116.790001,
          117.879997,
          117.330002,
          118.18,
          117.25,
          116.860001,
          116.809998,
          117.099998,
          117.949997,
          114.309998,
          115.389999,
          113.870003,
          113.650002,
          113.459999,
          111.400002,
          110.980003,
          108.529999,
          110.080002,
          110.309998,
          109.879997,
          111.089996,
          107.120003,
          107.709999,
          106.57,
          106.699997,
          109.809998,
          109.720001,
          110.120003,
          111.949997,
          111.360001,
          111.129997,
          111.43,
          110.779999,
          111.599998,
          110.370003,
          109.169998,
          110,
          109.5,
          109.260002,
          110.860001,
          112.309998,
          113.290001,
          113.839996,
          115.040001,
          115.379997,
          116.470001,
          115.800003,
          116.739998,
          116.800003,
          116.349998,
          115.589996,
          116.519997,
          117.519997,
          116.449997,
          116.650002,
          115.800003,
          115.849998,
          115.919998,
          116.779999,
          117.949997,
          118.769997,
          118.739998,
          118.900002,
          119.110001,
          118.339996,
          120,
          119.400002,
          120.449997,
          120,
          119.550003,
          120.419998,
          121.669998,
          122.139999,
          120.93,
          121.150002,
          127.029999,
          127.980003,
          128.309998,
          129.130005,
          130.539993,
          131.350006,
          131.649994,
          132.460007,
          133.080002,
          133.470001,
          135.520004,
          135.669998
         ],
         "type": "candlestick",
         "x": [
          "2015-02-17",
          "2015-02-18",
          "2015-02-19",
          "2015-02-20",
          "2015-02-23",
          "2015-02-24",
          "2015-02-25",
          "2015-02-26",
          "2015-02-27",
          "2015-03-02",
          "2015-03-03",
          "2015-03-04",
          "2015-03-05",
          "2015-03-06",
          "2015-03-09",
          "2015-03-10",
          "2015-03-11",
          "2015-03-12",
          "2015-03-13",
          "2015-03-16",
          "2015-03-17",
          "2015-03-18",
          "2015-03-19",
          "2015-03-20",
          "2015-03-23",
          "2015-03-24",
          "2015-03-25",
          "2015-03-26",
          "2015-03-27",
          "2015-03-30",
          "2015-03-31",
          "2015-04-01",
          "2015-04-02",
          "2015-04-06",
          "2015-04-07",
          "2015-04-08",
          "2015-04-09",
          "2015-04-10",
          "2015-04-13",
          "2015-04-14",
          "2015-04-15",
          "2015-04-16",
          "2015-04-17",
          "2015-04-20",
          "2015-04-21",
          "2015-04-22",
          "2015-04-23",
          "2015-04-24",
          "2015-04-27",
          "2015-04-28",
          "2015-04-29",
          "2015-04-30",
          "2015-05-01",
          "2015-05-04",
          "2015-05-05",
          "2015-05-06",
          "2015-05-07",
          "2015-05-08",
          "2015-05-11",
          "2015-05-12",
          "2015-05-13",
          "2015-05-14",
          "2015-05-15",
          "2015-05-18",
          "2015-05-19",
          "2015-05-20",
          "2015-05-21",
          "2015-05-22",
          "2015-05-26",
          "2015-05-27",
          "2015-05-28",
          "2015-05-29",
          "2015-06-01",
          "2015-06-02",
          "2015-06-03",
          "2015-06-04",
          "2015-06-05",
          "2015-06-08",
          "2015-06-09",
          "2015-06-10",
          "2015-06-11",
          "2015-06-12",
          "2015-06-15",
          "2015-06-16",
          "2015-06-17",
          "2015-06-18",
          "2015-06-19",
          "2015-06-22",
          "2015-06-23",
          "2015-06-24",
          "2015-06-25",
          "2015-06-26",
          "2015-06-29",
          "2015-06-30",
          "2015-07-01",
          "2015-07-02",
          "2015-07-06",
          "2015-07-07",
          "2015-07-08",
          "2015-07-09",
          "2015-07-10",
          "2015-07-13",
          "2015-07-14",
          "2015-07-15",
          "2015-07-16",
          "2015-07-17",
          "2015-07-20",
          "2015-07-21",
          "2015-07-22",
          "2015-07-23",
          "2015-07-24",
          "2015-07-27",
          "2015-07-28",
          "2015-07-29",
          "2015-07-30",
          "2015-07-31",
          "2015-08-03",
          "2015-08-04",
          "2015-08-05",
          "2015-08-06",
          "2015-08-07",
          "2015-08-10",
          "2015-08-11",
          "2015-08-12",
          "2015-08-13",
          "2015-08-14",
          "2015-08-17",
          "2015-08-18",
          "2015-08-19",
          "2015-08-20",
          "2015-08-21",
          "2015-08-24",
          "2015-08-25",
          "2015-08-26",
          "2015-08-27",
          "2015-08-28",
          "2015-08-31",
          "2015-09-01",
          "2015-09-02",
          "2015-09-03",
          "2015-09-04",
          "2015-09-08",
          "2015-09-09",
          "2015-09-10",
          "2015-09-11",
          "2015-09-14",
          "2015-09-15",
          "2015-09-16",
          "2015-09-17",
          "2015-09-18",
          "2015-09-21",
          "2015-09-22",
          "2015-09-23",
          "2015-09-24",
          "2015-09-25",
          "2015-09-28",
          "2015-09-29",
          "2015-09-30",
          "2015-10-01",
          "2015-10-02",
          "2015-10-05",
          "2015-10-06",
          "2015-10-07",
          "2015-10-08",
          "2015-10-09",
          "2015-10-12",
          "2015-10-13",
          "2015-10-14",
          "2015-10-15",
          "2015-10-16",
          "2015-10-19",
          "2015-10-20",
          "2015-10-21",
          "2015-10-22",
          "2015-10-23",
          "2015-10-26",
          "2015-10-27",
          "2015-10-28",
          "2015-10-29",
          "2015-10-30",
          "2015-11-02",
          "2015-11-03",
          "2015-11-04",
          "2015-11-05",
          "2015-11-06",
          "2015-11-09",
          "2015-11-10",
          "2015-11-11",
          "2015-11-12",
          "2015-11-13",
          "2015-11-16",
          "2015-11-17",
          "2015-11-18",
          "2015-11-19",
          "2015-11-20",
          "2015-11-23",
          "2015-11-24",
          "2015-11-25",
          "2015-11-27",
          "2015-11-30",
          "2015-12-01",
          "2015-12-02",
          "2015-12-03",
          "2015-12-04",
          "2015-12-07",
          "2015-12-08",
          "2015-12-09",
          "2015-12-10",
          "2015-12-11",
          "2015-12-14",
          "2015-12-15",
          "2015-12-16",
          "2015-12-17",
          "2015-12-18",
          "2015-12-21",
          "2015-12-22",
          "2015-12-23",
          "2015-12-24",
          "2015-12-28",
          "2015-12-29",
          "2015-12-30",
          "2015-12-31",
          "2016-01-04",
          "2016-01-05",
          "2016-01-06",
          "2016-01-07",
          "2016-01-08",
          "2016-01-11",
          "2016-01-12",
          "2016-01-13",
          "2016-01-14",
          "2016-01-15",
          "2016-01-19",
          "2016-01-20",
          "2016-01-21",
          "2016-01-22",
          "2016-01-25",
          "2016-01-26",
          "2016-01-27",
          "2016-01-28",
          "2016-01-29",
          "2016-02-01",
          "2016-02-02",
          "2016-02-03",
          "2016-02-04",
          "2016-02-05",
          "2016-02-08",
          "2016-02-09",
          "2016-02-10",
          "2016-02-11",
          "2016-02-12",
          "2016-02-16",
          "2016-02-17",
          "2016-02-18",
          "2016-02-19",
          "2016-02-22",
          "2016-02-23",
          "2016-02-24",
          "2016-02-25",
          "2016-02-26",
          "2016-02-29",
          "2016-03-01",
          "2016-03-02",
          "2016-03-03",
          "2016-03-04",
          "2016-03-07",
          "2016-03-08",
          "2016-03-09",
          "2016-03-10",
          "2016-03-11",
          "2016-03-14",
          "2016-03-15",
          "2016-03-16",
          "2016-03-17",
          "2016-03-18",
          "2016-03-21",
          "2016-03-22",
          "2016-03-23",
          "2016-03-24",
          "2016-03-28",
          "2016-03-29",
          "2016-03-30",
          "2016-03-31",
          "2016-04-01",
          "2016-04-04",
          "2016-04-05",
          "2016-04-06",
          "2016-04-07",
          "2016-04-08",
          "2016-04-11",
          "2016-04-12",
          "2016-04-13",
          "2016-04-14",
          "2016-04-15",
          "2016-04-18",
          "2016-04-19",
          "2016-04-20",
          "2016-04-21",
          "2016-04-22",
          "2016-04-25",
          "2016-04-26",
          "2016-04-27",
          "2016-04-28",
          "2016-04-29",
          "2016-05-02",
          "2016-05-03",
          "2016-05-04",
          "2016-05-05",
          "2016-05-06",
          "2016-05-09",
          "2016-05-10",
          "2016-05-11",
          "2016-05-12",
          "2016-05-13",
          "2016-05-16",
          "2016-05-17",
          "2016-05-18",
          "2016-05-19",
          "2016-05-20",
          "2016-05-23",
          "2016-05-24",
          "2016-05-25",
          "2016-05-26",
          "2016-05-27",
          "2016-05-31",
          "2016-06-01",
          "2016-06-02",
          "2016-06-03",
          "2016-06-06",
          "2016-06-07",
          "2016-06-08",
          "2016-06-09",
          "2016-06-10",
          "2016-06-13",
          "2016-06-14",
          "2016-06-15",
          "2016-06-16",
          "2016-06-17",
          "2016-06-20",
          "2016-06-21",
          "2016-06-22",
          "2016-06-23",
          "2016-06-24",
          "2016-06-27",
          "2016-06-28",
          "2016-06-29",
          "2016-06-30",
          "2016-07-01",
          "2016-07-05",
          "2016-07-06",
          "2016-07-07",
          "2016-07-08",
          "2016-07-11",
          "2016-07-12",
          "2016-07-13",
          "2016-07-14",
          "2016-07-15",
          "2016-07-18",
          "2016-07-19",
          "2016-07-20",
          "2016-07-21",
          "2016-07-22",
          "2016-07-25",
          "2016-07-26",
          "2016-07-27",
          "2016-07-28",
          "2016-07-29",
          "2016-08-01",
          "2016-08-02",
          "2016-08-03",
          "2016-08-04",
          "2016-08-05",
          "2016-08-08",
          "2016-08-09",
          "2016-08-10",
          "2016-08-11",
          "2016-08-12",
          "2016-08-15",
          "2016-08-16",
          "2016-08-17",
          "2016-08-18",
          "2016-08-19",
          "2016-08-22",
          "2016-08-23",
          "2016-08-24",
          "2016-08-25",
          "2016-08-26",
          "2016-08-29",
          "2016-08-30",
          "2016-08-31",
          "2016-09-01",
          "2016-09-02",
          "2016-09-06",
          "2016-09-07",
          "2016-09-08",
          "2016-09-09",
          "2016-09-12",
          "2016-09-13",
          "2016-09-14",
          "2016-09-15",
          "2016-09-16",
          "2016-09-19",
          "2016-09-20",
          "2016-09-21",
          "2016-09-22",
          "2016-09-23",
          "2016-09-26",
          "2016-09-27",
          "2016-09-28",
          "2016-09-29",
          "2016-09-30",
          "2016-10-03",
          "2016-10-04",
          "2016-10-05",
          "2016-10-06",
          "2016-10-07",
          "2016-10-10",
          "2016-10-11",
          "2016-10-12",
          "2016-10-13",
          "2016-10-14",
          "2016-10-17",
          "2016-10-18",
          "2016-10-19",
          "2016-10-20",
          "2016-10-21",
          "2016-10-24",
          "2016-10-25",
          "2016-10-26",
          "2016-10-27",
          "2016-10-28",
          "2016-10-31",
          "2016-11-01",
          "2016-11-02",
          "2016-11-03",
          "2016-11-04",
          "2016-11-07",
          "2016-11-08",
          "2016-11-09",
          "2016-11-10",
          "2016-11-11",
          "2016-11-14",
          "2016-11-15",
          "2016-11-16",
          "2016-11-17",
          "2016-11-18",
          "2016-11-21",
          "2016-11-22",
          "2016-11-23",
          "2016-11-25",
          "2016-11-28",
          "2016-11-29",
          "2016-11-30",
          "2016-12-01",
          "2016-12-02",
          "2016-12-05",
          "2016-12-06",
          "2016-12-07",
          "2016-12-08",
          "2016-12-09",
          "2016-12-12",
          "2016-12-13",
          "2016-12-14",
          "2016-12-15",
          "2016-12-16",
          "2016-12-19",
          "2016-12-20",
          "2016-12-21",
          "2016-12-22",
          "2016-12-23",
          "2016-12-27",
          "2016-12-28",
          "2016-12-29",
          "2016-12-30",
          "2017-01-03",
          "2017-01-04",
          "2017-01-05",
          "2017-01-06",
          "2017-01-09",
          "2017-01-10",
          "2017-01-11",
          "2017-01-12",
          "2017-01-13",
          "2017-01-17",
          "2017-01-18",
          "2017-01-19",
          "2017-01-20",
          "2017-01-23",
          "2017-01-24",
          "2017-01-25",
          "2017-01-26",
          "2017-01-27",
          "2017-01-30",
          "2017-01-31",
          "2017-02-01",
          "2017-02-02",
          "2017-02-03",
          "2017-02-06",
          "2017-02-07",
          "2017-02-08",
          "2017-02-09",
          "2017-02-10",
          "2017-02-13",
          "2017-02-14",
          "2017-02-15",
          "2017-02-16"
         ]
        }
       ],
       "layout": {
        "template": {
         "data": {
          "bar": [
           {
            "error_x": {
             "color": "#2a3f5f"
            },
            "error_y": {
             "color": "#2a3f5f"
            },
            "marker": {
             "line": {
              "color": "#E5ECF6",
              "width": 0.5
             },
             "pattern": {
              "fillmode": "overlay",
              "size": 10,
              "solidity": 0.2
             }
            },
            "type": "bar"
           }
          ],
          "barpolar": [
           {
            "marker": {
             "line": {
              "color": "#E5ECF6",
              "width": 0.5
             },
             "pattern": {
              "fillmode": "overlay",
              "size": 10,
              "solidity": 0.2
             }
            },
            "type": "barpolar"
           }
          ],
          "carpet": [
           {
            "aaxis": {
             "endlinecolor": "#2a3f5f",
             "gridcolor": "white",
             "linecolor": "white",
             "minorgridcolor": "white",
             "startlinecolor": "#2a3f5f"
            },
            "baxis": {
             "endlinecolor": "#2a3f5f",
             "gridcolor": "white",
             "linecolor": "white",
             "minorgridcolor": "white",
             "startlinecolor": "#2a3f5f"
            },
            "type": "carpet"
           }
          ],
          "choropleth": [
           {
            "colorbar": {
             "outlinewidth": 0,
             "ticks": ""
            },
            "type": "choropleth"
           }
          ],
          "contour": [
           {
            "colorbar": {
             "outlinewidth": 0,
             "ticks": ""
            },
            "colorscale": [
             [
              0,
              "#0d0887"
             ],
             [
              0.1111111111111111,
              "#46039f"
             ],
             [
              0.2222222222222222,
              "#7201a8"
             ],
             [
              0.3333333333333333,
              "#9c179e"
             ],
             [
              0.4444444444444444,
              "#bd3786"
             ],
             [
              0.5555555555555556,
              "#d8576b"
             ],
             [
              0.6666666666666666,
              "#ed7953"
             ],
             [
              0.7777777777777778,
              "#fb9f3a"
             ],
             [
              0.8888888888888888,
              "#fdca26"
             ],
             [
              1,
              "#f0f921"
             ]
            ],
            "type": "contour"
           }
          ],
          "contourcarpet": [
           {
            "colorbar": {
             "outlinewidth": 0,
             "ticks": ""
            },
            "type": "contourcarpet"
           }
          ],
          "heatmap": [
           {
            "colorbar": {
             "outlinewidth": 0,
             "ticks": ""
            },
            "colorscale": [
             [
              0,
              "#0d0887"
             ],
             [
              0.1111111111111111,
              "#46039f"
             ],
             [
              0.2222222222222222,
              "#7201a8"
             ],
             [
              0.3333333333333333,
              "#9c179e"
             ],
             [
              0.4444444444444444,
              "#bd3786"
             ],
             [
              0.5555555555555556,
              "#d8576b"
             ],
             [
              0.6666666666666666,
              "#ed7953"
             ],
             [
              0.7777777777777778,
              "#fb9f3a"
             ],
             [
              0.8888888888888888,
              "#fdca26"
             ],
             [
              1,
              "#f0f921"
             ]
            ],
            "type": "heatmap"
           }
          ],
          "heatmapgl": [
           {
            "colorbar": {
             "outlinewidth": 0,
             "ticks": ""
            },
            "colorscale": [
             [
              0,
              "#0d0887"
             ],
             [
              0.1111111111111111,
              "#46039f"
             ],
             [
              0.2222222222222222,
              "#7201a8"
             ],
             [
              0.3333333333333333,
              "#9c179e"
             ],
             [
              0.4444444444444444,
              "#bd3786"
             ],
             [
              0.5555555555555556,
              "#d8576b"
             ],
             [
              0.6666666666666666,
              "#ed7953"
             ],
             [
              0.7777777777777778,
              "#fb9f3a"
             ],
             [
              0.8888888888888888,
              "#fdca26"
             ],
             [
              1,
              "#f0f921"
             ]
            ],
            "type": "heatmapgl"
           }
          ],
          "histogram": [
           {
            "marker": {
             "pattern": {
              "fillmode": "overlay",
              "size": 10,
              "solidity": 0.2
             }
            },
            "type": "histogram"
           }
          ],
          "histogram2d": [
           {
            "colorbar": {
             "outlinewidth": 0,
             "ticks": ""
            },
            "colorscale": [
             [
              0,
              "#0d0887"
             ],
             [
              0.1111111111111111,
              "#46039f"
             ],
             [
              0.2222222222222222,
              "#7201a8"
             ],
             [
              0.3333333333333333,
              "#9c179e"
             ],
             [
              0.4444444444444444,
              "#bd3786"
             ],
             [
              0.5555555555555556,
              "#d8576b"
             ],
             [
              0.6666666666666666,
              "#ed7953"
             ],
             [
              0.7777777777777778,
              "#fb9f3a"
             ],
             [
              0.8888888888888888,
              "#fdca26"
             ],
             [
              1,
              "#f0f921"
             ]
            ],
            "type": "histogram2d"
           }
          ],
          "histogram2dcontour": [
           {
            "colorbar": {
             "outlinewidth": 0,
             "ticks": ""
            },
            "colorscale": [
             [
              0,
              "#0d0887"
             ],
             [
              0.1111111111111111,
              "#46039f"
             ],
             [
              0.2222222222222222,
              "#7201a8"
             ],
             [
              0.3333333333333333,
              "#9c179e"
             ],
             [
              0.4444444444444444,
              "#bd3786"
             ],
             [
              0.5555555555555556,
              "#d8576b"
             ],
             [
              0.6666666666666666,
              "#ed7953"
             ],
             [
              0.7777777777777778,
              "#fb9f3a"
             ],
             [
              0.8888888888888888,
              "#fdca26"
             ],
             [
              1,
              "#f0f921"
             ]
            ],
            "type": "histogram2dcontour"
           }
          ],
          "mesh3d": [
           {
            "colorbar": {
             "outlinewidth": 0,
             "ticks": ""
            },
            "type": "mesh3d"
           }
          ],
          "parcoords": [
           {
            "line": {
             "colorbar": {
              "outlinewidth": 0,
              "ticks": ""
             }
            },
            "type": "parcoords"
           }
          ],
          "pie": [
           {
            "automargin": true,
            "type": "pie"
           }
          ],
          "scatter": [
           {
            "marker": {
             "colorbar": {
              "outlinewidth": 0,
              "ticks": ""
             }
            },
            "type": "scatter"
           }
          ],
          "scatter3d": [
           {
            "line": {
             "colorbar": {
              "outlinewidth": 0,
              "ticks": ""
             }
            },
            "marker": {
             "colorbar": {
              "outlinewidth": 0,
              "ticks": ""
             }
            },
            "type": "scatter3d"
           }
          ],
          "scattercarpet": [
           {
            "marker": {
             "colorbar": {
              "outlinewidth": 0,
              "ticks": ""
             }
            },
            "type": "scattercarpet"
           }
          ],
          "scattergeo": [
           {
            "marker": {
             "colorbar": {
              "outlinewidth": 0,
              "ticks": ""
             }
            },
            "type": "scattergeo"
           }
          ],
          "scattergl": [
           {
            "marker": {
             "colorbar": {
              "outlinewidth": 0,
              "ticks": ""
             }
            },
            "type": "scattergl"
           }
          ],
          "scattermapbox": [
           {
            "marker": {
             "colorbar": {
              "outlinewidth": 0,
              "ticks": ""
             }
            },
            "type": "scattermapbox"
           }
          ],
          "scatterpolar": [
           {
            "marker": {
             "colorbar": {
              "outlinewidth": 0,
              "ticks": ""
             }
            },
            "type": "scatterpolar"
           }
          ],
          "scatterpolargl": [
           {
            "marker": {
             "colorbar": {
              "outlinewidth": 0,
              "ticks": ""
             }
            },
            "type": "scatterpolargl"
           }
          ],
          "scatterternary": [
           {
            "marker": {
             "colorbar": {
              "outlinewidth": 0,
              "ticks": ""
             }
            },
            "type": "scatterternary"
           }
          ],
          "surface": [
           {
            "colorbar": {
             "outlinewidth": 0,
             "ticks": ""
            },
            "colorscale": [
             [
              0,
              "#0d0887"
             ],
             [
              0.1111111111111111,
              "#46039f"
             ],
             [
              0.2222222222222222,
              "#7201a8"
             ],
             [
              0.3333333333333333,
              "#9c179e"
             ],
             [
              0.4444444444444444,
              "#bd3786"
             ],
             [
              0.5555555555555556,
              "#d8576b"
             ],
             [
              0.6666666666666666,
              "#ed7953"
             ],
             [
              0.7777777777777778,
              "#fb9f3a"
             ],
             [
              0.8888888888888888,
              "#fdca26"
             ],
             [
              1,
              "#f0f921"
             ]
            ],
            "type": "surface"
           }
          ],
          "table": [
           {
            "cells": {
             "fill": {
              "color": "#EBF0F8"
             },
             "line": {
              "color": "white"
             }
            },
            "header": {
             "fill": {
              "color": "#C8D4E3"
             },
             "line": {
              "color": "white"
             }
            },
            "type": "table"
           }
          ]
         },
         "layout": {
          "annotationdefaults": {
           "arrowcolor": "#2a3f5f",
           "arrowhead": 0,
           "arrowwidth": 1
          },
          "autotypenumbers": "strict",
          "coloraxis": {
           "colorbar": {
            "outlinewidth": 0,
            "ticks": ""
           }
          },
          "colorscale": {
           "diverging": [
            [
             0,
             "#8e0152"
            ],
            [
             0.1,
             "#c51b7d"
            ],
            [
             0.2,
             "#de77ae"
            ],
            [
             0.3,
             "#f1b6da"
            ],
            [
             0.4,
             "#fde0ef"
            ],
            [
             0.5,
             "#f7f7f7"
            ],
            [
             0.6,
             "#e6f5d0"
            ],
            [
             0.7,
             "#b8e186"
            ],
            [
             0.8,
             "#7fbc41"
            ],
            [
             0.9,
             "#4d9221"
            ],
            [
             1,
             "#276419"
            ]
           ],
           "sequential": [
            [
             0,
             "#0d0887"
            ],
            [
             0.1111111111111111,
             "#46039f"
            ],
            [
             0.2222222222222222,
             "#7201a8"
            ],
            [
             0.3333333333333333,
             "#9c179e"
            ],
            [
             0.4444444444444444,
             "#bd3786"
            ],
            [
             0.5555555555555556,
             "#d8576b"
            ],
            [
             0.6666666666666666,
             "#ed7953"
            ],
            [
             0.7777777777777778,
             "#fb9f3a"
            ],
            [
             0.8888888888888888,
             "#fdca26"
            ],
            [
             1,
             "#f0f921"
            ]
           ],
           "sequentialminus": [
            [
             0,
             "#0d0887"
            ],
            [
             0.1111111111111111,
             "#46039f"
            ],
            [
             0.2222222222222222,
             "#7201a8"
            ],
            [
             0.3333333333333333,
             "#9c179e"
            ],
            [
             0.4444444444444444,
             "#bd3786"
            ],
            [
             0.5555555555555556,
             "#d8576b"
            ],
            [
             0.6666666666666666,
             "#ed7953"
            ],
            [
             0.7777777777777778,
             "#fb9f3a"
            ],
            [
             0.8888888888888888,
             "#fdca26"
            ],
            [
             1,
             "#f0f921"
            ]
           ]
          },
          "colorway": [
           "#636efa",
           "#EF553B",
           "#00cc96",
           "#ab63fa",
           "#FFA15A",
           "#19d3f3",
           "#FF6692",
           "#B6E880",
           "#FF97FF",
           "#FECB52"
          ],
          "font": {
           "color": "#2a3f5f"
          },
          "geo": {
           "bgcolor": "white",
           "lakecolor": "white",
           "landcolor": "#E5ECF6",
           "showlakes": true,
           "showland": true,
           "subunitcolor": "white"
          },
          "hoverlabel": {
           "align": "left"
          },
          "hovermode": "closest",
          "mapbox": {
           "style": "light"
          },
          "paper_bgcolor": "white",
          "plot_bgcolor": "#E5ECF6",
          "polar": {
           "angularaxis": {
            "gridcolor": "white",
            "linecolor": "white",
            "ticks": ""
           },
           "bgcolor": "#E5ECF6",
           "radialaxis": {
            "gridcolor": "white",
            "linecolor": "white",
            "ticks": ""
           }
          },
          "scene": {
           "xaxis": {
            "backgroundcolor": "#E5ECF6",
            "gridcolor": "white",
            "gridwidth": 2,
            "linecolor": "white",
            "showbackground": true,
            "ticks": "",
            "zerolinecolor": "white"
           },
           "yaxis": {
            "backgroundcolor": "#E5ECF6",
            "gridcolor": "white",
            "gridwidth": 2,
            "linecolor": "white",
            "showbackground": true,
            "ticks": "",
            "zerolinecolor": "white"
           },
           "zaxis": {
            "backgroundcolor": "#E5ECF6",
            "gridcolor": "white",
            "gridwidth": 2,
            "linecolor": "white",
            "showbackground": true,
            "ticks": "",
            "zerolinecolor": "white"
           }
          },
          "shapedefaults": {
           "line": {
            "color": "#2a3f5f"
           }
          },
          "ternary": {
           "aaxis": {
            "gridcolor": "white",
            "linecolor": "white",
            "ticks": ""
           },
           "baxis": {
            "gridcolor": "white",
            "linecolor": "white",
            "ticks": ""
           },
           "bgcolor": "#E5ECF6",
           "caxis": {
            "gridcolor": "white",
            "linecolor": "white",
            "ticks": ""
           }
          },
          "title": {
           "x": 0.05
          },
          "xaxis": {
           "automargin": true,
           "gridcolor": "white",
           "linecolor": "white",
           "ticks": "",
           "title": {
            "standoff": 15
           },
           "zerolinecolor": "white",
           "zerolinewidth": 2
          },
          "yaxis": {
           "automargin": true,
           "gridcolor": "white",
           "linecolor": "white",
           "ticks": "",
           "title": {
            "standoff": 15
           },
           "zerolinecolor": "white",
           "zerolinewidth": 2
          }
         }
        }
       }
      },
      "text/html": [
       "<div>                            <div id=\"f28aaf7d-ab0e-4c65-84f8-85a6846b7a11\" class=\"plotly-graph-div\" style=\"height:525px; width:100%;\"></div>            <script type=\"text/javascript\">                require([\"plotly\"], function(Plotly) {                    window.PLOTLYENV=window.PLOTLYENV || {};                                    if (document.getElementById(\"f28aaf7d-ab0e-4c65-84f8-85a6846b7a11\")) {                    Plotly.newPlot(                        \"f28aaf7d-ab0e-4c65-84f8-85a6846b7a11\",                        [{\"close\":[127.830002,128.720001,128.449997,129.5,133.0,132.169998,128.789993,130.419998,128.460007,129.089996,129.360001,128.539993,126.410004,126.599998,127.139999,124.510002,122.239998,124.449997,123.589996,124.949997,127.040001,128.470001,127.5,125.900002,127.209999,126.690002,123.379997,124.239998,123.25,126.370003,124.43,124.25,125.32,127.349998,126.010002,125.599998,126.559998,127.099998,126.849998,126.300003,126.779999,126.169998,124.75,127.599998,126.910004,128.619995,129.669998,130.279999,132.649994,130.559998,128.639999,125.150002,128.949997,128.699997,125.800003,125.010002,125.260002,127.620003,126.32,125.870003,126.010002,128.949997,128.770004,130.190002,130.070007,130.059998,131.389999,132.539993,129.619995,132.039993,131.779999,130.279999,130.539993,129.960007,130.119995,129.360001,128.649994,127.800003,127.419998,128.880005,128.589996,127.169998,126.919998,127.599998,127.300003,127.879997,126.599998,127.610001,127.029999,128.110001,127.5,126.75,124.529999,125.43,126.599998,126.440002,126.0,125.690002,122.57,120.07,123.279999,125.660004,125.610001,126.82,128.509995,129.619995,132.070007,130.75,125.220001,125.160004,124.5,122.769997,123.379997,122.989998,122.370003,121.300003,118.440002,114.639999,115.400002,115.129997,115.519997,119.720001,113.489998,115.239998,115.150002,115.959999,117.160004,116.5,115.010002,112.650002,105.760002,103.120003,103.739998,109.690002,112.919998,113.290001,112.760002,107.720001,112.339996,110.370003,109.269997,112.309998,110.150002,112.57,114.209999,115.309998,116.279999,116.410004,113.919998,113.449997,115.209999,113.400002,114.32,115.0,114.709999,112.440002,109.059998,110.300003,109.580002,110.379997,110.779999,111.309998,110.779999,109.5,112.120003,111.599998,111.790001,110.209999,111.860001,111.040001,111.730003,113.769997,113.760002,115.5,119.080002,115.279999,114.550003,119.269997,120.529999,119.5,121.18,122.57,122.0,120.919998,121.059998,120.57,116.769997,116.110001,115.720001,112.339996,114.18,113.690002,117.290001,118.779999,119.300003,117.75,118.879997,118.029999,117.809998,118.300003,117.339996,116.279999,115.199997,119.029999,118.279999,118.230003,115.620003,116.169998,113.18,112.480003,110.489998,111.339996,108.980003,106.029999,107.330002,107.230003,108.610001,108.029999,106.82,108.739998,107.32,105.260002,105.349998,102.709999,100.699997,96.449997,96.959999,98.529999,99.959999,97.389999,99.519997,97.129997,96.660004,96.790001,96.300003,101.419998,99.440002,99.989998,93.419998,94.089996,97.339996,96.43,94.480003,96.349998,96.599998,94.019997,95.010002,94.989998,94.269997,93.699997,93.989998,96.639999,98.120003,96.260002,96.040001,96.879997,94.690002,96.099998,96.760002,96.910004,96.690002,100.529999,100.75,101.5,103.010002,101.870003,101.029999,101.120003,101.169998,102.260002,102.519997,104.580002,105.970001,105.800003,105.919998,105.910004,106.720001,106.129997,105.669998,105.190002,107.68,109.559998,108.989998,109.989998,111.120003,109.809998,110.959999,108.540001,108.660004,109.019997,110.440002,112.040001,112.099998,109.849998,107.480003,106.910004,107.129997,105.970001,105.68,105.080002,104.349998,97.82,94.830002,93.739998,93.639999,95.18,94.190002,93.239998,92.720001,92.790001,93.419998,92.510002,90.339996,90.519997,93.879997,93.489998,94.559998,94.199997,95.220001,96.43,97.900002,99.620003,100.410004,100.349998,99.860001,98.459999,97.720001,97.919998,98.629997,99.029999,98.940002,99.650002,98.830002,97.339996,97.459999,97.139999,97.550003,95.330002,95.099998,95.910004,95.550003,96.099998,93.400002,92.040001,93.589996,94.400002,95.599998,95.889999,94.989998,95.529999,95.940002,96.68,96.980003,97.419998,96.870003,98.790001,98.779999,99.830002,99.870003,99.959999,99.43,98.660004,97.339996,96.669998,102.949997,104.339996,104.209999,106.050003,104.480003,105.790001,105.870003,107.480003,108.370003,108.809998,108.0,107.93,108.18,109.480003,109.379997,109.220001,109.080002,109.360001,108.510002,108.849998,108.029999,107.57,106.940002,106.82,106.0,106.099998,106.730003,107.730003,107.699997,108.360001,105.519997,103.129997,105.440002,107.949997,111.769997,115.57,114.919998,113.580002,113.57,113.550003,114.620003,112.709999,112.879997,113.089996,113.949997,112.18,113.050003,112.519997,113.0,113.050003,113.889999,114.059998,116.050003,116.300003,117.339996,116.980003,117.629997,117.550003,117.470001,117.120003,117.059998,116.599998,117.650002,118.25,115.589996,114.480003,113.720001,113.540001,111.489998,111.589996,109.830002,108.839996,110.410004,111.059998,110.879997,107.790001,108.43,105.709999,107.110001,109.989998,109.949997,110.059998,111.730003,111.800003,111.230003,111.790001,111.57,111.459999,110.519997,109.489998,109.900002,109.110001,109.949997,111.029999,112.120003,113.949997,113.300003,115.190002,115.190002,115.82,115.970001,116.639999,116.949997,117.059998,116.290001,116.519997,117.260002,116.760002,116.730003,115.82,116.150002,116.019997,116.610001,117.910004,118.989998,119.110001,119.75,119.25,119.040001,120.0,119.989998,119.779999,120.0,120.080002,119.970001,121.879997,121.940002,121.949997,121.629997,121.349998,128.75,128.529999,129.080002,130.289993,131.529999,132.039993,132.419998,132.119995,133.289993,135.020004,135.509995,135.350006],\"high\":[128.880005,128.779999,129.029999,129.5,133.0,133.600006,131.600006,130.869995,130.570007,130.279999,129.520004,129.559998,128.75,129.369995,129.570007,127.220001,124.769997,124.900002,125.400002,124.949997,127.32,129.160004,129.25,128.399994,127.849998,128.039993,126.82,124.879997,124.699997,126.400002,126.489998,125.120003,125.559998,127.510002,128.119995,126.400002,126.580002,127.209999,128.570007,127.290001,127.129997,127.099998,126.139999,128.119995,128.199997,128.869995,130.419998,130.630005,133.130005,134.539993,131.589996,128.639999,130.130005,130.570007,128.449997,126.75,126.080002,127.620003,127.559998,126.879997,127.190002,128.949997,129.490005,130.720001,130.880005,130.979996,131.630005,132.970001,132.910004,132.259995,131.949997,131.449997,131.389999,130.660004,130.940002,130.580002,129.690002,129.210007,128.080002,129.339996,130.179993,128.330002,127.239998,127.849998,127.879997,128.309998,127.82,128.059998,127.610001,129.800003,129.199997,127.989998,126.470001,126.120003,126.940002,126.690002,126.230003,126.150002,124.639999,124.059998,123.849998,125.760002,126.370003,127.150002,128.570007,129.619995,132.970001,132.919998,125.5,127.089996,125.739998,123.610001,123.910004,123.5,122.57,122.639999,122.57,117.699997,117.440002,116.5,116.25,119.989998,118.18,115.419998,116.400002,116.309998,117.650002,117.440002,116.519997,114.349998,111.900002,108.800003,111.110001,109.889999,113.239998,113.309998,114.529999,111.879997,112.339996,112.779999,110.449997,112.559998,114.019997,113.279999,114.209999,116.889999,116.529999,116.540001,116.489998,114.300003,115.370003,114.18,114.720001,115.5,116.690002,114.57,113.510002,111.540001,109.620003,111.010002,111.370003,111.739998,111.769997,110.190002,112.279999,112.75,112.449997,111.519997,112.099998,112.0,111.75,114.169998,115.580002,115.5,119.230003,118.129997,116.540001,119.300003,120.690002,121.220001,121.360001,123.489998,123.82,122.690002,121.809998,121.809998,118.07,117.419998,116.82,115.57,114.239998,115.050003,117.489998,119.75,119.919998,119.730003,119.349998,119.230003,118.410004,119.410004,118.809998,118.110001,116.790001,119.25,119.860001,118.599998,117.690002,116.940002,115.389999,112.68,112.800003,111.989998,112.25,109.519997,107.370003,107.720001,108.849998,109.0,107.690002,109.43,108.699997,107.029999,105.370003,105.849998,102.370003,100.129997,99.110001,99.059998,100.690002,101.190002,100.480003,97.709999,98.650002,98.190002,97.879997,101.459999,101.529999,100.879997,96.629997,94.519997,97.339996,96.709999,96.040001,96.839996,97.330002,96.919998,95.699997,95.940002,96.349998,94.720001,94.5,96.849998,98.209999,98.889999,96.760002,96.900002,96.5,96.379997,96.760002,98.019997,98.230003,100.769997,100.889999,101.709999,103.75,102.830002,101.760002,101.580002,102.239998,102.279999,102.910004,105.18,106.309998,106.470001,106.5,107.650002,107.290001,107.07,106.25,106.190002,107.790001,110.419998,109.900002,110.0,112.190002,110.730003,110.980003,110.419998,109.769997,110.610001,110.5,112.339996,112.389999,112.300003,108.949997,108.0,108.089996,106.93,106.480003,105.650002,105.300003,98.709999,97.879997,94.720001,94.080002,95.739998,95.900002,94.07,93.449997,93.769997,93.57,93.57,92.779999,91.669998,94.389999,94.699997,95.209999,94.639999,95.43,97.190002,98.089996,99.739998,100.730003,100.470001,100.400002,99.540001,97.839996,98.269997,101.889999,99.870003,99.559998,99.989998,99.349998,99.120003,98.480003,98.410004,97.75,96.650002,96.57,96.349998,96.889999,96.290001,94.660004,93.050003,93.660004,94.550003,95.769997,96.470001,95.400002,95.660004,96.5,96.889999,97.650002,97.699997,97.669998,98.989998,99.300003,100.129997,100.0,100.459999,101.0,99.300003,98.839996,97.970001,104.349998,104.449997,104.550003,106.150002,106.07,105.839996,106.0,107.650002,108.370003,108.940002,108.900002,108.93,108.440002,109.540001,110.230003,109.370003,109.599998,109.690002,109.099998,109.32,108.75,107.879997,107.949997,107.440002,106.5,106.57,106.800003,108.0,108.300003,108.760002,107.269997,105.720001,105.720001,108.790001,113.029999,115.730003,116.129997,116.18,114.120003,113.989998,114.940002,114.790001,113.389999,113.18,114.639999,113.800003,113.370003,113.050003,114.309998,113.660004,114.339996,114.559998,116.75,118.690002,117.980003,117.440002,118.169998,117.839996,118.209999,117.760002,117.379997,116.910004,117.739998,118.360001,115.699997,115.860001,115.209999,114.230003,113.769997,112.349998,111.459999,110.25,110.510002,111.720001,111.32,111.089996,108.870003,107.809998,107.68,110.230003,110.349998,110.540001,111.989998,112.419998,111.510002,111.870003,112.470001,112.029999,112.199997,110.940002,110.089996,110.029999,110.360001,111.190002,112.43,114.699997,115.0,115.919998,116.199997,116.730003,116.5,117.379997,117.5,117.400002,116.510002,116.519997,117.800003,118.019997,117.110001,117.199997,116.330002,116.510002,116.860001,118.160004,119.43,119.379997,119.93,119.300003,119.620003,120.239998,120.5,120.089996,120.449997,120.809998,120.099998,122.099998,122.440002,122.349998,121.629997,121.389999,130.490005,129.389999,129.190002,130.5,132.089996,132.220001,132.449997,132.940002,133.820007,135.089996,136.270004,135.899994],\"low\":[126.919998,127.449997,128.330002,128.050003,129.660004,131.169998,128.149994,126.610001,128.240005,128.300003,128.089996,128.320007,125.760002,126.260002,125.059998,123.800003,122.110001,121.629997,122.580002,122.870003,125.650002,126.370003,127.400002,125.160004,126.519997,126.559998,123.379997,122.599998,122.910004,124.0,124.360001,123.099998,124.190002,124.330002,125.980003,124.970001,124.660004,125.260002,126.610001,125.910004,126.010002,126.110001,124.459999,125.169998,126.669998,126.32,128.139999,129.229996,131.149994,129.570007,128.300003,124.580002,125.300003,128.259995,125.779999,123.360001,124.019997,126.110001,125.629997,124.82,125.870003,127.160004,128.210007,128.360001,129.639999,129.339996,129.830002,131.399994,129.119995,130.050003,131.100006,129.899994,130.050003,129.320007,129.899994,128.910004,128.360001,126.830002,125.620003,127.849998,128.479996,127.110001,125.709999,126.370003,126.739998,127.220001,126.400002,127.080002,126.879997,127.120003,127.5,126.510002,124.480003,124.860001,125.989998,125.769997,124.849998,123.769997,122.540001,119.220001,121.209999,124.32,125.040001,125.580002,127.349998,128.309998,130.699997,130.320007,121.989998,125.059998,123.900002,122.120003,122.550003,122.269997,121.709999,120.910004,117.519997,113.25,112.099998,114.120003,114.5,116.529999,113.330002,109.629997,114.540001,114.010002,115.5,116.010002,114.68,111.629997,105.650002,92.0,103.5,105.050003,110.019997,111.540001,112.0,107.360001,109.129997,110.040001,108.510002,110.32,109.769997,109.900002,111.760002,114.860001,114.419998,115.440002,113.720001,111.870003,113.660004,112.519997,113.300003,112.370003,114.019997,112.440002,107.860001,108.730003,107.309998,107.550003,109.07,109.769997,109.410004,108.209999,109.489998,111.440002,110.68,109.559998,110.489998,110.529999,110.110001,110.82,113.699997,114.099998,116.330002,114.919998,113.989998,116.059998,118.269997,119.449997,119.610001,120.699997,121.620003,120.18,120.620003,120.050003,116.059998,115.209999,115.650002,112.269997,111.0,113.32,115.5,116.760002,118.849998,117.339996,117.120003,117.919998,117.599998,117.75,116.860001,116.080002,114.220001,115.110001,117.809998,116.860001,115.080002,115.510002,112.849998,109.790001,110.349998,108.800003,108.980003,105.809998,105.57,106.449997,107.199997,107.949997,106.18,106.860001,107.18,104.82,102.0,102.410004,99.870003,96.43,96.760002,97.339996,98.839996,97.300003,95.739998,95.360001,95.5,93.419998,94.940002,98.370003,99.209999,98.07,93.339996,92.389999,94.349998,95.400002,94.279999,94.080002,95.190002,93.690002,93.040001,93.93,94.099998,92.589996,93.010002,94.610001,96.150002,96.089996,95.800003,95.919998,94.550003,93.32,95.25,96.580002,96.650002,97.419998,99.639999,100.449997,101.370003,100.959999,100.400002,100.269997,100.150002,101.5,101.779999,103.849998,104.589996,104.959999,105.190002,105.139999,105.209999,105.900002,104.889999,105.059998,104.879997,108.599998,108.879997,108.199997,110.269997,109.419998,109.199997,108.120003,108.169998,108.830002,108.660004,110.800003,111.330002,109.730003,106.940002,106.230003,106.059998,105.519997,104.620003,104.510002,103.910004,95.68,94.25,92.510002,92.400002,93.68,93.82,92.68,91.849998,92.589996,92.110001,92.459999,89.470001,90.0,91.650002,93.010002,93.889999,93.57,94.519997,95.669998,96.839996,98.110001,98.639999,99.25,98.82,98.330002,96.629997,97.449997,97.550003,98.959999,98.68,98.459999,98.480003,97.099998,96.75,97.029999,96.07,95.300003,95.029999,94.68,95.349998,95.25,92.650002,91.5,92.139999,93.629997,94.300003,95.330002,94.459999,94.370003,95.620003,96.050003,96.730003,97.120003,96.839996,97.32,98.5,98.599998,99.339996,99.739998,99.129997,98.309998,96.919998,96.419998,102.75,102.82,103.68,104.410004,104.0,104.769997,105.279999,106.18,107.160004,108.010002,107.760002,107.849998,107.779999,108.080002,109.209999,108.339996,109.019997,108.360001,107.849998,108.529999,107.68,106.68,106.309998,106.290001,105.5,105.639999,105.620003,106.82,107.510002,107.07,105.239998,103.129997,102.529999,107.239998,108.599998,113.489998,114.040001,113.25,112.510002,112.440002,114.0,111.550003,111.550003,112.339996,113.43,111.800003,111.800003,112.279999,112.629997,112.690002,113.129997,113.510002,114.720001,116.199997,116.75,115.720001,117.129997,116.779999,117.449997,113.800003,116.330002,116.279999,117.0,117.309998,113.309998,114.099998,113.449997,113.199997,110.529999,111.230003,109.550003,108.110001,109.459999,109.699997,108.050003,105.830002,106.550003,104.080002,106.160004,106.599998,108.830002,109.660004,110.010002,111.400002,110.330002,110.949997,111.389999,110.07,110.269997,109.029999,108.849998,108.25,109.190002,109.160004,110.599998,112.309998,112.489998,113.75,114.980003,115.230003,115.650002,115.75,116.68,116.779999,115.639999,115.589996,116.489998,116.199997,116.400002,115.43,114.760002,115.75,115.809998,116.470001,117.940002,118.300003,118.599998,118.209999,118.809998,118.220001,119.709999,119.370003,119.730003,119.769997,119.5,120.279999,121.599998,121.599998,120.660004,120.620003,127.010002,127.779999,128.160004,128.899994,130.449997,131.220001,131.119995,132.050003,132.75,133.25,134.619995,134.839996],\"open\":[127.489998,127.629997,128.479996,128.619995,130.020004,132.940002,131.559998,128.789993,130.0,129.25,128.960007,129.100006,128.580002,128.399994,127.959999,126.410004,124.75,122.309998,124.400002,123.879997,125.900002,127.0,128.75,128.25,127.120003,127.230003,126.540001,122.760002,124.57,124.050003,126.089996,124.82,125.029999,124.470001,127.639999,125.849998,125.849998,125.949997,128.369995,127.0,126.410004,126.279999,125.550003,125.57,128.100006,126.989998,128.300003,130.490005,132.309998,134.460007,130.160004,128.639999,126.099998,129.5,128.149994,126.559998,124.769997,126.68,127.389999,125.599998,126.150002,127.410004,129.070007,128.380005,130.690002,130.0,130.070007,131.600006,132.600006,130.339996,131.860001,131.229996,130.279999,129.860001,130.660004,129.580002,129.5,128.899994,126.699997,127.919998,129.179993,128.190002,126.099998,127.029999,127.720001,127.230003,127.709999,127.489998,127.480003,127.209999,128.860001,127.669998,125.459999,125.57,126.900002,126.43,124.940002,125.889999,124.480003,123.849998,121.940002,125.029999,126.040001,125.720001,127.739998,129.080002,130.970001,132.850006,121.989998,126.199997,125.32,123.089996,123.379997,123.150002,122.32,122.599998,121.5,117.419998,112.949997,115.970001,114.580002,116.529999,117.809998,112.529999,116.040001,114.32,116.040001,116.43,116.099998,114.080002,110.43,94.870003,111.110001,107.089996,112.230003,112.169998,112.029999,110.150002,110.230003,112.489998,108.970001,111.75,113.760002,110.269997,111.790001,116.580002,115.93,116.25,115.660004,112.209999,113.669998,113.379997,113.629997,113.25,116.440002,113.849998,112.830002,110.169998,109.07,108.010002,109.879997,110.629997,111.739998,110.190002,110.0,112.730003,110.82,111.290001,110.93,111.779999,110.800003,111.339996,114.0,114.330002,116.699997,118.080002,115.400002,116.93,118.699997,120.989998,120.800003,120.790001,123.129997,121.849998,121.110001,120.959999,116.900002,116.370003,116.260002,115.199997,111.379997,114.919998,115.760002,117.639999,119.199997,119.269997,117.330002,119.209999,118.290001,117.989998,118.75,117.339996,116.550003,115.290001,118.980003,117.519997,117.639999,116.040001,115.190002,112.18,111.940002,111.07,112.019997,108.910004,107.279999,107.400002,107.269997,109.0,107.589996,106.959999,108.580002,107.010002,102.610001,105.75,100.559998,98.68,98.550003,98.970001,100.550003,100.32,97.959999,96.199997,98.410004,95.099998,97.059998,98.629997,101.519997,99.93,96.040001,93.790001,94.790001,96.470001,95.419998,95.0,95.860001,96.519997,93.129997,94.290001,95.919998,93.790001,94.190002,95.019997,96.669998,98.839996,96.0,96.309998,96.400002,93.980003,96.050003,97.199997,96.860001,97.650002,100.510002,100.580002,102.370003,102.389999,100.779999,101.309998,101.410004,102.239998,101.910004,103.959999,104.610001,105.519997,106.339996,105.93,105.25,106.480003,105.470001,106.0,104.889999,108.650002,109.720001,108.779999,110.419998,109.510002,110.230003,109.949997,108.910004,108.970001,109.339996,110.800003,111.620003,112.110001,108.889999,107.879997,106.639999,106.93,105.010002,105.0,103.910004,96.0,97.610001,93.989998,93.970001,94.199997,95.199997,94.0,93.370003,93.0,93.330002,93.480003,92.720001,90.0,92.389999,94.550003,94.160004,94.639999,94.639999,95.870003,97.220001,98.669998,99.68,99.440002,99.599998,99.019997,97.599998,97.790001,97.989998,99.25,99.019997,98.5,98.529999,98.690002,97.32,97.82,96.449997,96.620003,96.0,94.940002,96.25,95.940002,92.910004,93.0,92.900002,93.970001,94.440002,95.489998,95.389999,94.599998,95.699997,96.489998,96.75,97.169998,97.410004,97.389999,98.919998,98.699997,99.559998,100.0,99.830002,99.260002,98.25,96.82,104.269997,102.830002,104.190002,104.410004,106.050003,104.809998,105.580002,106.269997,107.519997,108.230003,108.709999,108.519997,107.779999,108.139999,109.629997,109.099998,109.230003,108.769997,108.860001,108.589996,108.57,107.389999,107.410004,106.620003,105.800003,105.660004,106.139999,107.699997,107.900002,107.830002,107.25,104.639999,102.650002,107.510002,108.730003,113.860001,115.120003,115.190002,113.050003,113.849998,114.349998,114.419998,111.639999,113.0,113.690002,113.160004,112.459999,112.709999,113.059998,113.400002,113.699997,114.309998,115.019997,117.699997,117.349998,116.790001,117.879997,117.330002,118.18,117.25,116.860001,116.809998,117.099998,117.949997,114.309998,115.389999,113.870003,113.650002,113.459999,111.400002,110.980003,108.529999,110.080002,110.309998,109.879997,111.089996,107.120003,107.709999,106.57,106.699997,109.809998,109.720001,110.120003,111.949997,111.360001,111.129997,111.43,110.779999,111.599998,110.370003,109.169998,110.0,109.5,109.260002,110.860001,112.309998,113.290001,113.839996,115.040001,115.379997,116.470001,115.800003,116.739998,116.800003,116.349998,115.589996,116.519997,117.519997,116.449997,116.650002,115.800003,115.849998,115.919998,116.779999,117.949997,118.769997,118.739998,118.900002,119.110001,118.339996,120.0,119.400002,120.449997,120.0,119.550003,120.419998,121.669998,122.139999,120.93,121.150002,127.029999,127.980003,128.309998,129.130005,130.539993,131.350006,131.649994,132.460007,133.080002,133.470001,135.520004,135.669998],\"x\":[\"2015-02-17\",\"2015-02-18\",\"2015-02-19\",\"2015-02-20\",\"2015-02-23\",\"2015-02-24\",\"2015-02-25\",\"2015-02-26\",\"2015-02-27\",\"2015-03-02\",\"2015-03-03\",\"2015-03-04\",\"2015-03-05\",\"2015-03-06\",\"2015-03-09\",\"2015-03-10\",\"2015-03-11\",\"2015-03-12\",\"2015-03-13\",\"2015-03-16\",\"2015-03-17\",\"2015-03-18\",\"2015-03-19\",\"2015-03-20\",\"2015-03-23\",\"2015-03-24\",\"2015-03-25\",\"2015-03-26\",\"2015-03-27\",\"2015-03-30\",\"2015-03-31\",\"2015-04-01\",\"2015-04-02\",\"2015-04-06\",\"2015-04-07\",\"2015-04-08\",\"2015-04-09\",\"2015-04-10\",\"2015-04-13\",\"2015-04-14\",\"2015-04-15\",\"2015-04-16\",\"2015-04-17\",\"2015-04-20\",\"2015-04-21\",\"2015-04-22\",\"2015-04-23\",\"2015-04-24\",\"2015-04-27\",\"2015-04-28\",\"2015-04-29\",\"2015-04-30\",\"2015-05-01\",\"2015-05-04\",\"2015-05-05\",\"2015-05-06\",\"2015-05-07\",\"2015-05-08\",\"2015-05-11\",\"2015-05-12\",\"2015-05-13\",\"2015-05-14\",\"2015-05-15\",\"2015-05-18\",\"2015-05-19\",\"2015-05-20\",\"2015-05-21\",\"2015-05-22\",\"2015-05-26\",\"2015-05-27\",\"2015-05-28\",\"2015-05-29\",\"2015-06-01\",\"2015-06-02\",\"2015-06-03\",\"2015-06-04\",\"2015-06-05\",\"2015-06-08\",\"2015-06-09\",\"2015-06-10\",\"2015-06-11\",\"2015-06-12\",\"2015-06-15\",\"2015-06-16\",\"2015-06-17\",\"2015-06-18\",\"2015-06-19\",\"2015-06-22\",\"2015-06-23\",\"2015-06-24\",\"2015-06-25\",\"2015-06-26\",\"2015-06-29\",\"2015-06-30\",\"2015-07-01\",\"2015-07-02\",\"2015-07-06\",\"2015-07-07\",\"2015-07-08\",\"2015-07-09\",\"2015-07-10\",\"2015-07-13\",\"2015-07-14\",\"2015-07-15\",\"2015-07-16\",\"2015-07-17\",\"2015-07-20\",\"2015-07-21\",\"2015-07-22\",\"2015-07-23\",\"2015-07-24\",\"2015-07-27\",\"2015-07-28\",\"2015-07-29\",\"2015-07-30\",\"2015-07-31\",\"2015-08-03\",\"2015-08-04\",\"2015-08-05\",\"2015-08-06\",\"2015-08-07\",\"2015-08-10\",\"2015-08-11\",\"2015-08-12\",\"2015-08-13\",\"2015-08-14\",\"2015-08-17\",\"2015-08-18\",\"2015-08-19\",\"2015-08-20\",\"2015-08-21\",\"2015-08-24\",\"2015-08-25\",\"2015-08-26\",\"2015-08-27\",\"2015-08-28\",\"2015-08-31\",\"2015-09-01\",\"2015-09-02\",\"2015-09-03\",\"2015-09-04\",\"2015-09-08\",\"2015-09-09\",\"2015-09-10\",\"2015-09-11\",\"2015-09-14\",\"2015-09-15\",\"2015-09-16\",\"2015-09-17\",\"2015-09-18\",\"2015-09-21\",\"2015-09-22\",\"2015-09-23\",\"2015-09-24\",\"2015-09-25\",\"2015-09-28\",\"2015-09-29\",\"2015-09-30\",\"2015-10-01\",\"2015-10-02\",\"2015-10-05\",\"2015-10-06\",\"2015-10-07\",\"2015-10-08\",\"2015-10-09\",\"2015-10-12\",\"2015-10-13\",\"2015-10-14\",\"2015-10-15\",\"2015-10-16\",\"2015-10-19\",\"2015-10-20\",\"2015-10-21\",\"2015-10-22\",\"2015-10-23\",\"2015-10-26\",\"2015-10-27\",\"2015-10-28\",\"2015-10-29\",\"2015-10-30\",\"2015-11-02\",\"2015-11-03\",\"2015-11-04\",\"2015-11-05\",\"2015-11-06\",\"2015-11-09\",\"2015-11-10\",\"2015-11-11\",\"2015-11-12\",\"2015-11-13\",\"2015-11-16\",\"2015-11-17\",\"2015-11-18\",\"2015-11-19\",\"2015-11-20\",\"2015-11-23\",\"2015-11-24\",\"2015-11-25\",\"2015-11-27\",\"2015-11-30\",\"2015-12-01\",\"2015-12-02\",\"2015-12-03\",\"2015-12-04\",\"2015-12-07\",\"2015-12-08\",\"2015-12-09\",\"2015-12-10\",\"2015-12-11\",\"2015-12-14\",\"2015-12-15\",\"2015-12-16\",\"2015-12-17\",\"2015-12-18\",\"2015-12-21\",\"2015-12-22\",\"2015-12-23\",\"2015-12-24\",\"2015-12-28\",\"2015-12-29\",\"2015-12-30\",\"2015-12-31\",\"2016-01-04\",\"2016-01-05\",\"2016-01-06\",\"2016-01-07\",\"2016-01-08\",\"2016-01-11\",\"2016-01-12\",\"2016-01-13\",\"2016-01-14\",\"2016-01-15\",\"2016-01-19\",\"2016-01-20\",\"2016-01-21\",\"2016-01-22\",\"2016-01-25\",\"2016-01-26\",\"2016-01-27\",\"2016-01-28\",\"2016-01-29\",\"2016-02-01\",\"2016-02-02\",\"2016-02-03\",\"2016-02-04\",\"2016-02-05\",\"2016-02-08\",\"2016-02-09\",\"2016-02-10\",\"2016-02-11\",\"2016-02-12\",\"2016-02-16\",\"2016-02-17\",\"2016-02-18\",\"2016-02-19\",\"2016-02-22\",\"2016-02-23\",\"2016-02-24\",\"2016-02-25\",\"2016-02-26\",\"2016-02-29\",\"2016-03-01\",\"2016-03-02\",\"2016-03-03\",\"2016-03-04\",\"2016-03-07\",\"2016-03-08\",\"2016-03-09\",\"2016-03-10\",\"2016-03-11\",\"2016-03-14\",\"2016-03-15\",\"2016-03-16\",\"2016-03-17\",\"2016-03-18\",\"2016-03-21\",\"2016-03-22\",\"2016-03-23\",\"2016-03-24\",\"2016-03-28\",\"2016-03-29\",\"2016-03-30\",\"2016-03-31\",\"2016-04-01\",\"2016-04-04\",\"2016-04-05\",\"2016-04-06\",\"2016-04-07\",\"2016-04-08\",\"2016-04-11\",\"2016-04-12\",\"2016-04-13\",\"2016-04-14\",\"2016-04-15\",\"2016-04-18\",\"2016-04-19\",\"2016-04-20\",\"2016-04-21\",\"2016-04-22\",\"2016-04-25\",\"2016-04-26\",\"2016-04-27\",\"2016-04-28\",\"2016-04-29\",\"2016-05-02\",\"2016-05-03\",\"2016-05-04\",\"2016-05-05\",\"2016-05-06\",\"2016-05-09\",\"2016-05-10\",\"2016-05-11\",\"2016-05-12\",\"2016-05-13\",\"2016-05-16\",\"2016-05-17\",\"2016-05-18\",\"2016-05-19\",\"2016-05-20\",\"2016-05-23\",\"2016-05-24\",\"2016-05-25\",\"2016-05-26\",\"2016-05-27\",\"2016-05-31\",\"2016-06-01\",\"2016-06-02\",\"2016-06-03\",\"2016-06-06\",\"2016-06-07\",\"2016-06-08\",\"2016-06-09\",\"2016-06-10\",\"2016-06-13\",\"2016-06-14\",\"2016-06-15\",\"2016-06-16\",\"2016-06-17\",\"2016-06-20\",\"2016-06-21\",\"2016-06-22\",\"2016-06-23\",\"2016-06-24\",\"2016-06-27\",\"2016-06-28\",\"2016-06-29\",\"2016-06-30\",\"2016-07-01\",\"2016-07-05\",\"2016-07-06\",\"2016-07-07\",\"2016-07-08\",\"2016-07-11\",\"2016-07-12\",\"2016-07-13\",\"2016-07-14\",\"2016-07-15\",\"2016-07-18\",\"2016-07-19\",\"2016-07-20\",\"2016-07-21\",\"2016-07-22\",\"2016-07-25\",\"2016-07-26\",\"2016-07-27\",\"2016-07-28\",\"2016-07-29\",\"2016-08-01\",\"2016-08-02\",\"2016-08-03\",\"2016-08-04\",\"2016-08-05\",\"2016-08-08\",\"2016-08-09\",\"2016-08-10\",\"2016-08-11\",\"2016-08-12\",\"2016-08-15\",\"2016-08-16\",\"2016-08-17\",\"2016-08-18\",\"2016-08-19\",\"2016-08-22\",\"2016-08-23\",\"2016-08-24\",\"2016-08-25\",\"2016-08-26\",\"2016-08-29\",\"2016-08-30\",\"2016-08-31\",\"2016-09-01\",\"2016-09-02\",\"2016-09-06\",\"2016-09-07\",\"2016-09-08\",\"2016-09-09\",\"2016-09-12\",\"2016-09-13\",\"2016-09-14\",\"2016-09-15\",\"2016-09-16\",\"2016-09-19\",\"2016-09-20\",\"2016-09-21\",\"2016-09-22\",\"2016-09-23\",\"2016-09-26\",\"2016-09-27\",\"2016-09-28\",\"2016-09-29\",\"2016-09-30\",\"2016-10-03\",\"2016-10-04\",\"2016-10-05\",\"2016-10-06\",\"2016-10-07\",\"2016-10-10\",\"2016-10-11\",\"2016-10-12\",\"2016-10-13\",\"2016-10-14\",\"2016-10-17\",\"2016-10-18\",\"2016-10-19\",\"2016-10-20\",\"2016-10-21\",\"2016-10-24\",\"2016-10-25\",\"2016-10-26\",\"2016-10-27\",\"2016-10-28\",\"2016-10-31\",\"2016-11-01\",\"2016-11-02\",\"2016-11-03\",\"2016-11-04\",\"2016-11-07\",\"2016-11-08\",\"2016-11-09\",\"2016-11-10\",\"2016-11-11\",\"2016-11-14\",\"2016-11-15\",\"2016-11-16\",\"2016-11-17\",\"2016-11-18\",\"2016-11-21\",\"2016-11-22\",\"2016-11-23\",\"2016-11-25\",\"2016-11-28\",\"2016-11-29\",\"2016-11-30\",\"2016-12-01\",\"2016-12-02\",\"2016-12-05\",\"2016-12-06\",\"2016-12-07\",\"2016-12-08\",\"2016-12-09\",\"2016-12-12\",\"2016-12-13\",\"2016-12-14\",\"2016-12-15\",\"2016-12-16\",\"2016-12-19\",\"2016-12-20\",\"2016-12-21\",\"2016-12-22\",\"2016-12-23\",\"2016-12-27\",\"2016-12-28\",\"2016-12-29\",\"2016-12-30\",\"2017-01-03\",\"2017-01-04\",\"2017-01-05\",\"2017-01-06\",\"2017-01-09\",\"2017-01-10\",\"2017-01-11\",\"2017-01-12\",\"2017-01-13\",\"2017-01-17\",\"2017-01-18\",\"2017-01-19\",\"2017-01-20\",\"2017-01-23\",\"2017-01-24\",\"2017-01-25\",\"2017-01-26\",\"2017-01-27\",\"2017-01-30\",\"2017-01-31\",\"2017-02-01\",\"2017-02-02\",\"2017-02-03\",\"2017-02-06\",\"2017-02-07\",\"2017-02-08\",\"2017-02-09\",\"2017-02-10\",\"2017-02-13\",\"2017-02-14\",\"2017-02-15\",\"2017-02-16\"],\"type\":\"candlestick\"}],                        {\"template\":{\"data\":{\"bar\":[{\"error_x\":{\"color\":\"#2a3f5f\"},\"error_y\":{\"color\":\"#2a3f5f\"},\"marker\":{\"line\":{\"color\":\"#E5ECF6\",\"width\":0.5},\"pattern\":{\"fillmode\":\"overlay\",\"size\":10,\"solidity\":0.2}},\"type\":\"bar\"}],\"barpolar\":[{\"marker\":{\"line\":{\"color\":\"#E5ECF6\",\"width\":0.5},\"pattern\":{\"fillmode\":\"overlay\",\"size\":10,\"solidity\":0.2}},\"type\":\"barpolar\"}],\"carpet\":[{\"aaxis\":{\"endlinecolor\":\"#2a3f5f\",\"gridcolor\":\"white\",\"linecolor\":\"white\",\"minorgridcolor\":\"white\",\"startlinecolor\":\"#2a3f5f\"},\"baxis\":{\"endlinecolor\":\"#2a3f5f\",\"gridcolor\":\"white\",\"linecolor\":\"white\",\"minorgridcolor\":\"white\",\"startlinecolor\":\"#2a3f5f\"},\"type\":\"carpet\"}],\"choropleth\":[{\"colorbar\":{\"outlinewidth\":0,\"ticks\":\"\"},\"type\":\"choropleth\"}],\"contour\":[{\"colorbar\":{\"outlinewidth\":0,\"ticks\":\"\"},\"colorscale\":[[0.0,\"#0d0887\"],[0.1111111111111111,\"#46039f\"],[0.2222222222222222,\"#7201a8\"],[0.3333333333333333,\"#9c179e\"],[0.4444444444444444,\"#bd3786\"],[0.5555555555555556,\"#d8576b\"],[0.6666666666666666,\"#ed7953\"],[0.7777777777777778,\"#fb9f3a\"],[0.8888888888888888,\"#fdca26\"],[1.0,\"#f0f921\"]],\"type\":\"contour\"}],\"contourcarpet\":[{\"colorbar\":{\"outlinewidth\":0,\"ticks\":\"\"},\"type\":\"contourcarpet\"}],\"heatmap\":[{\"colorbar\":{\"outlinewidth\":0,\"ticks\":\"\"},\"colorscale\":[[0.0,\"#0d0887\"],[0.1111111111111111,\"#46039f\"],[0.2222222222222222,\"#7201a8\"],[0.3333333333333333,\"#9c179e\"],[0.4444444444444444,\"#bd3786\"],[0.5555555555555556,\"#d8576b\"],[0.6666666666666666,\"#ed7953\"],[0.7777777777777778,\"#fb9f3a\"],[0.8888888888888888,\"#fdca26\"],[1.0,\"#f0f921\"]],\"type\":\"heatmap\"}],\"heatmapgl\":[{\"colorbar\":{\"outlinewidth\":0,\"ticks\":\"\"},\"colorscale\":[[0.0,\"#0d0887\"],[0.1111111111111111,\"#46039f\"],[0.2222222222222222,\"#7201a8\"],[0.3333333333333333,\"#9c179e\"],[0.4444444444444444,\"#bd3786\"],[0.5555555555555556,\"#d8576b\"],[0.6666666666666666,\"#ed7953\"],[0.7777777777777778,\"#fb9f3a\"],[0.8888888888888888,\"#fdca26\"],[1.0,\"#f0f921\"]],\"type\":\"heatmapgl\"}],\"histogram\":[{\"marker\":{\"pattern\":{\"fillmode\":\"overlay\",\"size\":10,\"solidity\":0.2}},\"type\":\"histogram\"}],\"histogram2d\":[{\"colorbar\":{\"outlinewidth\":0,\"ticks\":\"\"},\"colorscale\":[[0.0,\"#0d0887\"],[0.1111111111111111,\"#46039f\"],[0.2222222222222222,\"#7201a8\"],[0.3333333333333333,\"#9c179e\"],[0.4444444444444444,\"#bd3786\"],[0.5555555555555556,\"#d8576b\"],[0.6666666666666666,\"#ed7953\"],[0.7777777777777778,\"#fb9f3a\"],[0.8888888888888888,\"#fdca26\"],[1.0,\"#f0f921\"]],\"type\":\"histogram2d\"}],\"histogram2dcontour\":[{\"colorbar\":{\"outlinewidth\":0,\"ticks\":\"\"},\"colorscale\":[[0.0,\"#0d0887\"],[0.1111111111111111,\"#46039f\"],[0.2222222222222222,\"#7201a8\"],[0.3333333333333333,\"#9c179e\"],[0.4444444444444444,\"#bd3786\"],[0.5555555555555556,\"#d8576b\"],[0.6666666666666666,\"#ed7953\"],[0.7777777777777778,\"#fb9f3a\"],[0.8888888888888888,\"#fdca26\"],[1.0,\"#f0f921\"]],\"type\":\"histogram2dcontour\"}],\"mesh3d\":[{\"colorbar\":{\"outlinewidth\":0,\"ticks\":\"\"},\"type\":\"mesh3d\"}],\"parcoords\":[{\"line\":{\"colorbar\":{\"outlinewidth\":0,\"ticks\":\"\"}},\"type\":\"parcoords\"}],\"pie\":[{\"automargin\":true,\"type\":\"pie\"}],\"scatter\":[{\"marker\":{\"colorbar\":{\"outlinewidth\":0,\"ticks\":\"\"}},\"type\":\"scatter\"}],\"scatter3d\":[{\"line\":{\"colorbar\":{\"outlinewidth\":0,\"ticks\":\"\"}},\"marker\":{\"colorbar\":{\"outlinewidth\":0,\"ticks\":\"\"}},\"type\":\"scatter3d\"}],\"scattercarpet\":[{\"marker\":{\"colorbar\":{\"outlinewidth\":0,\"ticks\":\"\"}},\"type\":\"scattercarpet\"}],\"scattergeo\":[{\"marker\":{\"colorbar\":{\"outlinewidth\":0,\"ticks\":\"\"}},\"type\":\"scattergeo\"}],\"scattergl\":[{\"marker\":{\"colorbar\":{\"outlinewidth\":0,\"ticks\":\"\"}},\"type\":\"scattergl\"}],\"scattermapbox\":[{\"marker\":{\"colorbar\":{\"outlinewidth\":0,\"ticks\":\"\"}},\"type\":\"scattermapbox\"}],\"scatterpolar\":[{\"marker\":{\"colorbar\":{\"outlinewidth\":0,\"ticks\":\"\"}},\"type\":\"scatterpolar\"}],\"scatterpolargl\":[{\"marker\":{\"colorbar\":{\"outlinewidth\":0,\"ticks\":\"\"}},\"type\":\"scatterpolargl\"}],\"scatterternary\":[{\"marker\":{\"colorbar\":{\"outlinewidth\":0,\"ticks\":\"\"}},\"type\":\"scatterternary\"}],\"surface\":[{\"colorbar\":{\"outlinewidth\":0,\"ticks\":\"\"},\"colorscale\":[[0.0,\"#0d0887\"],[0.1111111111111111,\"#46039f\"],[0.2222222222222222,\"#7201a8\"],[0.3333333333333333,\"#9c179e\"],[0.4444444444444444,\"#bd3786\"],[0.5555555555555556,\"#d8576b\"],[0.6666666666666666,\"#ed7953\"],[0.7777777777777778,\"#fb9f3a\"],[0.8888888888888888,\"#fdca26\"],[1.0,\"#f0f921\"]],\"type\":\"surface\"}],\"table\":[{\"cells\":{\"fill\":{\"color\":\"#EBF0F8\"},\"line\":{\"color\":\"white\"}},\"header\":{\"fill\":{\"color\":\"#C8D4E3\"},\"line\":{\"color\":\"white\"}},\"type\":\"table\"}]},\"layout\":{\"annotationdefaults\":{\"arrowcolor\":\"#2a3f5f\",\"arrowhead\":0,\"arrowwidth\":1},\"autotypenumbers\":\"strict\",\"coloraxis\":{\"colorbar\":{\"outlinewidth\":0,\"ticks\":\"\"}},\"colorscale\":{\"diverging\":[[0,\"#8e0152\"],[0.1,\"#c51b7d\"],[0.2,\"#de77ae\"],[0.3,\"#f1b6da\"],[0.4,\"#fde0ef\"],[0.5,\"#f7f7f7\"],[0.6,\"#e6f5d0\"],[0.7,\"#b8e186\"],[0.8,\"#7fbc41\"],[0.9,\"#4d9221\"],[1,\"#276419\"]],\"sequential\":[[0.0,\"#0d0887\"],[0.1111111111111111,\"#46039f\"],[0.2222222222222222,\"#7201a8\"],[0.3333333333333333,\"#9c179e\"],[0.4444444444444444,\"#bd3786\"],[0.5555555555555556,\"#d8576b\"],[0.6666666666666666,\"#ed7953\"],[0.7777777777777778,\"#fb9f3a\"],[0.8888888888888888,\"#fdca26\"],[1.0,\"#f0f921\"]],\"sequentialminus\":[[0.0,\"#0d0887\"],[0.1111111111111111,\"#46039f\"],[0.2222222222222222,\"#7201a8\"],[0.3333333333333333,\"#9c179e\"],[0.4444444444444444,\"#bd3786\"],[0.5555555555555556,\"#d8576b\"],[0.6666666666666666,\"#ed7953\"],[0.7777777777777778,\"#fb9f3a\"],[0.8888888888888888,\"#fdca26\"],[1.0,\"#f0f921\"]]},\"colorway\":[\"#636efa\",\"#EF553B\",\"#00cc96\",\"#ab63fa\",\"#FFA15A\",\"#19d3f3\",\"#FF6692\",\"#B6E880\",\"#FF97FF\",\"#FECB52\"],\"font\":{\"color\":\"#2a3f5f\"},\"geo\":{\"bgcolor\":\"white\",\"lakecolor\":\"white\",\"landcolor\":\"#E5ECF6\",\"showlakes\":true,\"showland\":true,\"subunitcolor\":\"white\"},\"hoverlabel\":{\"align\":\"left\"},\"hovermode\":\"closest\",\"mapbox\":{\"style\":\"light\"},\"paper_bgcolor\":\"white\",\"plot_bgcolor\":\"#E5ECF6\",\"polar\":{\"angularaxis\":{\"gridcolor\":\"white\",\"linecolor\":\"white\",\"ticks\":\"\"},\"bgcolor\":\"#E5ECF6\",\"radialaxis\":{\"gridcolor\":\"white\",\"linecolor\":\"white\",\"ticks\":\"\"}},\"scene\":{\"xaxis\":{\"backgroundcolor\":\"#E5ECF6\",\"gridcolor\":\"white\",\"gridwidth\":2,\"linecolor\":\"white\",\"showbackground\":true,\"ticks\":\"\",\"zerolinecolor\":\"white\"},\"yaxis\":{\"backgroundcolor\":\"#E5ECF6\",\"gridcolor\":\"white\",\"gridwidth\":2,\"linecolor\":\"white\",\"showbackground\":true,\"ticks\":\"\",\"zerolinecolor\":\"white\"},\"zaxis\":{\"backgroundcolor\":\"#E5ECF6\",\"gridcolor\":\"white\",\"gridwidth\":2,\"linecolor\":\"white\",\"showbackground\":true,\"ticks\":\"\",\"zerolinecolor\":\"white\"}},\"shapedefaults\":{\"line\":{\"color\":\"#2a3f5f\"}},\"ternary\":{\"aaxis\":{\"gridcolor\":\"white\",\"linecolor\":\"white\",\"ticks\":\"\"},\"baxis\":{\"gridcolor\":\"white\",\"linecolor\":\"white\",\"ticks\":\"\"},\"bgcolor\":\"#E5ECF6\",\"caxis\":{\"gridcolor\":\"white\",\"linecolor\":\"white\",\"ticks\":\"\"}},\"title\":{\"x\":0.05},\"xaxis\":{\"automargin\":true,\"gridcolor\":\"white\",\"linecolor\":\"white\",\"ticks\":\"\",\"title\":{\"standoff\":15},\"zerolinecolor\":\"white\",\"zerolinewidth\":2},\"yaxis\":{\"automargin\":true,\"gridcolor\":\"white\",\"linecolor\":\"white\",\"ticks\":\"\",\"title\":{\"standoff\":15},\"zerolinecolor\":\"white\",\"zerolinewidth\":2}}}},                        {\"responsive\": true}                    ).then(function(){\n",
       "                            \n",
       "var gd = document.getElementById('f28aaf7d-ab0e-4c65-84f8-85a6846b7a11');\n",
       "var x = new MutationObserver(function (mutations, observer) {{\n",
       "        var display = window.getComputedStyle(gd).display;\n",
       "        if (!display || display === 'none') {{\n",
       "            console.log([gd, 'removed!']);\n",
       "            Plotly.purge(gd);\n",
       "            observer.disconnect();\n",
       "        }}\n",
       "}});\n",
       "\n",
       "// Listen for the removal of the full notebook cells\n",
       "var notebookContainer = gd.closest('#notebook-container');\n",
       "if (notebookContainer) {{\n",
       "    x.observe(notebookContainer, {childList: true});\n",
       "}}\n",
       "\n",
       "// Listen for the clearing of the current output cell\n",
       "var outputEl = gd.closest('.output');\n",
       "if (outputEl) {{\n",
       "    x.observe(outputEl, {childList: true});\n",
       "}}\n",
       "\n",
       "                        })                };                });            </script>        </div>"
      ]
     },
     "metadata": {},
     "output_type": "display_data"
    }
   ],
   "source": [
    "# go.Candlestick 을 그립니다.\n",
    "import plotly.graph_objects as go\n",
    "\n",
    "df = pd.read_csv('https://raw.githubusercontent.com/plotly/datasets/master/finance-charts-apple.csv')\n",
    "df\n",
    "\n",
    "fig = go.Figure(data=[go.Candlestick(x=df['Date'],\n",
    "                open=df['AAPL.Open'],\n",
    "                high=df['AAPL.High'],\n",
    "                low=df['AAPL.Low'],\n",
    "                close=df['AAPL.Close'])])\n",
    "\n",
    "fig.show()"
   ]
  },
  {
   "cell_type": "code",
   "execution_count": null,
   "id": "9df08abf",
   "metadata": {},
   "outputs": [],
   "source": []
  }
 ],
 "metadata": {
  "kernelspec": {
   "display_name": "Python 3",
   "language": "python",
   "name": "python3"
  },
  "language_info": {
   "codemirror_mode": {
    "name": "ipython",
    "version": 3
   },
   "file_extension": ".py",
   "mimetype": "text/x-python",
   "name": "python",
   "nbconvert_exporter": "python",
   "pygments_lexer": "ipython3",
   "version": "3.8.8"
  }
 },
 "nbformat": 4,
 "nbformat_minor": 5
}
